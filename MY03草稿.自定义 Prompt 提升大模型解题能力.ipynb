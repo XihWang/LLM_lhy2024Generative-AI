{
 "cells": [
  {
   "cell_type": "code",
   "execution_count": 1,
   "id": "783cc121-7079-4775-8e6e-84e6f9144814",
   "metadata": {},
   "outputs": [],
   "source": [
    "import os\n",
    "import time\n",
    "import re\n",
    "import pickle\n",
    "import json\n",
    "import traceback\n",
    "\n",
    "import openai\n",
    "import tiktoken  # 用于 prompt_token_num()\n",
    "import jinja2\n",
    "from tqdm import tqdm"
   ]
  },
  {
   "cell_type": "code",
   "execution_count": 2,
   "id": "75161a04-ad0f-488e-8ad3-5c8e3ef50b21",
   "metadata": {},
   "outputs": [
    {
     "name": "stdout",
     "output_type": "stream",
     "text": [
      "good\n"
     ]
    }
   ],
   "source": [
    "OPEN_API_KEY = 'sk-996c9b87a8f74b42825211b62635769c'\n",
    "\n",
    "client = openai.OpenAI(\n",
    "    api_key = OPEN_API_KEY,\n",
    "    base_url = \"https://dashscope.aliyuncs.com/compatible-mode/v1\"\n",
    ")\n",
    "\n",
    "try:\n",
    "    response = client.chat.completions.create(\n",
    "        model = 'qwen-turbo',\n",
    "        messages = [{'role':'user','content':'hello'}],\n",
    "        max_tokens = 1,\n",
    "    \n",
    "    )\n",
    "    print('good')\n",
    "\n",
    "except Exception as e:\n",
    "    print(f'bad {e}')"
   ]
  },
  {
   "cell_type": "code",
   "execution_count": 7,
   "id": "8c038bfe-afa7-47b9-afce-75bff8dd85f5",
   "metadata": {},
   "outputs": [
    {
     "ename": "AssertionError",
     "evalue": "",
     "output_type": "error",
     "traceback": [
      "\u001b[1;31m---------------------------------------------------------------------------\u001b[0m",
      "\u001b[1;31mAssertionError\u001b[0m                            Traceback (most recent call last)",
      "Cell \u001b[1;32mIn[7], line 2\u001b[0m\n\u001b[0;32m      1\u001b[0m a\u001b[38;5;241m=\u001b[39m\u001b[38;5;241m5\u001b[39m\n\u001b[1;32m----> 2\u001b[0m \u001b[38;5;28;01massert\u001b[39;00m a\u001b[38;5;241m>\u001b[39m\u001b[38;5;241m6\u001b[39m\n",
      "\u001b[1;31mAssertionError\u001b[0m: "
     ]
    }
   ],
   "source": [
    "a=5\n",
    "assert a>6"
   ]
  },
  {
   "cell_type": "code",
   "execution_count": 6,
   "id": "65ebfac1-f450-4868-9a7b-9183f86eb8c0",
   "metadata": {},
   "outputs": [],
   "source": [
    "a=5\n",
    "assert a>4"
   ]
  },
  {
   "cell_type": "code",
   "execution_count": 8,
   "id": "37214751-1db3-465f-931b-1a198270864f",
   "metadata": {},
   "outputs": [
    {
     "ename": "AssertionError",
     "evalue": "",
     "output_type": "error",
     "traceback": [
      "\u001b[1;31m---------------------------------------------------------------------------\u001b[0m",
      "\u001b[1;31mAssertionError\u001b[0m                            Traceback (most recent call last)",
      "Cell \u001b[1;32mIn[8], line 1\u001b[0m\n\u001b[1;32m----> 1\u001b[0m \u001b[38;5;28;01massert\u001b[39;00m \u001b[38;5;28;01mFalse\u001b[39;00m\n",
      "\u001b[1;31mAssertionError\u001b[0m: "
     ]
    }
   ],
   "source": [
    "assert False"
   ]
  },
  {
   "cell_type": "code",
   "execution_count": 3,
   "id": "97f53c23-adf6-4368-960a-7725466ad9bf",
   "metadata": {},
   "outputs": [],
   "source": [
    "class OpenAIModel:\n",
    "    def __init__(self, cache_file = 'openai_cache'):\n",
    "        self.cache_file = cache_file\n",
    "        self.cache_dict = self.load_cache()\n",
    "\n",
    "    def save_cache(self):\n",
    "        with open(self.cache_file, 'wb') as f:\n",
    "            pickle.dump(self.cache_dict , f)\n",
    "\n",
    "    def load_cache(self, allow_retry = True):\n",
    "        if os.path.exists(self.cache_file):\n",
    "            while True:\n",
    "                try:\n",
    "                    with open(self.cache_file, 'rb') as f:\n",
    "                        cache = pickle.load(f)\n",
    "                    break\n",
    "                except Exception:\n",
    "                    if not allow_retry:\n",
    "                        assert False\n",
    "                    print('Pickle error 2秒后重试')\n",
    "                    time.sleep(2)\n",
    "\n",
    "        else:\n",
    "            cache = {}\n",
    "        return cache\n",
    "    def set_cache_file(self, file_name):\n",
    "        self.cache_file = file_name\n",
    "        self.cache_dict = self.load_cache()\n",
    "\n",
    "    def get_completion(self, content):\n",
    "        for _ in range(3):\n",
    "            try:\n",
    "                response = client.chat.completions.create(\n",
    "                    model = 'qwen-turbo',\n",
    "                    messages = [{'role':'user', 'content':content}]\n",
    "                    ,temperature=1.\n",
    "                )\n",
    "                completion = response.choices[0].message.content\n",
    "                self.cache_dict[content] = response\n",
    "                return completion\n",
    "            except Exception as e:\n",
    "                print(e,'\\n')\n",
    "                time.sleep(2)\n",
    "        return None\n",
    "\n",
    "    def is_valid_key(self):\n",
    "        # 检查 API 密钥是否有效\n",
    "        for _ in range(4):\n",
    "            try:\n",
    "                response = client.chat.completions.create(\n",
    "                    model=\"qwen-turbo\",\n",
    "                    messages=[{'role': 'user', 'content': \"hi there\"}],\n",
    "                    temperature=1.0,\n",
    "                    max_tokens=1\n",
    "                )\n",
    "                return True\n",
    "            except Exception as e:\n",
    "                traceback.print_exc()\n",
    "                time.sleep(1)\n",
    "        return False\n",
    "\n",
    "    def prompt_token_num(self, prompt):\n",
    "        # 使用 tiktoken 来计算 token 数量\n",
    "        try:\n",
    "            # 使用 gpt-3.5-turbo 的编码器，因为 tiktoken 库不支持自动识别 qwen-turbo 模型\n",
    "            encoding = tiktoken.get_encoding(\"cl100k_base\")  # 这是 GPT-3.5-turbo 所使用的编码器\n",
    "            # 将 prompt 编码成 token，并返回 token 数量\n",
    "            tokens = encoding.encode(prompt)\n",
    "            return len(tokens)\n",
    "        except Exception as e:\n",
    "            print(f\"计算 token 数量时出错: {e}\")\n",
    "            return 0\n",
    "\n",
    "    def two_stage_completion(self, question, content):\n",
    "        # 两阶段完成：首先获取推理，再获取最终答案\n",
    "        rationale = self.get_completion(content)\n",
    "        if not rationale:\n",
    "            return {\n",
    "                'prompt': content,\n",
    "                'rationale': None,\n",
    "                'answer': None\n",
    "            }\n",
    "\n",
    "        ans = self.get_completion(content=f\"Q:{question}\\nA:{rationale}\\nThe answer to the original question is (a number only): \")\n",
    "        return {\n",
    "            'prompt': content,\n",
    "            'rationale': rationale,\n",
    "            'answer': ans\n",
    "        }\n",
    "\n",
    "# 初始化模型\n",
    "my_model = OpenAIModel()"
   ]
  },
  {
   "cell_type": "code",
   "execution_count": 4,
   "id": "04cdb59b-1d5b-419a-aa08-7331c401ab7f",
   "metadata": {},
   "outputs": [],
   "source": [
    "questions = ['一位艺术家正在使用方形瓷砖创建一个大型马赛克。马赛克本身设计成一个正方形，并且包含的蓝色瓷砖数量恰好是红色瓷砖的3倍。如果艺术家只有57块红色瓷砖，那么要完成整个马赛克共需要多少块瓷砖？',\n",
    " '一位农民正在为当地市场装苹果。他有120个苹果，并希望将它们均匀分配到篮子中。如果他决定留15个苹果给家人，每个篮子最多能装7个苹果，那么他最少需要多少个篮子才能将苹果带到市场？',\n",
    " '一个花园有矩形的地块，这些地块排列成一条直线，每块地与正好两块其他的地共用边界。共有5块地。中间的每块地面积为24平方米，地块的宽度为4米，所有地块的宽度保持不变。第一块地的长度是中间地块的两倍，最后一块地的长度是中间地块的一半。那么所有地块的总面积是多少平方米？',\n",
    " '一个农贸市场出售两种类型的苹果混合袋：A型袋子包含4个红苹果和6个绿苹果，B型袋子包含8个红苹果和4个绿苹果。一位顾客购买了一袋A型和一袋B型的苹果。如果从这两袋苹果中随机挑选一个苹果，选到绿苹果的概率是多少？请将答案保留到小数点后两位。',\n",
    " '一位园丁按照两朵红色花跟着一朵黄色花的模式种花。如果园丁想保持这种模式，并且有35个连续的空位来种花，那么园丁会种多少朵红色花？',\n",
    " '杰森正在为马拉松训练，他每天跑固定的距离。星期一，他跑了5英里。之后的每一天，他将跑步距离增加10%。如果杰森按照这个模式继续跑步，那么他在星期五将跑多少英里？',\n",
    " '在一个三角形的花坛边上，每条边上有16棵植物。每棵植物都需要一个半径为0.5米的圆形空间才能正常生长。假设植物紧挨着排列，并且沿着三角形花坛的边排成一条直线，那么每条边上种植物的线性距离是多少米？',\n",
    " '威尔逊博士正在设计一个几何花园，花园中的花朵围绕着中央的喷泉排列成同心圆。每一圈比里面一圈多6朵花，形成一个六边形的图案。最里面一圈有6朵花。如果威尔逊博士种足够的花，形成15圈（包括最里面一圈），那么这个花园总共需要多少朵花？',\n",
    " '一个小图书馆正在重新整理书籍收藏。他们总共有120本书，计划平均分配到5个书架上。最上面的书架只能承受相当于最下面书架一半重量的书。如果最上面的书架承载15磅的书，而其他书架每个能承载两倍的重量，那么最下面的书架能承载多少磅的书？',\n",
    " '一份饼干的配方需要3杯面粉、2杯糖和1杯巧克力片。如果马克想要做三倍量的饼干，但只有4杯糖，那么他还需要多少杯糖？',\n",
    " '一家宠物店的店主正在制作定制鸟舍。每个鸟舍外部需要0.75升木材清漆。如果店主有一罐10升的木材清漆，那么他在需要更多清漆之前最多可以制作多少个鸟舍？',\n",
    " '一个农场有鸡和牛。总共有30个头，88条腿。农场上有多少头牛？',\n",
    " '一个地方图书馆正在组织一场旧书义卖会，以筹集资金购买新书。他们以每本2美元的价格卖出120本儿童书，以每本3美元的价格卖出75本小说，并以每本1.50美元的价格卖出了小说两倍数量的杂志。他们还以每本0.50美元的价格卖出与书籍和杂志总数相等的书签。那么图书馆总共筹集了多少钱？',\n",
    " '一个当地的农民正在为市场准备混合水果篮，每个篮子包含3个苹果、5个橙子和2个香蕉。苹果的价格是每个0.50美元，橙子每个0.30美元，香蕉每个0.25美元。如果农民为当地市场准备了120个篮子，并以每个5.00美元的价格出售每个篮子，那么卖完所有篮子后，农民将获得多少利润？',\n",
    " '玛丽亚有24个苹果，想将它们均匀分给她的6个朋友。如果每个朋友还要再给老师2个苹果，那么每个朋友剩下多少苹果？',\n",
    " '莉拉正在计划一个花园，想要种三种花：雏菊、郁金香和玫瑰。她想要的雏菊数量是郁金香的两倍，郁金香的数量是玫瑰的三倍。如果她总共要种60朵花，那么她计划种多少朵玫瑰？',\n",
    " '一个花园有三种开花植物。第一种每株有12朵花，第二种每株有8朵花，第三种每株有15朵花。如果第一种植物的数量是第二种植物的两倍，第三种植物的数量是第一种植物的一半，并且花园中有16株第二种植物，那么花园里一共有多少朵花？',\n",
    " '在一个棋盘游戏中，从一个方格转移到另一个方格的费用是你要落在的方格号码的硬币数。第一个方格是1号，第二个方格是2号，以此类推。如果一个玩家从5号方格移动到9号方格，再到14号方格，最后到20号方格，他总共花费了多少枚硬币？',\n",
    " '一个景观公司在两个公园种植树木。在A公园，他们种了5排，每排6棵树。在B公园，他们种了3排，每排7棵树。然而，B公园的4棵树没有成活，必须移除。移除之后，总共剩下多少棵树？',\n",
    " '欧拉博士正在计划一场数学比赛，他决定将参与者分成几组。为了保证公平，每组必须有相同数量的参与者。如果欧拉博士可以选择将参与者分成4人、5人或6人的组，并且参与者总数少于100人，那么他最多可以有多少参与者，确保无论怎么分组都不会有剩余？',\n",
    " '一个农民为万圣节种植南瓜。他种了8排，每排15棵南瓜植株。每棵植株平均产出3个南瓜。收获后，农民将20%的南瓜卖给当地市场，剩下的在他的农场摊位上出售。如果每个南瓜卖4美元，农民通过销售南瓜总共赚了多少钱？',\n",
    " '一个三角形公园ABC的边缘上种植了树木。边AB上的树木数量等于边BC的长度，边BC上的树木数量等于边CA的长度，边CA上的树木数量等于边AB的长度。如果边AB、BC和CA（以米为单位）的长度构成一个公比为2的几何级数，并且总共种植了77棵树，求边AB的长度。',\n",
    " '一群朋友正在收集可回收的罐子。玛雅收集的罐子是利亚姆的两倍。利亚姆收集了15个罐子。如果佐伊比玛雅多收集了5个罐子，并且这群朋友想把罐子平分给4家慈善机构，每家会收到多少个罐子？',\n",
    " '在一场科学比赛中，每个团队需要制作一个模型火箭。有6个团队，每个团队需要一套材料。材料包括火箭的主体管、引擎和降落伞。主体管每个12.50美元，引擎每个18.75美元，降落伞每个6.25美元。购买所有团队的材料后，总费用为225美元。制作一支火箭的材料费用是多少？',\n",
    " '艾米丽有一个小菜园，种植了番茄、胡萝卜和黄瓜。她的番茄植株数量是黄瓜植株的两倍，而胡萝卜植株比番茄少5棵。如果艾米丽有4棵黄瓜植株，那么她总共有多少棵菜园植物？',\n",
    " '在一个小村庄，当地裁缝制作外套和裤子。制作一件外套需要3码布料，而制作一条裤子需要2码布料。他接到了一份剧院制作的订单，要求的裤子数量是外套的两倍，而剧院要求了4件外套。如果布料的价格是每码15美元，那么剧院在这个订单上需要花费多少布料费用？',\n",
    " '一个小镇的人口以恒定的速率增长。如果2010年小镇的人口是5000人，2020年是8000人，那么如果这种增长趋势继续，到2025年小镇的人口会是多少？',\n",
    " '一位数学老师正在组织一场测验比赛，并决定用铅笔作为奖品。每位参与者将获得2支铅笔，而得分超过80%的学生将额外获得3支铅笔。如果班上有30名学生，其中1/5的学生得分超过80%，那么老师需要准备多少支铅笔？',\n",
    " '一个长方形的花园被120米的围栏包围。如果花园的长度是其宽度的三倍，那么花园的面积是多少平方米？',\n",
    " '一个长10米、宽15米的花园将用方形瓷砖铺设。每块瓷砖的边长为25厘米。如果每块瓷砖的价格是3美元，而铺设瓷砖的人工费用是每平方米8美元，那么铺设整个花园的总费用是多少？']\n",
    "answers = [228,15,132,0.45,24,7.3205,16,720,30,2,13,14,862.5,180,2,6,752,43,47,60,1440,11,20,37.5,15,420,9500,78,675,8400]\n"
   ]
  },
  {
   "cell_type": "code",
   "execution_count": 1,
   "id": "1770ef27-5632-49d8-95c6-da634b97255f",
   "metadata": {},
   "outputs": [
    {
     "ename": "AttributeError",
     "evalue": "'str' object has no attribute 'group'",
     "output_type": "error",
     "traceback": [
      "\u001b[1;31m---------------------------------------------------------------------------\u001b[0m",
      "\u001b[1;31mAttributeError\u001b[0m                            Traceback (most recent call last)",
      "Cell \u001b[1;32mIn[1], line 1\u001b[0m\n\u001b[1;32m----> 1\u001b[0m \u001b[38;5;124;43m'\u001b[39;49m\u001b[38;5;124;43masdasd\u001b[39;49m\u001b[38;5;124;43m'\u001b[39;49m\u001b[38;5;241;43m.\u001b[39;49m\u001b[43mgroup\u001b[49m()\n",
      "\u001b[1;31mAttributeError\u001b[0m: 'str' object has no attribute 'group'"
     ]
    }
   ],
   "source": [
    "'asdasd'.group()"
   ]
  },
  {
   "cell_type": "code",
   "execution_count": 3,
   "id": "b3eadc82-5174-439a-a3fa-e1e74606952c",
   "metadata": {},
   "outputs": [
    {
     "data": {
      "text/plain": [
       "'123456789012'"
      ]
     },
     "execution_count": 3,
     "metadata": {},
     "output_type": "execute_result"
    }
   ],
   "source": [
    "number_list = '123,456,789,012'.split(\",\")\n",
    "new_string = number_list[0]\n",
    "for i in range(1, len(number_list)):\n",
    "    if len(number_list[i]) == 3:\n",
    "        new_string += number_list[i]\n",
    "    else:\n",
    "        new_string += f\",{number_list[i]}\"\n",
    "\n",
    "new_string"
   ]
  },
  {
   "cell_type": "code",
   "execution_count": 4,
   "id": "19088b2f-918d-42fe-b7e0-be02967ca287",
   "metadata": {},
   "outputs": [
    {
     "data": {
      "text/plain": [
       "'12012'"
      ]
     },
     "execution_count": 4,
     "metadata": {},
     "output_type": "execute_result"
    }
   ],
   "source": [
    "number_list = '12,012'.split(\",\")\n",
    "new_string = number_list[0]\n",
    "for i in range(1, len(number_list)):\n",
    "    if len(number_list[i]) == 3:\n",
    "        new_string += number_list[i]\n",
    "    else:\n",
    "        new_string += f\",{number_list[i]}\"\n",
    "\n",
    "new_string"
   ]
  },
  {
   "cell_type": "code",
   "execution_count": 6,
   "id": "18adc9a7-02da-4b81-a40a-ee19651d258e",
   "metadata": {},
   "outputs": [],
   "source": [
    "import re"
   ]
  },
  {
   "cell_type": "code",
   "execution_count": 9,
   "id": "c6122006-73db-467f-9579-61e820908297",
   "metadata": {},
   "outputs": [],
   "source": [
    "def process_match(match):\n",
    "    number = match.group(0) # match.group(0) 返回匹配到的整个字符串。\n",
    "                            # match.group(1) 返回第一个捕获组（即第一个括号中的内容）。\n",
    "                            # match.group(2) 返回第二个捕获组，依此类推。\n",
    "                            # match.group() 默认等同于 match.group(0)。\n",
    "    if '.' in number:\n",
    "        return number\n",
    "    else:\n",
    "        number_list = number.split(\",\")\n",
    "        new_string = number_list[0]\n",
    "        for i in range(1, len(number_list)):\n",
    "            if len(number_list[i]) == 3: \n",
    "                new_string += number_list[i]  # 将千分位分隔符去掉 12,123 变成12123\n",
    "            else:\n",
    "                new_string += f\",{number_list[i]}\"\n",
    "        return new_string"
   ]
  },
  {
   "cell_type": "code",
   "execution_count": 13,
   "id": "d98604d7-11ae-41b0-85ee-c4fb3530058f",
   "metadata": {},
   "outputs": [
    {
     "data": {
      "text/plain": [
       "'The population of the city is 1234567 and the GDP is 12,345.67. Another number is 123456789012.'"
      ]
     },
     "execution_count": 13,
     "metadata": {},
     "output_type": "execute_result"
    }
   ],
   "source": [
    "text = \"The population of the city is 1,234,567 and the GDP is 12,345.67. Another number is 123,456,789,012.\"\n",
    "pattern = r'\\d+(?:,\\d+)*(?:\\.\\d+)?'\n",
    "\n",
    "match = re.sub(pattern, process_match,text)\n",
    "match"
   ]
  },
  {
   "cell_type": "code",
   "execution_count": 18,
   "id": "6fc55ea8-1dc9-41cb-8c9e-f1762aba030b",
   "metadata": {},
   "outputs": [
    {
     "data": {
      "text/plain": [
       "<re.Match object; span=(30, 39), match='1,234,567'>"
      ]
     },
     "execution_count": 18,
     "metadata": {},
     "output_type": "execute_result"
    }
   ],
   "source": [
    "re.search(pattern, text)"
   ]
  },
  {
   "cell_type": "code",
   "execution_count": 17,
   "id": "fa35d936-b72c-4a65-9b17-fc2e8cf36880",
   "metadata": {},
   "outputs": [
    {
     "data": {
      "text/plain": [
       "'1,234,567'"
      ]
     },
     "execution_count": 17,
     "metadata": {},
     "output_type": "execute_result"
    }
   ],
   "source": [
    "re.search(pattern, text).group(0)"
   ]
  },
  {
   "cell_type": "markdown",
   "id": "2fb2dbf8-36dd-4e58-bbe9-d766c3415422",
   "metadata": {},
   "source": [
    "? 0个或1个\n",
    "\n",
    "+1个或多个\n",
    "\n",
    "*0个或多个"
   ]
  },
  {
   "cell_type": "code",
   "execution_count": 19,
   "id": "319c1e13-bac1-4e80-87dc-fa3db8fb40ee",
   "metadata": {},
   "outputs": [
    {
     "data": {
      "text/plain": [
       "False"
      ]
     },
     "execution_count": 19,
     "metadata": {},
     "output_type": "execute_result"
    }
   ],
   "source": [
    "[3,4,5,6,7,8] in [1,2,3,4,5,6]"
   ]
  },
  {
   "cell_type": "code",
   "execution_count": 20,
   "id": "9b07945f-f482-4c70-8b8b-84f31b2c433c",
   "metadata": {},
   "outputs": [
    {
     "data": {
      "text/plain": [
       "False"
      ]
     },
     "execution_count": 20,
     "metadata": {},
     "output_type": "execute_result"
    }
   ],
   "source": [
    "[1,2,3,4,5,6] in [1,2,3,4,5,6]"
   ]
  },
  {
   "cell_type": "code",
   "execution_count": 21,
   "id": "9dd78c97-6372-41dd-8a48-a2294abcec28",
   "metadata": {},
   "outputs": [
    {
     "data": {
      "text/plain": [
       "True"
      ]
     },
     "execution_count": 21,
     "metadata": {},
     "output_type": "execute_result"
    }
   ],
   "source": [
    "[1,2,3,4,5,6] in [[1,2,3,4,5,6]]"
   ]
  },
  {
   "cell_type": "code",
   "execution_count": 5,
   "id": "5904f38a-261c-41c3-92bb-798183142920",
   "metadata": {},
   "outputs": [
    {
     "name": "stdout",
     "output_type": "stream",
     "text": [
      "Running on local URL:  http://127.0.0.1:7860\n",
      "\n",
      "To create a public link, set `share=True` in `launch()`.\n"
     ]
    },
    {
     "data": {
      "text/html": [
       "<div><iframe src=\"http://127.0.0.1:7860/\" width=\"100%\" height=\"500\" allow=\"autoplay; camera; microphone; clipboard-read; clipboard-write;\" frameborder=\"0\" allowfullscreen></iframe></div>"
      ],
      "text/plain": [
       "<IPython.core.display.HTML object>"
      ]
     },
     "metadata": {},
     "output_type": "display_data"
    },
    {
     "name": "stdout",
     "output_type": "stream",
     "text": [
      "Keyboard interruption in main thread... closing server.\n"
     ]
    },
    {
     "data": {
      "text/plain": []
     },
     "execution_count": 5,
     "metadata": {},
     "output_type": "execute_result"
    }
   ],
   "source": [
    "# 使用gradio进行自定义prompt操作\n",
    "import gradio as gr\n",
    "\n",
    "# Reset按钮点击事件\n",
    "def reset(chatbot):\n",
    "    '''\n",
    "    `Reset` 按钮点击处理：重置prompt\n",
    "    '''\n",
    "    gr.Info(\"已清除提示词\")\n",
    "    chatbot.extend([[\"清除提示词\", \"提示词已成功重置\"]])\n",
    "    return chatbot, \"\", 0\n",
    "\n",
    "# Assign按钮点击事件\n",
    "def assign(chatbot, prompt, template, Example_Number):\n",
    "    '''\n",
    "    `Assign` 按钮点击处理：分配有效prompt并设置`template`\n",
    "    '''\n",
    "    gr.Info(\"正在分配提示词\")\n",
    "    Example_Number = int(Example_Number)\n",
    "    token_num = my_model.prompt_token_num(prompt)\n",
    "    if token_num > 1024:\n",
    "        template = None\n",
    "        gr.Warning(\"无效的提示词（太长，超过1024个token）\")\n",
    "        chatbot.append([None, \"提示词太长（超过1024个token）。较短的提示词可以更快且更稳定地评估！\"])\n",
    "    elif Example_Number < 1 or Example_Number > len(questions):\n",
    "        template = None\n",
    "        prompt_ex = f\"错误：请选择一个1到{len(questions)}之间的数字\"\n",
    "        gr.Warning(prompt_ex)\n",
    "        chatbot.extend([[None, prompt_ex]])\n",
    "    elif \"{{question}}\" not in prompt:\n",
    "        template = None\n",
    "        prompt_ex = \"你需要在提示词中包含占位符{{question}}。\"\n",
    "        gr.Warning(prompt_ex)\n",
    "        chatbot.extend([[None, prompt_ex]])\n",
    "    else:\n",
    "        environment = jinja2.Environment()\n",
    "        template = environment.from_string(prompt)\n",
    "        prompt_ex = f\"\"\"{template.render(question=questions[Example_Number - 1])}\"\"\"\n",
    "        chatbot.extend([[\"分配提示词\", \"提示词已成功分配\\n\\n自定义提示词示例：\"], [None, prompt_ex]])\n",
    "    return chatbot, prompt, template, Example_Number, token_num\n",
    "\n",
    "# 处理数字中的逗号（千位分隔符）\n",
    "def clean_commas(text):\n",
    "    def process_match(match):\n",
    "        number = match.group(0) # match.group(0) 返回匹配到的整个字符串。\n",
    "                                # match.group(1) 返回第一个捕获组（即第一个括号中的内容）。\n",
    "                                # match.group(2) 返回第二个捕获组，依此类推。\n",
    "                                # match.group() 默认等同于 match.group(0)。\n",
    "        if '.' in number:\n",
    "            return number\n",
    "        else:\n",
    "            number_list = number.split(\",\")\n",
    "            new_string = number_list[0]\n",
    "            for i in range(1, len(number_list)):\n",
    "                if len(number_list[i]) == 3: \n",
    "                    new_string += number_list[i]  # 将千分位分隔符去掉 12,123 变成12123\n",
    "                else:\n",
    "                    new_string += f\",{number_list[i]}\"\n",
    "            return new_string\n",
    "    pattern = r'\\d+(?:,\\d+)*(?:\\.\\d+)?'\n",
    "\n",
    "# \\d+：匹配一个或多个数字。\n",
    "# (?:,\\d+)*：匹配零个或多个逗号后跟一个或多个数字的组合。这里使用了非捕获组 (?:...) 和量词 *。\n",
    "# * 表示匹配前面的元素零次或多次。\n",
    "# (?:\\.\\d+)?：匹配零个或一个小数点后跟一个或多个数字的组合。这里使用了非捕获组 (?:...) 和量词 ?，\n",
    "# ? 表示匹配前面的元素零次或一次。\n",
    "    \n",
    "    return re.sub(pattern, process_match, text)\n",
    "\n",
    "# 检查输入中的数字是否与预期匹配\n",
    "def find_and_match_floats(input_string, ground_truth):\n",
    "    pattern = re.compile(r\"[-+]?\\d*\\.\\d+|[-+]?\\d+\")\n",
    "    found_numbers = pattern.findall(input_string)\n",
    "    found_floats = [float(num) for num in found_numbers]\n",
    "    return ground_truth in found_floats\n",
    "\n",
    "# 评估按钮点击事件\n",
    "def assess(chatbot, template, test_num):\n",
    "    '''\n",
    "    `Test` 按钮点击处理：评估自定义prompt\n",
    "    '''\n",
    "    if template is None:\n",
    "        chatbot.extend([[None, \"评估失败，因为提示词模板为空（即无效的提示词）\"]])\n",
    "        gr.Warning(\"提示词未设置\")\n",
    "        return chatbot, [], \"提示词未设置\", gr.Slider(label=\"Result Number\", value=0, minimum=0, maximum=0, step=1), gr.Textbox(label=\"Result\", value=\"\", interactive=False)\n",
    "\n",
    "    gr.Info(\"正在评估提示词\")\n",
    "    ans_template = \"提示词和问题：\\n\\n{{question}}\\n\\n--------------------\\n\\n解题过程：\\n\\n{{rationale}}\\n\\n--------------------\\n\\n最终答案\\n\\n{{answer}}\"\n",
    "    res_list = []\n",
    "    total_count = test_num\n",
    "    environment = jinja2.Environment()\n",
    "    ans_template = environment.from_string(ans_template)\n",
    "    trial_num = 3\n",
    "    trials = [[] for _ in range(trial_num)]\n",
    "    res_stats_str = \"\"\n",
    "\n",
    "    for i in range(trial_num):\n",
    "        gr.Info(f\"开始第{i+1}次测试\")\n",
    "        accurate_count = 0\n",
    "        for idx, example in enumerate(questions[:test_num]):\n",
    "            test_res = \"\"\n",
    "            result = my_model.two_stage_completion(example, template.render(question=example)) # 把占位符替换成了example\n",
    "\n",
    "            if not result[\"answer\"]:\n",
    "                trials[i].append(0)\n",
    "                test_res += f\"第{i+1}次测试\\n\\n跳过问题 {idx + 1}。\"\n",
    "                test_res += \"\\n\" + \"<\"*6 + \"=\"*30 + \">\"*6 + \"\\n\\n\"\n",
    "                res_list.append(f\"第{i+1}次测试\\n\\n跳过问题 {idx + 1}。\")\n",
    "                continue\n",
    "\n",
    "            cleaned_result = clean_commas(result[\"answer\"])\n",
    "            if find_and_match_floats(cleaned_result, answers[idx]):\n",
    "                accurate_count += 1\n",
    "                trials[i].append(1)\n",
    "            else:\n",
    "                trials[i].append(0)\n",
    "\n",
    "            my_model.save_cache()\n",
    "            test_res += f\"第{i + 1}次测试\\n\\n\"\n",
    "            test_res += f\"问题 {idx + 1}:\\n\" + '-'*20\n",
    "            test_res += f'''\\n\\n{ans_template.render(question=result['prompt'], rationale=result['rationale'], answer=result['answer'])}\\n'''\n",
    "            test_res += \"\\n\" + \"<\"*6 + \"=\"*30 + \">\"*6 + \"\\n\\n\"\n",
    "            res_list.append(test_res)\n",
    "\n",
    "        res_stats_str += f\"第{i + 1}次测试，正确数：{accurate_count}，总数：{total_count}，准确率：{accurate_count / total_count * 100}%\\n\"\n",
    "        my_model.save_cache()\n",
    "\n",
    "    voting_acc = 0 # 3次测试对2次及以上算正确\n",
    "    for i in range(total_count):\n",
    "        count = 0\n",
    "        for j in range(trial_num):\n",
    "            if trials[j][i] == 1:\n",
    "                count += 1\n",
    "        if count >= 2:\n",
    "            voting_acc += 1\n",
    "\n",
    "    res_stats_str += f\"最终准确率：{voting_acc / total_count * 100}%\"\n",
    "    chatbot.extend([[\"测试\", \"测试完成。结果可以在“结果”和“结果统计”中找到。\"]])\n",
    "    chatbot.extend([[None, \"测试结果\"], [None, ''.join(res_list)], [None, \"结果统计\"], [None, res_stats_str]])\n",
    "    return chatbot, res_list, res_stats_str, gr.Slider(label=\"Result Number\", value=1, minimum=1, maximum=len(res_list), step=1, visible=False), gr.Textbox(label=\"Result\", value=res_list[0], interactive=False)\n",
    "\n",
    "# 保存prompt\n",
    "def save_prompt(chatbot, prompt):\n",
    "    '''\n",
    "    `Save` 按钮点击处理：保存提示词\n",
    "    '''\n",
    "    gr.Info(\"正在保存提示词\")\n",
    "    prompt_dict = {\n",
    "        'prompt': prompt\n",
    "    }\n",
    "    with open('prompt.json', 'w') as f:\n",
    "        json.dump(prompt_dict, f)\n",
    "    chatbot.extend([[\"保存提示词\", f\"提示词已保存为prompt.json\"]])\n",
    "    return chatbot\n",
    "\n",
    "# Gradio界面\n",
    "with gr.Blocks() as demo:\n",
    "    my_magic_prompt = \"任务：\\n解决以下数学问题。\\n\\n问题：{{question}}\\n\\n答案：\"\n",
    "    my_magic_prompt = my_magic_prompt.strip('\\n')\n",
    "    template = gr.State(None)\n",
    "    res_list = gr.State(list())\n",
    "\n",
    "    # 组件\n",
    "    with gr.Tab(label=\"Console\"):\n",
    "        with gr.Group():\n",
    "            # dropdown是一个拉取选项框 默认值是1\n",
    "            example_num_box = gr.Dropdown(label=\"Demo Example (Please choose one example for demo)\", value=1, info=questions[0], choices=[i+1 for i in range(len(questions))], filterable=False)\n",
    "            # 可输入的文本框 info是提示信息  palceholder是文本框内的默认信息\n",
    "            prompt_textbox = gr.Textbox(label=\"Custom Prompt\", placeholder=f\"在这里输入你的自定义提示词。例如：\\n\\n{my_magic_prompt}\", value=\"\", info=\"请确保包含`{{question}}`标签。\")\n",
    "            with gr.Row():\n",
    "                set_button = gr.Button(value=\"Set Prompt\")\n",
    "                reset_button = gr.Button(value=\"Clear Prompt\")\n",
    "            prompt_token_num = gr.Textbox(label=\"Number of prompt tokens\", value=0, interactive=False, info=\"自定义提示词的Token数量。\")\n",
    "        with gr.Group():\n",
    "            test_num = gr.Slider(label=\"Number of examples used for evaluation\", minimum=1, maximum=len(questions), step=1, value=1)\n",
    "            assess_button = gr.Button(value=\"Evaluate\")\n",
    "        with gr.Group():\n",
    "            with gr.Row():\n",
    "                with gr.Column():\n",
    "                    with gr.Row():\n",
    "                        trial_no = gr.Slider(label=\"Trial ID\", value=1, minimum=1, maximum=3, step=1)\n",
    "                        ques_no = gr.Slider(label=\"Question ID\", value=1, minimum=1, maximum=1, step=1)\n",
    "                    res_num = gr.Slider(label=\"Result Number\", value=0, minimum=0, maximum=0, step=1, visible=False)\n",
    "                    res = gr.Textbox(label=\"Result\", value=\"\", placeholder=\"暂无结果\", interactive=False)\n",
    "                with gr.Column():\n",
    "                    res_stats = gr.Textbox(label=\"Result Stats\", interactive=False)\n",
    "            save_button = gr.Button(value=\"Save Custom Prompt\")\n",
    "    with gr.Tab(label=\"Log\"):\n",
    "        chatbot = gr.Chatbot(label=\"Log\")\n",
    "\n",
    "    # 事件处理\n",
    "    example_num_box.input(lambda Example_Number: gr.Dropdown(label=\"Example (Please choose one example for demo)\", value=Example_Number, info=questions[Example_Number - 1], choices=[i+1 for i in range(len(questions))]),\n",
    "                inputs=[example_num_box],\n",
    "                outputs=[example_num_box])\n",
    "    res_num.change(lambda results, result_num, test_num: (gr.Textbox(label=\"Result\", value=results[result_num-1], interactive=False) if len(results) != 0 else gr.Textbox(label=\"Result\", value=\"\", placeholder=\"暂无结果\", interactive=False),\n",
    "                                    (int)((result_num-1)/test_num)+1,\n",
    "                                    gr.Slider(label=\"Question Number\", minimum=1, maximum=test_num, value=(result_num-1)%test_num+1, step=1)),\n",
    "            inputs=[res_list, res_num, test_num],\n",
    "            outputs=[res, trial_no, ques_no])\n",
    "    trial_ques_no_input = lambda t_val, q_val, test_num: (t_val - 1) * test_num + q_val\n",
    "    # res_num是总体的序号,test_num是一共选了多少数据进行test，trial_no是第几轮,ques_no是第几个问题\n",
    "    trial_no.input(trial_ques_no_input, inputs=[trial_no, ques_no, test_num], outputs=[res_num])\n",
    "    ques_no.input(trial_ques_no_input, inputs=[trial_no, ques_no, test_num], outputs=[res_num])\n",
    "    set_button.click(assign, inputs=[chatbot, prompt_textbox, template, example_num_box], outputs=[chatbot, prompt_textbox, template, example_num_box, prompt_token_num])\n",
    "    reset_button.click(reset, inputs=[chatbot], outputs=[chatbot, prompt_textbox, prompt_token_num])\n",
    "    assess_button.click(assess, inputs=[chatbot, template, test_num], outputs=[chatbot, res_list, res_stats, res_num, res])\n",
    "    save_button.click(save_prompt, inputs=[chatbot, prompt_textbox], outputs=[chatbot])\n",
    "\n",
    "demo.queue().launch(debug=True)"
   ]
  },
  {
   "cell_type": "code",
   "execution_count": null,
   "id": "9b0bd259-c796-4f95-9334-154026befcfb",
   "metadata": {},
   "outputs": [],
   "source": []
  }
 ],
 "metadata": {
  "kernelspec": {
   "display_name": "Python 3 (ipykernel)",
   "language": "python",
   "name": "python3"
  },
  "language_info": {
   "codemirror_mode": {
    "name": "ipython",
    "version": 3
   },
   "file_extension": ".py",
   "mimetype": "text/x-python",
   "name": "python",
   "nbconvert_exporter": "python",
   "pygments_lexer": "ipython3",
   "version": "3.9.13"
  }
 },
 "nbformat": 4,
 "nbformat_minor": 5
}
