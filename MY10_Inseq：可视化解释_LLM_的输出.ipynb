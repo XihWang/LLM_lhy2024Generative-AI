{
 "cells": [
  {
   "cell_type": "markdown",
   "id": "vem-019tN3GE",
   "metadata": {
    "id": "vem-019tN3GE"
   },
   "source": [
    "# Inseq：可视化解释LLM的输出\n",
    "\n",
    "> [HW7: Understand what Generative AI is thinking](https://colab.research.google.com/drive/1Xnz0GHC0yWO2Do0aAYBCq9zL45lbiRjM?usp=sharing#scrollTo=UFOUfh2k1jFN) 中文镜像版\n",
    ">\n",
    "> 指导文章：[12. Inseq 特征归因：可视化解释 LLM 的输出](https://github.com/Hoper-J/LLM-Guide-and-Demos-zh_CN/blob/master/Guide/12.%20Inseq%20特征归因：可视化解释%20LLM%20的输出.md)\n",
    "\n",
    "Feature attribution 特征归因，你可以将其当做对输出的解释，就像图像分类模型可以可视化关注区域一样，LLM 一样也可以。"
   ]
  },
  {
   "cell_type": "code",
   "execution_count": 1,
   "id": "cnCnLzQYN3GL",
   "metadata": {
    "colab": {
     "base_uri": "https://localhost:8080/"
    },
    "execution": {
     "iopub.execute_input": "2024-11-07T14:55:56.424789Z",
     "iopub.status.busy": "2024-11-07T14:55:56.424237Z",
     "iopub.status.idle": "2024-11-07T14:56:44.187080Z",
     "shell.execute_reply": "2024-11-07T14:56:44.186092Z",
     "shell.execute_reply.started": "2024-11-07T14:55:56.424746Z"
    },
    "id": "cnCnLzQYN3GL",
    "outputId": "f115f379-e05b-4788-8ee3-b30910f6d939",
    "tags": []
   },
   "outputs": [
    {
     "name": "stdout",
     "output_type": "stream",
     "text": [
      "Collecting inseq==0.5.0\n",
      "  Downloading inseq-0.5.0-py3-none-any.whl.metadata (18 kB)\n",
      "Collecting captum>=0.6.0 (from inseq==0.5.0)\n",
      "  Downloading captum-0.7.0-py3-none-any.whl.metadata (26 kB)\n",
      "Collecting jaxtyping<0.3.0,>=0.2.23 (from inseq==0.5.0)\n",
      "  Downloading jaxtyping-0.2.36-py3-none-any.whl.metadata (6.5 kB)\n",
      "Requirement already satisfied: matplotlib>=3.5.3 in /usr/local/lib/python3.10/dist-packages (from inseq==0.5.0) (3.10.0)\n",
      "Requirement already satisfied: numpy>=1.21.6 in /usr/local/lib/python3.10/dist-packages (from inseq==0.5.0) (1.26.4)\n",
      "Collecting nvidia-cublas-cu11>=11.10.3.66 (from inseq==0.5.0)\n",
      "  Downloading nvidia_cublas_cu11-11.11.3.6-py3-none-manylinux2014_x86_64.whl.metadata (1.5 kB)\n",
      "Collecting nvidia-cuda-cupti-cu11>=11.7.101 (from inseq==0.5.0)\n",
      "  Downloading nvidia_cuda_cupti_cu11-11.8.87-py3-none-manylinux2014_x86_64.whl.metadata (1.6 kB)\n",
      "Collecting nvidia-cuda-nvrtc-cu11>=11.7.99 (from inseq==0.5.0)\n",
      "  Downloading nvidia_cuda_nvrtc_cu11-11.8.89-py3-none-manylinux2014_x86_64.whl.metadata (1.5 kB)\n",
      "Collecting nvidia-cuda-runtime-cu11>=11.7.99 (from inseq==0.5.0)\n",
      "  Downloading nvidia_cuda_runtime_cu11-11.8.89-py3-none-manylinux2014_x86_64.whl.metadata (1.5 kB)\n",
      "Collecting nvidia-cudnn-cu11>=8.5.0.96 (from inseq==0.5.0)\n",
      "  Downloading nvidia_cudnn_cu11-9.6.0.74-py3-none-manylinux_2_27_x86_64.whl.metadata (1.6 kB)\n",
      "Collecting nvidia-cufft-cu11>=10.9.0.58 (from inseq==0.5.0)\n",
      "  Downloading nvidia_cufft_cu11-10.9.0.58-py3-none-manylinux2014_x86_64.whl.metadata (1.5 kB)\n",
      "Collecting nvidia-curand-cu11>=10.2.10.91 (from inseq==0.5.0)\n",
      "  Downloading nvidia_curand_cu11-10.3.0.86-py3-none-manylinux2014_x86_64.whl.metadata (1.5 kB)\n",
      "Collecting nvidia-cusolver-cu11>=11.4.0.1 (from inseq==0.5.0)\n",
      "  Downloading nvidia_cusolver_cu11-11.4.1.48-py3-none-manylinux2014_x86_64.whl.metadata (1.6 kB)\n",
      "Collecting nvidia-cusparse-cu11>=11.7.4.91 (from inseq==0.5.0)\n",
      "  Downloading nvidia_cusparse_cu11-11.7.5.86-py3-none-manylinux2014_x86_64.whl.metadata (1.5 kB)\n",
      "Collecting nvidia-nccl-cu11>=2.14.3 (from inseq==0.5.0)\n",
      "  Downloading nvidia_nccl_cu11-2.21.5-py3-none-manylinux2014_x86_64.whl.metadata (1.8 kB)\n",
      "Collecting nvidia-nvtx-cu11>=11.7.91 (from inseq==0.5.0)\n",
      "  Downloading nvidia_nvtx_cu11-11.8.86-py3-none-manylinux2014_x86_64.whl.metadata (1.7 kB)\n",
      "Collecting poethepoet>=0.13.1 (from inseq==0.5.0)\n",
      "  Downloading poethepoet-0.32.1-py3-none-any.whl.metadata (5.3 kB)\n",
      "Requirement already satisfied: protobuf>=3.20.1 in /usr/local/lib/python3.10/dist-packages (from inseq==0.5.0) (4.25.5)\n",
      "Requirement already satisfied: rich>=10.13.0 in /usr/local/lib/python3.10/dist-packages (from inseq==0.5.0) (13.9.4)\n",
      "Requirement already satisfied: scipy>=1.8.1 in /usr/local/lib/python3.10/dist-packages (from inseq==0.5.0) (1.13.1)\n",
      "Collecting torch==2.0.0 (from inseq==0.5.0)\n",
      "  Downloading torch-2.0.0-cp310-cp310-manylinux1_x86_64.whl.metadata (24 kB)\n",
      "Requirement already satisfied: tqdm>=4.64.0 in /usr/local/lib/python3.10/dist-packages (from inseq==0.5.0) (4.67.1)\n",
      "Requirement already satisfied: transformers>=4.22.0 in /usr/local/lib/python3.10/dist-packages (from transformers[sentencepiece,tokenizers,torch]>=4.22.0->inseq==0.5.0) (4.47.1)\n",
      "Collecting typeguard<=2.13.3 (from inseq==0.5.0)\n",
      "  Downloading typeguard-2.13.3-py3-none-any.whl.metadata (3.6 kB)\n",
      "Requirement already satisfied: filelock in /usr/local/lib/python3.10/dist-packages (from torch==2.0.0->inseq==0.5.0) (3.16.1)\n",
      "Requirement already satisfied: typing-extensions in /usr/local/lib/python3.10/dist-packages (from torch==2.0.0->inseq==0.5.0) (4.12.2)\n",
      "Requirement already satisfied: sympy in /usr/local/lib/python3.10/dist-packages (from torch==2.0.0->inseq==0.5.0) (1.13.1)\n",
      "Requirement already satisfied: networkx in /usr/local/lib/python3.10/dist-packages (from torch==2.0.0->inseq==0.5.0) (3.4.2)\n",
      "Requirement already satisfied: jinja2 in /usr/local/lib/python3.10/dist-packages (from torch==2.0.0->inseq==0.5.0) (3.1.5)\n",
      "Collecting nvidia-cuda-nvrtc-cu11>=11.7.99 (from inseq==0.5.0)\n",
      "  Downloading nvidia_cuda_nvrtc_cu11-11.7.99-2-py3-none-manylinux1_x86_64.whl.metadata (1.5 kB)\n",
      "Collecting nvidia-cuda-runtime-cu11>=11.7.99 (from inseq==0.5.0)\n",
      "  Downloading nvidia_cuda_runtime_cu11-11.7.99-py3-none-manylinux1_x86_64.whl.metadata (1.6 kB)\n",
      "Collecting nvidia-cuda-cupti-cu11>=11.7.101 (from inseq==0.5.0)\n",
      "  Downloading nvidia_cuda_cupti_cu11-11.7.101-py3-none-manylinux1_x86_64.whl.metadata (1.6 kB)\n",
      "Collecting nvidia-cudnn-cu11>=8.5.0.96 (from inseq==0.5.0)\n",
      "  Downloading nvidia_cudnn_cu11-8.5.0.96-2-py3-none-manylinux1_x86_64.whl.metadata (1.6 kB)\n",
      "Collecting nvidia-cublas-cu11>=11.10.3.66 (from inseq==0.5.0)\n",
      "  Downloading nvidia_cublas_cu11-11.10.3.66-py3-none-manylinux1_x86_64.whl.metadata (1.6 kB)\n",
      "Collecting nvidia-curand-cu11>=10.2.10.91 (from inseq==0.5.0)\n",
      "  Downloading nvidia_curand_cu11-10.2.10.91-py3-none-manylinux1_x86_64.whl.metadata (1.6 kB)\n",
      "Collecting nvidia-cusolver-cu11>=11.4.0.1 (from inseq==0.5.0)\n",
      "  Downloading nvidia_cusolver_cu11-11.4.0.1-2-py3-none-manylinux1_x86_64.whl.metadata (1.6 kB)\n",
      "Collecting nvidia-cusparse-cu11>=11.7.4.91 (from inseq==0.5.0)\n",
      "  Downloading nvidia_cusparse_cu11-11.7.4.91-py3-none-manylinux1_x86_64.whl.metadata (1.6 kB)\n",
      "Collecting nvidia-nccl-cu11>=2.14.3 (from inseq==0.5.0)\n",
      "  Downloading nvidia_nccl_cu11-2.14.3-py3-none-manylinux1_x86_64.whl.metadata (1.8 kB)\n",
      "Collecting nvidia-nvtx-cu11>=11.7.91 (from inseq==0.5.0)\n",
      "  Downloading nvidia_nvtx_cu11-11.7.91-py3-none-manylinux1_x86_64.whl.metadata (1.7 kB)\n",
      "Collecting triton==2.0.0 (from torch==2.0.0->inseq==0.5.0)\n",
      "  Downloading triton-2.0.0-1-cp310-cp310-manylinux2014_x86_64.manylinux_2_17_x86_64.whl.metadata (1.0 kB)\n",
      "Requirement already satisfied: setuptools in /usr/local/lib/python3.10/dist-packages (from nvidia-cublas-cu11>=11.10.3.66->inseq==0.5.0) (75.1.0)\n",
      "Requirement already satisfied: wheel in /usr/local/lib/python3.10/dist-packages (from nvidia-cublas-cu11>=11.10.3.66->inseq==0.5.0) (0.45.1)\n",
      "Requirement already satisfied: cmake in /usr/local/lib/python3.10/dist-packages (from triton==2.0.0->torch==2.0.0->inseq==0.5.0) (3.31.2)\n",
      "Collecting lit (from triton==2.0.0->torch==2.0.0->inseq==0.5.0)\n",
      "  Downloading lit-18.1.8-py3-none-any.whl.metadata (2.5 kB)\n",
      "Requirement already satisfied: contourpy>=1.0.1 in /usr/local/lib/python3.10/dist-packages (from matplotlib>=3.5.3->inseq==0.5.0) (1.3.1)\n",
      "Requirement already satisfied: cycler>=0.10 in /usr/local/lib/python3.10/dist-packages (from matplotlib>=3.5.3->inseq==0.5.0) (0.12.1)\n",
      "Requirement already satisfied: fonttools>=4.22.0 in /usr/local/lib/python3.10/dist-packages (from matplotlib>=3.5.3->inseq==0.5.0) (4.55.3)\n",
      "Requirement already satisfied: kiwisolver>=1.3.1 in /usr/local/lib/python3.10/dist-packages (from matplotlib>=3.5.3->inseq==0.5.0) (1.4.8)\n",
      "Requirement already satisfied: packaging>=20.0 in /usr/local/lib/python3.10/dist-packages (from matplotlib>=3.5.3->inseq==0.5.0) (24.2)\n",
      "Requirement already satisfied: pillow>=8 in /usr/local/lib/python3.10/dist-packages (from matplotlib>=3.5.3->inseq==0.5.0) (11.1.0)\n",
      "Requirement already satisfied: pyparsing>=2.3.1 in /usr/local/lib/python3.10/dist-packages (from matplotlib>=3.5.3->inseq==0.5.0) (3.2.1)\n",
      "Requirement already satisfied: python-dateutil>=2.7 in /usr/local/lib/python3.10/dist-packages (from matplotlib>=3.5.3->inseq==0.5.0) (2.8.2)\n",
      "Collecting pastel<0.3.0,>=0.2.1 (from poethepoet>=0.13.1->inseq==0.5.0)\n",
      "  Downloading pastel-0.2.1-py2.py3-none-any.whl.metadata (1.9 kB)\n",
      "Requirement already satisfied: pyyaml<7.0.0,>=6.0.2 in /usr/local/lib/python3.10/dist-packages (from poethepoet>=0.13.1->inseq==0.5.0) (6.0.2)\n",
      "Requirement already satisfied: tomli>=1.2.2 in /usr/local/lib/python3.10/dist-packages (from poethepoet>=0.13.1->inseq==0.5.0) (2.2.1)\n",
      "Requirement already satisfied: markdown-it-py>=2.2.0 in /usr/local/lib/python3.10/dist-packages (from rich>=10.13.0->inseq==0.5.0) (3.0.0)\n",
      "Requirement already satisfied: pygments<3.0.0,>=2.13.0 in /usr/local/lib/python3.10/dist-packages (from rich>=10.13.0->inseq==0.5.0) (2.18.0)\n",
      "Requirement already satisfied: huggingface-hub<1.0,>=0.24.0 in /usr/local/lib/python3.10/dist-packages (from transformers>=4.22.0->transformers[sentencepiece,tokenizers,torch]>=4.22.0->inseq==0.5.0) (0.27.1)\n",
      "Requirement already satisfied: regex!=2019.12.17 in /usr/local/lib/python3.10/dist-packages (from transformers>=4.22.0->transformers[sentencepiece,tokenizers,torch]>=4.22.0->inseq==0.5.0) (2024.11.6)\n",
      "Requirement already satisfied: requests in /usr/local/lib/python3.10/dist-packages (from transformers>=4.22.0->transformers[sentencepiece,tokenizers,torch]>=4.22.0->inseq==0.5.0) (2.32.3)\n",
      "Requirement already satisfied: tokenizers<0.22,>=0.21 in /usr/local/lib/python3.10/dist-packages (from transformers>=4.22.0->transformers[sentencepiece,tokenizers,torch]>=4.22.0->inseq==0.5.0) (0.21.0)\n",
      "Requirement already satisfied: safetensors>=0.4.1 in /usr/local/lib/python3.10/dist-packages (from transformers>=4.22.0->transformers[sentencepiece,tokenizers,torch]>=4.22.0->inseq==0.5.0) (0.5.1)\n",
      "Requirement already satisfied: accelerate>=0.26.0 in /usr/local/lib/python3.10/dist-packages (from transformers[sentencepiece,tokenizers,torch]>=4.22.0->inseq==0.5.0) (1.2.1)\n",
      "Requirement already satisfied: sentencepiece!=0.1.92,>=0.1.91 in /usr/local/lib/python3.10/dist-packages (from transformers[sentencepiece,tokenizers,torch]>=4.22.0->inseq==0.5.0) (0.2.0)\n",
      "Requirement already satisfied: psutil in /usr/local/lib/python3.10/dist-packages (from accelerate>=0.26.0->transformers[sentencepiece,tokenizers,torch]>=4.22.0->inseq==0.5.0) (5.9.5)\n",
      "Requirement already satisfied: fsspec>=2023.5.0 in /usr/local/lib/python3.10/dist-packages (from huggingface-hub<1.0,>=0.24.0->transformers>=4.22.0->transformers[sentencepiece,tokenizers,torch]>=4.22.0->inseq==0.5.0) (2024.10.0)\n",
      "Requirement already satisfied: mdurl~=0.1 in /usr/local/lib/python3.10/dist-packages (from markdown-it-py>=2.2.0->rich>=10.13.0->inseq==0.5.0) (0.1.2)\n",
      "Requirement already satisfied: six>=1.5 in /usr/local/lib/python3.10/dist-packages (from python-dateutil>=2.7->matplotlib>=3.5.3->inseq==0.5.0) (1.17.0)\n",
      "Requirement already satisfied: MarkupSafe>=2.0 in /usr/local/lib/python3.10/dist-packages (from jinja2->torch==2.0.0->inseq==0.5.0) (3.0.2)\n",
      "Requirement already satisfied: charset-normalizer<4,>=2 in /usr/local/lib/python3.10/dist-packages (from requests->transformers>=4.22.0->transformers[sentencepiece,tokenizers,torch]>=4.22.0->inseq==0.5.0) (3.4.1)\n",
      "Requirement already satisfied: idna<4,>=2.5 in /usr/local/lib/python3.10/dist-packages (from requests->transformers>=4.22.0->transformers[sentencepiece,tokenizers,torch]>=4.22.0->inseq==0.5.0) (3.10)\n",
      "Requirement already satisfied: urllib3<3,>=1.21.1 in /usr/local/lib/python3.10/dist-packages (from requests->transformers>=4.22.0->transformers[sentencepiece,tokenizers,torch]>=4.22.0->inseq==0.5.0) (2.3.0)\n",
      "Requirement already satisfied: certifi>=2017.4.17 in /usr/local/lib/python3.10/dist-packages (from requests->transformers>=4.22.0->transformers[sentencepiece,tokenizers,torch]>=4.22.0->inseq==0.5.0) (2024.12.14)\n",
      "Requirement already satisfied: mpmath<1.4,>=1.1.0 in /usr/local/lib/python3.10/dist-packages (from sympy->torch==2.0.0->inseq==0.5.0) (1.3.0)\n",
      "Downloading inseq-0.5.0-py3-none-any.whl (136 kB)\n",
      "\u001b[2K   \u001b[90m━━━━━━━━━━━━━━━━━━━━━━━━━━━━━━━━━━━━━━━━\u001b[0m \u001b[32m136.7/136.7 kB\u001b[0m \u001b[31m4.5 MB/s\u001b[0m eta \u001b[36m0:00:00\u001b[0m\n",
      "\u001b[?25hDownloading torch-2.0.0-cp310-cp310-manylinux1_x86_64.whl (619.9 MB)\n",
      "\u001b[2K   \u001b[90m━━━━━━━━━━━━━━━━━━━━━━━━━━━━━━━━━━━━━━━━\u001b[0m \u001b[32m619.9/619.9 MB\u001b[0m \u001b[31m1.1 MB/s\u001b[0m eta \u001b[36m0:00:00\u001b[0m\n",
      "\u001b[?25hDownloading nvidia_cublas_cu11-11.10.3.66-py3-none-manylinux1_x86_64.whl (317.1 MB)\n",
      "\u001b[2K   \u001b[90m━━━━━━━━━━━━━━━━━━━━━━━━━━━━━━━━━━━━━━━━\u001b[0m \u001b[32m317.1/317.1 MB\u001b[0m \u001b[31m1.6 MB/s\u001b[0m eta \u001b[36m0:00:00\u001b[0m\n",
      "\u001b[?25hDownloading nvidia_cuda_cupti_cu11-11.7.101-py3-none-manylinux1_x86_64.whl (11.8 MB)\n",
      "\u001b[2K   \u001b[90m━━━━━━━━━━━━━━━━━━━━━━━━━━━━━━━━━━━━━━━━\u001b[0m \u001b[32m11.8/11.8 MB\u001b[0m \u001b[31m85.0 MB/s\u001b[0m eta \u001b[36m0:00:00\u001b[0m\n",
      "\u001b[?25hDownloading nvidia_cuda_nvrtc_cu11-11.7.99-2-py3-none-manylinux1_x86_64.whl (21.0 MB)\n",
      "\u001b[2K   \u001b[90m━━━━━━━━━━━━━━━━━━━━━━━━━━━━━━━━━━━━━━━━\u001b[0m \u001b[32m21.0/21.0 MB\u001b[0m \u001b[31m68.0 MB/s\u001b[0m eta \u001b[36m0:00:00\u001b[0m\n",
      "\u001b[?25hDownloading nvidia_cuda_runtime_cu11-11.7.99-py3-none-manylinux1_x86_64.whl (849 kB)\n",
      "\u001b[2K   \u001b[90m━━━━━━━━━━━━━━━━━━━━━━━━━━━━━━━━━━━━━━━━\u001b[0m \u001b[32m849.3/849.3 kB\u001b[0m \u001b[31m41.1 MB/s\u001b[0m eta \u001b[36m0:00:00\u001b[0m\n",
      "\u001b[?25hDownloading nvidia_cudnn_cu11-8.5.0.96-2-py3-none-manylinux1_x86_64.whl (557.1 MB)\n",
      "\u001b[2K   \u001b[90m━━━━━━━━━━━━━━━━━━━━━━━━━━━━━━━━━━━━━━━━\u001b[0m \u001b[32m557.1/557.1 MB\u001b[0m \u001b[31m1.9 MB/s\u001b[0m eta \u001b[36m0:00:00\u001b[0m\n",
      "\u001b[?25hDownloading nvidia_cufft_cu11-10.9.0.58-py3-none-manylinux2014_x86_64.whl (168.4 MB)\n",
      "\u001b[2K   \u001b[90m━━━━━━━━━━━━━━━━━━━━━━━━━━━━━━━━━━━━━━━━\u001b[0m \u001b[32m168.4/168.4 MB\u001b[0m \u001b[31m7.0 MB/s\u001b[0m eta \u001b[36m0:00:00\u001b[0m\n",
      "\u001b[?25hDownloading nvidia_curand_cu11-10.2.10.91-py3-none-manylinux1_x86_64.whl (54.6 MB)\n",
      "\u001b[2K   \u001b[90m━━━━━━━━━━━━━━━━━━━━━━━━━━━━━━━━━━━━━━━━\u001b[0m \u001b[32m54.6/54.6 MB\u001b[0m \u001b[31m12.0 MB/s\u001b[0m eta \u001b[36m0:00:00\u001b[0m\n",
      "\u001b[?25hDownloading nvidia_cusolver_cu11-11.4.0.1-2-py3-none-manylinux1_x86_64.whl (102.6 MB)\n",
      "\u001b[2K   \u001b[90m━━━━━━━━━━━━━━━━━━━━━━━━━━━━━━━━━━━━━━━━\u001b[0m \u001b[32m102.6/102.6 MB\u001b[0m \u001b[31m8.1 MB/s\u001b[0m eta \u001b[36m0:00:00\u001b[0m\n",
      "\u001b[?25hDownloading nvidia_cusparse_cu11-11.7.4.91-py3-none-manylinux1_x86_64.whl (173.2 MB)\n",
      "\u001b[2K   \u001b[90m━━━━━━━━━━━━━━━━━━━━━━━━━━━━━━━━━━━━━━━━\u001b[0m \u001b[32m173.2/173.2 MB\u001b[0m \u001b[31m5.2 MB/s\u001b[0m eta \u001b[36m0:00:00\u001b[0m\n",
      "\u001b[?25hDownloading nvidia_nccl_cu11-2.14.3-py3-none-manylinux1_x86_64.whl (177.1 MB)\n",
      "\u001b[2K   \u001b[90m━━━━━━━━━━━━━━━━━━━━━━━━━━━━━━━━━━━━━━━━\u001b[0m \u001b[32m177.1/177.1 MB\u001b[0m \u001b[31m5.0 MB/s\u001b[0m eta \u001b[36m0:00:00\u001b[0m\n",
      "\u001b[?25hDownloading nvidia_nvtx_cu11-11.7.91-py3-none-manylinux1_x86_64.whl (98 kB)\n",
      "\u001b[2K   \u001b[90m━━━━━━━━━━━━━━━━━━━━━━━━━━━━━━━━━━━━━━━━\u001b[0m \u001b[32m98.6/98.6 kB\u001b[0m \u001b[31m8.3 MB/s\u001b[0m eta \u001b[36m0:00:00\u001b[0m\n",
      "\u001b[?25hDownloading triton-2.0.0-1-cp310-cp310-manylinux2014_x86_64.manylinux_2_17_x86_64.whl (63.3 MB)\n",
      "\u001b[2K   \u001b[90m━━━━━━━━━━━━━━━━━━━━━━━━━━━━━━━━━━━━━━━━\u001b[0m \u001b[32m63.3/63.3 MB\u001b[0m \u001b[31m11.6 MB/s\u001b[0m eta \u001b[36m0:00:00\u001b[0m\n",
      "\u001b[?25hDownloading captum-0.7.0-py3-none-any.whl (1.3 MB)\n",
      "\u001b[2K   \u001b[90m━━━━━━━━━━━━━━━━━━━━━━━━━━━━━━━━━━━━━━━━\u001b[0m \u001b[32m1.3/1.3 MB\u001b[0m \u001b[31m54.7 MB/s\u001b[0m eta \u001b[36m0:00:00\u001b[0m\n",
      "\u001b[?25hDownloading jaxtyping-0.2.36-py3-none-any.whl (55 kB)\n",
      "\u001b[2K   \u001b[90m━━━━━━━━━━━━━━━━━━━━━━━━━━━━━━━━━━━━━━━━\u001b[0m \u001b[32m55.8/55.8 kB\u001b[0m \u001b[31m4.3 MB/s\u001b[0m eta \u001b[36m0:00:00\u001b[0m\n",
      "\u001b[?25hDownloading poethepoet-0.32.1-py3-none-any.whl (81 kB)\n",
      "\u001b[2K   \u001b[90m━━━━━━━━━━━━━━━━━━━━━━━━━━━━━━━━━━━━━━━━\u001b[0m \u001b[32m81.7/81.7 kB\u001b[0m \u001b[31m6.7 MB/s\u001b[0m eta \u001b[36m0:00:00\u001b[0m\n",
      "\u001b[?25hDownloading typeguard-2.13.3-py3-none-any.whl (17 kB)\n",
      "Downloading pastel-0.2.1-py2.py3-none-any.whl (6.0 kB)\n",
      "Downloading lit-18.1.8-py3-none-any.whl (96 kB)\n",
      "\u001b[2K   \u001b[90m━━━━━━━━━━━━━━━━━━━━━━━━━━━━━━━━━━━━━━━━\u001b[0m \u001b[32m96.4/96.4 kB\u001b[0m \u001b[31m7.8 MB/s\u001b[0m eta \u001b[36m0:00:00\u001b[0m\n",
      "\u001b[?25hInstalling collected packages: lit, typeguard, pastel, nvidia-nvtx-cu11, nvidia-nccl-cu11, nvidia-cusparse-cu11, nvidia-curand-cu11, nvidia-cufft-cu11, nvidia-cuda-runtime-cu11, nvidia-cuda-nvrtc-cu11, nvidia-cuda-cupti-cu11, nvidia-cublas-cu11, jaxtyping, poethepoet, nvidia-cusolver-cu11, nvidia-cudnn-cu11, triton, torch, captum, inseq\n",
      "  Attempting uninstall: typeguard\n",
      "    Found existing installation: typeguard 4.4.1\n",
      "    Uninstalling typeguard-4.4.1:\n",
      "      Successfully uninstalled typeguard-4.4.1\n",
      "  Attempting uninstall: torch\n",
      "    Found existing installation: torch 2.5.1+cu121\n",
      "    Uninstalling torch-2.5.1+cu121:\n",
      "      Successfully uninstalled torch-2.5.1+cu121\n",
      "\u001b[31mERROR: pip's dependency resolver does not currently take into account all the packages that are installed. This behaviour is the source of the following dependency conflicts.\n",
      "inflect 7.5.0 requires typeguard>=4.0.1, but you have typeguard 2.13.3 which is incompatible.\n",
      "torchaudio 2.5.1+cu121 requires torch==2.5.1, but you have torch 2.0.0 which is incompatible.\n",
      "torchvision 0.20.1+cu121 requires torch==2.5.1, but you have torch 2.0.0 which is incompatible.\u001b[0m\u001b[31m\n",
      "\u001b[0mSuccessfully installed captum-0.7.0 inseq-0.5.0 jaxtyping-0.2.36 lit-18.1.8 nvidia-cublas-cu11-11.10.3.66 nvidia-cuda-cupti-cu11-11.7.101 nvidia-cuda-nvrtc-cu11-11.7.99 nvidia-cuda-runtime-cu11-11.7.99 nvidia-cudnn-cu11-8.5.0.96 nvidia-cufft-cu11-10.9.0.58 nvidia-curand-cu11-10.2.10.91 nvidia-cusolver-cu11-11.4.0.1 nvidia-cusparse-cu11-11.7.4.91 nvidia-nccl-cu11-2.14.3 nvidia-nvtx-cu11-11.7.91 pastel-0.2.1 poethepoet-0.32.1 torch-2.0.0 triton-2.0.0 typeguard-2.13.3\n",
      "Collecting transformers==4.40.2\n",
      "  Downloading transformers-4.40.2-py3-none-any.whl.metadata (137 kB)\n",
      "\u001b[2K     \u001b[90m━━━━━━━━━━━━━━━━━━━━━━━━━━━━━━━━━━━━━━━━\u001b[0m \u001b[32m138.0/138.0 kB\u001b[0m \u001b[31m3.0 MB/s\u001b[0m eta \u001b[36m0:00:00\u001b[0m\n",
      "\u001b[?25hRequirement already satisfied: filelock in /usr/local/lib/python3.10/dist-packages (from transformers==4.40.2) (3.16.1)\n",
      "Requirement already satisfied: huggingface-hub<1.0,>=0.19.3 in /usr/local/lib/python3.10/dist-packages (from transformers==4.40.2) (0.27.1)\n",
      "Requirement already satisfied: numpy>=1.17 in /usr/local/lib/python3.10/dist-packages (from transformers==4.40.2) (1.26.4)\n",
      "Requirement already satisfied: packaging>=20.0 in /usr/local/lib/python3.10/dist-packages (from transformers==4.40.2) (24.2)\n",
      "Requirement already satisfied: pyyaml>=5.1 in /usr/local/lib/python3.10/dist-packages (from transformers==4.40.2) (6.0.2)\n",
      "Requirement already satisfied: regex!=2019.12.17 in /usr/local/lib/python3.10/dist-packages (from transformers==4.40.2) (2024.11.6)\n",
      "Requirement already satisfied: requests in /usr/local/lib/python3.10/dist-packages (from transformers==4.40.2) (2.32.3)\n",
      "Collecting tokenizers<0.20,>=0.19 (from transformers==4.40.2)\n",
      "  Downloading tokenizers-0.19.1-cp310-cp310-manylinux_2_17_x86_64.manylinux2014_x86_64.whl.metadata (6.7 kB)\n",
      "Requirement already satisfied: safetensors>=0.4.1 in /usr/local/lib/python3.10/dist-packages (from transformers==4.40.2) (0.5.1)\n",
      "Requirement already satisfied: tqdm>=4.27 in /usr/local/lib/python3.10/dist-packages (from transformers==4.40.2) (4.67.1)\n",
      "Requirement already satisfied: fsspec>=2023.5.0 in /usr/local/lib/python3.10/dist-packages (from huggingface-hub<1.0,>=0.19.3->transformers==4.40.2) (2024.10.0)\n",
      "Requirement already satisfied: typing-extensions>=3.7.4.3 in /usr/local/lib/python3.10/dist-packages (from huggingface-hub<1.0,>=0.19.3->transformers==4.40.2) (4.12.2)\n",
      "Requirement already satisfied: charset-normalizer<4,>=2 in /usr/local/lib/python3.10/dist-packages (from requests->transformers==4.40.2) (3.4.1)\n",
      "Requirement already satisfied: idna<4,>=2.5 in /usr/local/lib/python3.10/dist-packages (from requests->transformers==4.40.2) (3.10)\n",
      "Requirement already satisfied: urllib3<3,>=1.21.1 in /usr/local/lib/python3.10/dist-packages (from requests->transformers==4.40.2) (2.3.0)\n",
      "Requirement already satisfied: certifi>=2017.4.17 in /usr/local/lib/python3.10/dist-packages (from requests->transformers==4.40.2) (2024.12.14)\n",
      "Downloading transformers-4.40.2-py3-none-any.whl (9.0 MB)\n",
      "\u001b[2K   \u001b[90m━━━━━━━━━━━━━━━━━━━━━━━━━━━━━━━━━━━━━━━━\u001b[0m \u001b[32m9.0/9.0 MB\u001b[0m \u001b[31m52.1 MB/s\u001b[0m eta \u001b[36m0:00:00\u001b[0m\n",
      "\u001b[?25hDownloading tokenizers-0.19.1-cp310-cp310-manylinux_2_17_x86_64.manylinux2014_x86_64.whl (3.6 MB)\n",
      "\u001b[2K   \u001b[90m━━━━━━━━━━━━━━━━━━━━━━━━━━━━━━━━━━━━━━━━\u001b[0m \u001b[32m3.6/3.6 MB\u001b[0m \u001b[31m84.6 MB/s\u001b[0m eta \u001b[36m0:00:00\u001b[0m\n",
      "\u001b[?25hInstalling collected packages: tokenizers, transformers\n",
      "  Attempting uninstall: tokenizers\n",
      "    Found existing installation: tokenizers 0.21.0\n",
      "    Uninstalling tokenizers-0.21.0:\n",
      "      Successfully uninstalled tokenizers-0.21.0\n",
      "  Attempting uninstall: transformers\n",
      "    Found existing installation: transformers 4.47.1\n",
      "    Uninstalling transformers-4.47.1:\n",
      "      Successfully uninstalled transformers-4.47.1\n",
      "\u001b[31mERROR: pip's dependency resolver does not currently take into account all the packages that are installed. This behaviour is the source of the following dependency conflicts.\n",
      "sentence-transformers 3.3.1 requires transformers<5.0.0,>=4.41.0, but you have transformers 4.40.2 which is incompatible.\u001b[0m\u001b[31m\n",
      "\u001b[0mSuccessfully installed tokenizers-0.19.1 transformers-4.40.2\n",
      "Collecting bitsandbytes==0.43.1\n",
      "  Downloading bitsandbytes-0.43.1-py3-none-manylinux_2_24_x86_64.whl.metadata (2.2 kB)\n",
      "Requirement already satisfied: torch in /usr/local/lib/python3.10/dist-packages (from bitsandbytes==0.43.1) (2.0.0)\n",
      "Requirement already satisfied: numpy in /usr/local/lib/python3.10/dist-packages (from bitsandbytes==0.43.1) (1.26.4)\n",
      "Requirement already satisfied: filelock in /usr/local/lib/python3.10/dist-packages (from torch->bitsandbytes==0.43.1) (3.16.1)\n",
      "Requirement already satisfied: typing-extensions in /usr/local/lib/python3.10/dist-packages (from torch->bitsandbytes==0.43.1) (4.12.2)\n",
      "Requirement already satisfied: sympy in /usr/local/lib/python3.10/dist-packages (from torch->bitsandbytes==0.43.1) (1.13.1)\n",
      "Requirement already satisfied: networkx in /usr/local/lib/python3.10/dist-packages (from torch->bitsandbytes==0.43.1) (3.4.2)\n",
      "Requirement already satisfied: jinja2 in /usr/local/lib/python3.10/dist-packages (from torch->bitsandbytes==0.43.1) (3.1.5)\n",
      "Requirement already satisfied: nvidia-cuda-nvrtc-cu11==11.7.99 in /usr/local/lib/python3.10/dist-packages (from torch->bitsandbytes==0.43.1) (11.7.99)\n",
      "Requirement already satisfied: nvidia-cuda-runtime-cu11==11.7.99 in /usr/local/lib/python3.10/dist-packages (from torch->bitsandbytes==0.43.1) (11.7.99)\n",
      "Requirement already satisfied: nvidia-cuda-cupti-cu11==11.7.101 in /usr/local/lib/python3.10/dist-packages (from torch->bitsandbytes==0.43.1) (11.7.101)\n",
      "Requirement already satisfied: nvidia-cudnn-cu11==8.5.0.96 in /usr/local/lib/python3.10/dist-packages (from torch->bitsandbytes==0.43.1) (8.5.0.96)\n",
      "Requirement already satisfied: nvidia-cublas-cu11==11.10.3.66 in /usr/local/lib/python3.10/dist-packages (from torch->bitsandbytes==0.43.1) (11.10.3.66)\n",
      "Requirement already satisfied: nvidia-cufft-cu11==10.9.0.58 in /usr/local/lib/python3.10/dist-packages (from torch->bitsandbytes==0.43.1) (10.9.0.58)\n",
      "Requirement already satisfied: nvidia-curand-cu11==10.2.10.91 in /usr/local/lib/python3.10/dist-packages (from torch->bitsandbytes==0.43.1) (10.2.10.91)\n",
      "Requirement already satisfied: nvidia-cusolver-cu11==11.4.0.1 in /usr/local/lib/python3.10/dist-packages (from torch->bitsandbytes==0.43.1) (11.4.0.1)\n",
      "Requirement already satisfied: nvidia-cusparse-cu11==11.7.4.91 in /usr/local/lib/python3.10/dist-packages (from torch->bitsandbytes==0.43.1) (11.7.4.91)\n",
      "Requirement already satisfied: nvidia-nccl-cu11==2.14.3 in /usr/local/lib/python3.10/dist-packages (from torch->bitsandbytes==0.43.1) (2.14.3)\n",
      "Requirement already satisfied: nvidia-nvtx-cu11==11.7.91 in /usr/local/lib/python3.10/dist-packages (from torch->bitsandbytes==0.43.1) (11.7.91)\n",
      "Requirement already satisfied: triton==2.0.0 in /usr/local/lib/python3.10/dist-packages (from torch->bitsandbytes==0.43.1) (2.0.0)\n",
      "Requirement already satisfied: setuptools in /usr/local/lib/python3.10/dist-packages (from nvidia-cublas-cu11==11.10.3.66->torch->bitsandbytes==0.43.1) (75.1.0)\n",
      "Requirement already satisfied: wheel in /usr/local/lib/python3.10/dist-packages (from nvidia-cublas-cu11==11.10.3.66->torch->bitsandbytes==0.43.1) (0.45.1)\n",
      "Requirement already satisfied: cmake in /usr/local/lib/python3.10/dist-packages (from triton==2.0.0->torch->bitsandbytes==0.43.1) (3.31.2)\n",
      "Requirement already satisfied: lit in /usr/local/lib/python3.10/dist-packages (from triton==2.0.0->torch->bitsandbytes==0.43.1) (18.1.8)\n",
      "Requirement already satisfied: MarkupSafe>=2.0 in /usr/local/lib/python3.10/dist-packages (from jinja2->torch->bitsandbytes==0.43.1) (3.0.2)\n",
      "Requirement already satisfied: mpmath<1.4,>=1.1.0 in /usr/local/lib/python3.10/dist-packages (from sympy->torch->bitsandbytes==0.43.1) (1.3.0)\n",
      "Downloading bitsandbytes-0.43.1-py3-none-manylinux_2_24_x86_64.whl (119.8 MB)\n",
      "\u001b[2K   \u001b[90m━━━━━━━━━━━━━━━━━━━━━━━━━━━━━━━━━━━━━━━━\u001b[0m \u001b[32m119.8/119.8 MB\u001b[0m \u001b[31m7.5 MB/s\u001b[0m eta \u001b[36m0:00:00\u001b[0m\n",
      "\u001b[?25hInstalling collected packages: bitsandbytes\n",
      "Successfully installed bitsandbytes-0.43.1\n",
      "Collecting accelerate==0.28.0\n",
      "  Downloading accelerate-0.28.0-py3-none-any.whl.metadata (18 kB)\n",
      "Requirement already satisfied: numpy>=1.17 in /usr/local/lib/python3.10/dist-packages (from accelerate==0.28.0) (1.26.4)\n",
      "Requirement already satisfied: packaging>=20.0 in /usr/local/lib/python3.10/dist-packages (from accelerate==0.28.0) (24.2)\n",
      "Requirement already satisfied: psutil in /usr/local/lib/python3.10/dist-packages (from accelerate==0.28.0) (5.9.5)\n",
      "Requirement already satisfied: pyyaml in /usr/local/lib/python3.10/dist-packages (from accelerate==0.28.0) (6.0.2)\n",
      "Requirement already satisfied: torch>=1.10.0 in /usr/local/lib/python3.10/dist-packages (from accelerate==0.28.0) (2.0.0)\n",
      "Requirement already satisfied: huggingface-hub in /usr/local/lib/python3.10/dist-packages (from accelerate==0.28.0) (0.27.1)\n",
      "Requirement already satisfied: safetensors>=0.3.1 in /usr/local/lib/python3.10/dist-packages (from accelerate==0.28.0) (0.5.1)\n",
      "Requirement already satisfied: filelock in /usr/local/lib/python3.10/dist-packages (from torch>=1.10.0->accelerate==0.28.0) (3.16.1)\n",
      "Requirement already satisfied: typing-extensions in /usr/local/lib/python3.10/dist-packages (from torch>=1.10.0->accelerate==0.28.0) (4.12.2)\n",
      "Requirement already satisfied: sympy in /usr/local/lib/python3.10/dist-packages (from torch>=1.10.0->accelerate==0.28.0) (1.13.1)\n",
      "Requirement already satisfied: networkx in /usr/local/lib/python3.10/dist-packages (from torch>=1.10.0->accelerate==0.28.0) (3.4.2)\n",
      "Requirement already satisfied: jinja2 in /usr/local/lib/python3.10/dist-packages (from torch>=1.10.0->accelerate==0.28.0) (3.1.5)\n",
      "Requirement already satisfied: nvidia-cuda-nvrtc-cu11==11.7.99 in /usr/local/lib/python3.10/dist-packages (from torch>=1.10.0->accelerate==0.28.0) (11.7.99)\n",
      "Requirement already satisfied: nvidia-cuda-runtime-cu11==11.7.99 in /usr/local/lib/python3.10/dist-packages (from torch>=1.10.0->accelerate==0.28.0) (11.7.99)\n",
      "Requirement already satisfied: nvidia-cuda-cupti-cu11==11.7.101 in /usr/local/lib/python3.10/dist-packages (from torch>=1.10.0->accelerate==0.28.0) (11.7.101)\n",
      "Requirement already satisfied: nvidia-cudnn-cu11==8.5.0.96 in /usr/local/lib/python3.10/dist-packages (from torch>=1.10.0->accelerate==0.28.0) (8.5.0.96)\n",
      "Requirement already satisfied: nvidia-cublas-cu11==11.10.3.66 in /usr/local/lib/python3.10/dist-packages (from torch>=1.10.0->accelerate==0.28.0) (11.10.3.66)\n",
      "Requirement already satisfied: nvidia-cufft-cu11==10.9.0.58 in /usr/local/lib/python3.10/dist-packages (from torch>=1.10.0->accelerate==0.28.0) (10.9.0.58)\n",
      "Requirement already satisfied: nvidia-curand-cu11==10.2.10.91 in /usr/local/lib/python3.10/dist-packages (from torch>=1.10.0->accelerate==0.28.0) (10.2.10.91)\n",
      "Requirement already satisfied: nvidia-cusolver-cu11==11.4.0.1 in /usr/local/lib/python3.10/dist-packages (from torch>=1.10.0->accelerate==0.28.0) (11.4.0.1)\n",
      "Requirement already satisfied: nvidia-cusparse-cu11==11.7.4.91 in /usr/local/lib/python3.10/dist-packages (from torch>=1.10.0->accelerate==0.28.0) (11.7.4.91)\n",
      "Requirement already satisfied: nvidia-nccl-cu11==2.14.3 in /usr/local/lib/python3.10/dist-packages (from torch>=1.10.0->accelerate==0.28.0) (2.14.3)\n",
      "Requirement already satisfied: nvidia-nvtx-cu11==11.7.91 in /usr/local/lib/python3.10/dist-packages (from torch>=1.10.0->accelerate==0.28.0) (11.7.91)\n",
      "Requirement already satisfied: triton==2.0.0 in /usr/local/lib/python3.10/dist-packages (from torch>=1.10.0->accelerate==0.28.0) (2.0.0)\n",
      "Requirement already satisfied: setuptools in /usr/local/lib/python3.10/dist-packages (from nvidia-cublas-cu11==11.10.3.66->torch>=1.10.0->accelerate==0.28.0) (75.1.0)\n",
      "Requirement already satisfied: wheel in /usr/local/lib/python3.10/dist-packages (from nvidia-cublas-cu11==11.10.3.66->torch>=1.10.0->accelerate==0.28.0) (0.45.1)\n",
      "Requirement already satisfied: cmake in /usr/local/lib/python3.10/dist-packages (from triton==2.0.0->torch>=1.10.0->accelerate==0.28.0) (3.31.2)\n",
      "Requirement already satisfied: lit in /usr/local/lib/python3.10/dist-packages (from triton==2.0.0->torch>=1.10.0->accelerate==0.28.0) (18.1.8)\n",
      "Requirement already satisfied: fsspec>=2023.5.0 in /usr/local/lib/python3.10/dist-packages (from huggingface-hub->accelerate==0.28.0) (2024.10.0)\n",
      "Requirement already satisfied: requests in /usr/local/lib/python3.10/dist-packages (from huggingface-hub->accelerate==0.28.0) (2.32.3)\n",
      "Requirement already satisfied: tqdm>=4.42.1 in /usr/local/lib/python3.10/dist-packages (from huggingface-hub->accelerate==0.28.0) (4.67.1)\n",
      "Requirement already satisfied: MarkupSafe>=2.0 in /usr/local/lib/python3.10/dist-packages (from jinja2->torch>=1.10.0->accelerate==0.28.0) (3.0.2)\n",
      "Requirement already satisfied: charset-normalizer<4,>=2 in /usr/local/lib/python3.10/dist-packages (from requests->huggingface-hub->accelerate==0.28.0) (3.4.1)\n",
      "Requirement already satisfied: idna<4,>=2.5 in /usr/local/lib/python3.10/dist-packages (from requests->huggingface-hub->accelerate==0.28.0) (3.10)\n",
      "Requirement already satisfied: urllib3<3,>=1.21.1 in /usr/local/lib/python3.10/dist-packages (from requests->huggingface-hub->accelerate==0.28.0) (2.3.0)\n",
      "Requirement already satisfied: certifi>=2017.4.17 in /usr/local/lib/python3.10/dist-packages (from requests->huggingface-hub->accelerate==0.28.0) (2024.12.14)\n",
      "Requirement already satisfied: mpmath<1.4,>=1.1.0 in /usr/local/lib/python3.10/dist-packages (from sympy->torch>=1.10.0->accelerate==0.28.0) (1.3.0)\n",
      "Downloading accelerate-0.28.0-py3-none-any.whl (290 kB)\n",
      "\u001b[2K   \u001b[90m━━━━━━━━━━━━━━━━━━━━━━━━━━━━━━━━━━━━━━━━\u001b[0m \u001b[32m290.1/290.1 kB\u001b[0m \u001b[31m5.5 MB/s\u001b[0m eta \u001b[36m0:00:00\u001b[0m\n",
      "\u001b[?25hInstalling collected packages: accelerate\n",
      "  Attempting uninstall: accelerate\n",
      "    Found existing installation: accelerate 1.2.1\n",
      "    Uninstalling accelerate-1.2.1:\n",
      "      Successfully uninstalled accelerate-1.2.1\n",
      "Successfully installed accelerate-0.28.0\n"
     ]
    }
   ],
   "source": [
    "!pip install inseq==0.5.0\n",
    "!pip install transformers==4.40.2\n",
    "!pip install bitsandbytes==0.43.1\n",
    "!pip install -U accelerate==0.28.0"
   ]
  },
  {
   "cell_type": "markdown",
   "id": "SP6eYcWfN3GM",
   "metadata": {
    "id": "SP6eYcWfN3GM",
    "tags": []
   },
   "source": [
    "## 可视化翻译任务"
   ]
  },
  {
   "cell_type": "code",
   "execution_count": 4,
   "id": "b5VCncgNN3GN",
   "metadata": {
    "colab": {
     "base_uri": "https://localhost:8080/",
     "height": 1000
    },
    "execution": {
     "iopub.execute_input": "2024-11-07T14:56:44.189931Z",
     "iopub.status.busy": "2024-11-07T14:56:44.189475Z",
     "iopub.status.idle": "2024-11-07T14:56:55.884948Z",
     "shell.execute_reply": "2024-11-07T14:56:55.883680Z",
     "shell.execute_reply.started": "2024-11-07T14:56:44.189886Z"
    },
    "id": "b5VCncgNN3GN",
    "outputId": "f1998b34-feb9-4825-9333-81695cdcf4fc",
    "tags": []
   },
   "outputs": [
    {
     "name": "stdout",
     "output_type": "stream",
     "text": [
      "======= 归因方法: saliency =======\n"
     ]
    },
    {
     "name": "stderr",
     "output_type": "stream",
     "text": [
      "Attributing with saliency...: 100%|██████████| 16/16 [00:05<00:00,  2.54it/s]\n"
     ]
    },
    {
     "data": {
      "text/html": [
       "<br/><b>0th instance:</b><br/>\n",
       "<html>\n",
       "<div id=\"aihnekpuqrwefbxirhdo_viz_container\">\n",
       "    <div id=\"aihnekpuqrwefbxirhdo_content\" style=\"padding:15px;border-style:solid;margin:5px;\">\n",
       "        <div id = \"aihnekpuqrwefbxirhdo_saliency_plot_container\" class=\"aihnekpuqrwefbxirhdo_viz_container\" style=\"display:block\">\n",
       "            \n",
       "<div id=\"axltjkdoxllpfqttswgn_saliency_plot\" class=\"axltjkdoxllpfqttswgn_viz_content\">\n",
       "    <div style=\"margin:5px;font-family:sans-serif;font-weight:bold;\">\n",
       "        <span style=\"font-size: 20px;\">Source Saliency Heatmap</span>\n",
       "        <br>\n",
       "        x: Generated tokens, y: Attributed tokens\n",
       "    </div>\n",
       "    \n",
       "<table border=\"1\" cellpadding=\"5\" cellspacing=\"5\"\n",
       "    style=\"overflow-x:scroll;display:block;\">\n",
       "    <tr><th></th>\n",
       "<th>I</th><th>'</th><th>ve</th><th>learned</th><th>a</th><th>lot</th><th>today</th><th>,</th><th>and</th><th>I</th><th>'</th><th>m</th><th>happy</th><th>.</th><th>&lt;/s&gt;</th></tr><tr><th>今天</th><th style=\"background:rgba(255.0, 13.0, 87.0, 0.24325609031491383)\">0.117</th><th style=\"background:rgba(255.0, 13.0, 87.0, 0.29055258467023165)\">0.138</th><th style=\"background:rgba(255.0, 13.0, 87.0, 0.2117250940780353)\">0.102</th><th style=\"background:rgba(255.0, 13.0, 87.0, 0.2511388393741335)\">0.119</th><th style=\"background:rgba(255.0, 13.0, 87.0, 0.219607843137255)\">0.107</th><th style=\"background:rgba(255.0, 13.0, 87.0, 0.23537334125569415)\">0.114</th><th style=\"background:rgba(255.0, 13.0, 87.0, 0.6295107942166767)\">0.297</th><th style=\"background:rgba(255.0, 13.0, 87.0, 0.18019409784115661)\">0.088</th><th style=\"background:rgba(255.0, 13.0, 87.0, 0.219607843137255)\">0.105</th><th style=\"background:rgba(255.0, 13.0, 87.0, 0.15654585066349747)\">0.075</th><th style=\"background:rgba(255.0, 13.0, 87.0, 0.16442859972271742)\">0.078</th><th style=\"background:rgba(255.0, 13.0, 87.0, 0.15654585066349747)\">0.077</th><th style=\"background:rgba(255.0, 13.0, 87.0, 0.12501485442661908)\">0.059</th><th style=\"background:rgba(255.0, 13.0, 87.0, 0.1959595959595959)\">0.093</th><th style=\"background:rgba(255.0, 13.0, 87.0, 0.26690433749257286)\">0.127</th></tr><tr><th>学到</th><th style=\"background:rgba(255.0, 13.0, 87.0, 0.5822142998613588)\">0.274</th><th style=\"background:rgba(255.0, 13.0, 87.0, 0.5191523073876015)\">0.244</th><th style=\"background:rgba(255.0, 13.0, 87.0, 0.48762131115072294)\">0.231</th><th style=\"background:rgba(255.0, 13.0, 87.0, 0.8423450188156072)\">0.397</th><th style=\"background:rgba(255.0, 13.0, 87.0, 0.5743315508021392)\">0.272</th><th style=\"background:rgba(255.0, 13.0, 87.0, 0.5664488017429193)\">0.269</th><th style=\"background:rgba(255.0, 13.0, 87.0, 0.43244206773618543)\">0.206</th><th style=\"background:rgba(255.0, 13.0, 87.0, 0.36149732620320857)\">0.172</th><th style=\"background:rgba(255.0, 13.0, 87.0, 0.3536145771439889)\">0.168</th><th style=\"background:rgba(255.0, 13.0, 87.0, 0.3851455733808676)\">0.182</th><th style=\"background:rgba(255.0, 13.0, 87.0, 0.29843533372945136)\">0.143</th><th style=\"background:rgba(255.0, 13.0, 87.0, 0.3299663299663301)\">0.159</th><th style=\"background:rgba(255.0, 13.0, 87.0, 0.29843533372945136)\">0.144</th><th style=\"background:rgba(255.0, 13.0, 87.0, 0.4087938205585263)\">0.193</th><th style=\"background:rgba(255.0, 13.0, 87.0, 0.44032481679540497)\">0.208</th></tr><tr><th>了很多</th><th style=\"background:rgba(255.0, 13.0, 87.0, 0.29843533372945136)\">0.144</th><th style=\"background:rgba(255.0, 13.0, 87.0, 0.2117250940780353)\">0.101</th><th style=\"background:rgba(255.0, 13.0, 87.0, 0.24325609031491383)\">0.115</th><th style=\"background:rgba(255.0, 13.0, 87.0, 0.23537334125569415)\">0.113</th><th style=\"background:rgba(255.0, 13.0, 87.0, 0.5033868092691621)\">0.24</th><th style=\"background:rgba(255.0, 13.0, 87.0, 0.5743315508021392)\">0.273</th><th style=\"background:rgba(255.0, 13.0, 87.0, 0.24325609031491383)\">0.116</th><th style=\"background:rgba(255.0, 13.0, 87.0, 0.24325609031491383)\">0.118</th><th style=\"background:rgba(255.0, 13.0, 87.0, 0.219607843137255)\">0.105</th><th style=\"background:rgba(255.0, 13.0, 87.0, 0.15654585066349747)\">0.075</th><th style=\"background:rgba(255.0, 13.0, 87.0, 0.14078035254505847)\">0.07</th><th style=\"background:rgba(255.0, 13.0, 87.0, 0.14866310160427795)\">0.074</th><th style=\"background:rgba(255.0, 13.0, 87.0, 0.14866310160427795)\">0.071</th><th style=\"background:rgba(255.0, 13.0, 87.0, 0.2117250940780353)\">0.102</th><th style=\"background:rgba(255.0, 13.0, 87.0, 0.1959595959595959)\">0.096</th></tr><tr><th>,</th><th style=\"background:rgba(255.0, 13.0, 87.0, 0.12501485442661908)\">0.061</th><th style=\"background:rgba(255.0, 13.0, 87.0, 0.10136660724896006)\">0.048</th><th style=\"background:rgba(255.0, 13.0, 87.0, 0.10924935630817992)\">0.055</th><th style=\"background:rgba(255.0, 13.0, 87.0, 0.06195286195286207)\">0.031</th><th style=\"background:rgba(255.0, 13.0, 87.0, 0.06983561101208159)\">0.036</th><th style=\"background:rgba(255.0, 13.0, 87.0, 0.09348385818974037)\">0.045</th><th style=\"background:rgba(255.0, 13.0, 87.0, 0.09348385818974037)\">0.047</th><th style=\"background:rgba(255.0, 13.0, 87.0, 0.219607843137255)\">0.105</th><th style=\"background:rgba(255.0, 13.0, 87.0, 0.14866310160427795)\">0.071</th><th style=\"background:rgba(255.0, 13.0, 87.0, 0.07771836007130124)\">0.039</th><th style=\"background:rgba(255.0, 13.0, 87.0, 0.06983561101208159)\">0.034</th><th style=\"background:rgba(255.0, 13.0, 87.0, 0.06195286195286207)\">0.03</th><th style=\"background:rgba(255.0, 13.0, 87.0, 0.05407011289364243)\">0.029</th><th style=\"background:rgba(255.0, 13.0, 87.0, 0.07771836007130124)\">0.04</th><th style=\"background:rgba(255.0, 13.0, 87.0, 0.12501485442661908)\">0.063</th></tr><tr><th>我</th><th style=\"background:rgba(255.0, 13.0, 87.0, 0.16442859972271742)\">0.08</th><th style=\"background:rgba(255.0, 13.0, 87.0, 0.14078035254505847)\">0.07</th><th style=\"background:rgba(255.0, 13.0, 87.0, 0.15654585066349747)\">0.077</th><th style=\"background:rgba(255.0, 13.0, 87.0, 0.09348385818974037)\">0.045</th><th style=\"background:rgba(255.0, 13.0, 87.0, 0.08560110913052081)\">0.044</th><th style=\"background:rgba(255.0, 13.0, 87.0, 0.08560110913052081)\">0.042</th><th style=\"background:rgba(255.0, 13.0, 87.0, 0.08560110913052081)\">0.044</th><th style=\"background:rgba(255.0, 13.0, 87.0, 0.23537334125569415)\">0.112</th><th style=\"background:rgba(255.0, 13.0, 87.0, 0.1959595959595959)\">0.094</th><th style=\"background:rgba(255.0, 13.0, 87.0, 0.20384234501881549)\">0.099</th><th style=\"background:rgba(255.0, 13.0, 87.0, 0.17231134878193693)\">0.084</th><th style=\"background:rgba(255.0, 13.0, 87.0, 0.13289760348583876)\">0.065</th><th style=\"background:rgba(255.0, 13.0, 87.0, 0.14078035254505847)\">0.07</th><th style=\"background:rgba(255.0, 13.0, 87.0, 0.14866310160427795)\">0.072</th><th style=\"background:rgba(255.0, 13.0, 87.0, 0.12501485442661908)\">0.062</th></tr><tr><th>很开心</th><th style=\"background:rgba(255.0, 13.0, 87.0, 0.3693800752624282)\">0.174</th><th style=\"background:rgba(255.0, 13.0, 87.0, 0.44032481679540497)\">0.21</th><th style=\"background:rgba(255.0, 13.0, 87.0, 0.5585660526836996)\">0.266</th><th style=\"background:rgba(255.0, 13.0, 87.0, 0.36149732620320857)\">0.171</th><th style=\"background:rgba(255.0, 13.0, 87.0, 0.306318082788671)\">0.147</th><th style=\"background:rgba(255.0, 13.0, 87.0, 0.2747870865517925)\">0.133</th><th style=\"background:rgba(255.0, 13.0, 87.0, 0.2826698356110118)\">0.137</th><th style=\"background:rgba(255.0, 13.0, 87.0, 0.4718558130322837)\">0.222</th><th style=\"background:rgba(255.0, 13.0, 87.0, 0.5191523073876015)\">0.246</th><th style=\"background:rgba(255.0, 13.0, 87.0, 0.7871657754010695)\">0.372</th><th style=\"background:rgba(255.0, 13.0, 87.0, 0.9054070112893643)\">0.427</th><th style=\"background:rgba(255.0, 13.0, 87.0, 0.9290552584670234)\">0.44</th><th style=\"background:rgba(255.0, 13.0, 87.0, 1.0)\">0.473</th><th style=\"background:rgba(255.0, 13.0, 87.0, 0.6768072885719946)\">0.32</th><th style=\"background:rgba(255.0, 13.0, 87.0, 0.39302832244008706)\">0.188</th></tr><tr><th>。</th><th style=\"background:rgba(255.0, 13.0, 87.0, 0.1880768469003763)\">0.092</th><th style=\"background:rgba(255.0, 13.0, 87.0, 0.23537334125569415)\">0.112</th><th style=\"background:rgba(255.0, 13.0, 87.0, 0.1880768469003763)\">0.092</th><th style=\"background:rgba(255.0, 13.0, 87.0, 0.13289760348583876)\">0.066</th><th style=\"background:rgba(255.0, 13.0, 87.0, 0.1880768469003763)\">0.09</th><th style=\"background:rgba(255.0, 13.0, 87.0, 0.14866310160427795)\">0.072</th><th style=\"background:rgba(255.0, 13.0, 87.0, 0.1959595959595959)\">0.094</th><th style=\"background:rgba(255.0, 13.0, 87.0, 0.22749059219647458)\">0.111</th><th style=\"background:rgba(255.0, 13.0, 87.0, 0.26690433749257286)\">0.129</th><th style=\"background:rgba(255.0, 13.0, 87.0, 0.1959595959595959)\">0.096</th><th style=\"background:rgba(255.0, 13.0, 87.0, 0.1959595959595959)\">0.096</th><th style=\"background:rgba(255.0, 13.0, 87.0, 0.1959595959595959)\">0.093</th><th style=\"background:rgba(255.0, 13.0, 87.0, 0.1959595959595959)\">0.093</th><th style=\"background:rgba(255.0, 13.0, 87.0, 0.23537334125569415)\">0.111</th><th style=\"background:rgba(255.0, 13.0, 87.0, 0.3536145771439889)\">0.167</th></tr><tr><th>&lt;/s&gt;</th><th style=\"background:rgba(255.0, 13.0, 87.0, 0.1171321053673995)\">0.059</th><th style=\"background:rgba(255.0, 13.0, 87.0, 0.15654585066349747)\">0.076</th><th style=\"background:rgba(255.0, 13.0, 87.0, 0.12501485442661908)\">0.063</th><th style=\"background:rgba(255.0, 13.0, 87.0, 0.1171321053673995)\">0.058</th><th style=\"background:rgba(255.0, 13.0, 87.0, 0.13289760348583876)\">0.064</th><th style=\"background:rgba(255.0, 13.0, 87.0, 0.10924935630817992)\">0.054</th><th style=\"background:rgba(255.0, 13.0, 87.0, 0.1171321053673995)\">0.058</th><th style=\"background:rgba(255.0, 13.0, 87.0, 0.14866310160427795)\">0.073</th><th style=\"background:rgba(255.0, 13.0, 87.0, 0.17231134878193693)\">0.083</th><th style=\"background:rgba(255.0, 13.0, 87.0, 0.12501485442661908)\">0.062</th><th style=\"background:rgba(255.0, 13.0, 87.0, 0.14078035254505847)\">0.069</th><th style=\"background:rgba(255.0, 13.0, 87.0, 0.13289760348583876)\">0.064</th><th style=\"background:rgba(255.0, 13.0, 87.0, 0.12501485442661908)\">0.061</th><th style=\"background:rgba(255.0, 13.0, 87.0, 0.14078035254505847)\">0.069</th><th style=\"background:rgba(255.0, 13.0, 87.0, 0.1880768469003763)\">0.091</th></tr><tr style=\"outline: thin solid\"><th><b>probability</b></th><th>0.44</th><th>0.396</th><th>0.267</th><th><b>0.725</b></th><th><b>0.65</b></th><th><b>0.826</b></th><th><b>0.722</b></th><th>0.342</th><th><b>0.551</b></th><th><b>0.817</b></th><th><b>0.762</b></th><th><b>0.888</b></th><th>0.491</th><th><b>0.788</b></th><th><b>0.895</b></th></table>\n",
       "</div>\n",
       "\n",
       "        </div>\n",
       "    </div>\n",
       "</div>\n",
       "</html>\n"
      ],
      "text/plain": [
       "<IPython.core.display.HTML object>"
      ]
     },
     "metadata": {},
     "output_type": "display_data"
    },
    {
     "name": "stdout",
     "output_type": "stream",
     "text": [
      "======= 归因方法: attention =======\n"
     ]
    },
    {
     "name": "stderr",
     "output_type": "stream",
     "text": [
      "Attributing with attention...: 100%|██████████| 16/16 [00:01<00:00, 12.40it/s]\n"
     ]
    },
    {
     "data": {
      "text/html": [
       "<br/><b>0th instance:</b><br/>\n",
       "<html>\n",
       "<div id=\"jgxwukkmcuctabqmyrpp_viz_container\">\n",
       "    <div id=\"jgxwukkmcuctabqmyrpp_content\" style=\"padding:15px;border-style:solid;margin:5px;\">\n",
       "        <div id = \"jgxwukkmcuctabqmyrpp_saliency_plot_container\" class=\"jgxwukkmcuctabqmyrpp_viz_container\" style=\"display:block\">\n",
       "            \n",
       "<div id=\"uyouqtriegpaekpsftza_saliency_plot\" class=\"uyouqtriegpaekpsftza_viz_content\">\n",
       "    <div style=\"margin:5px;font-family:sans-serif;font-weight:bold;\">\n",
       "        <span style=\"font-size: 20px;\">Source Saliency Heatmap</span>\n",
       "        <br>\n",
       "        x: Generated tokens, y: Attributed tokens\n",
       "    </div>\n",
       "    \n",
       "<table border=\"1\" cellpadding=\"5\" cellspacing=\"5\"\n",
       "    style=\"overflow-x:scroll;display:block;\">\n",
       "    <tr><th></th>\n",
       "<th>I</th><th>'</th><th>ve</th><th>learned</th><th>a</th><th>lot</th><th>today</th><th>,</th><th>and</th><th>I</th><th>'</th><th>m</th><th>happy</th><th>.</th><th>&lt;/s&gt;</th></tr><tr><th>今天</th><th style=\"background:rgba(255.0, 13.0, 87.0, 0.15654585066349747)\">0.09</th><th style=\"background:rgba(255.0, 13.0, 87.0, 0.12501485442661908)\">0.073</th><th style=\"background:rgba(255.0, 13.0, 87.0, 0.08560110913052081)\">0.054</th><th style=\"background:rgba(255.0, 13.0, 87.0, 0.1171321053673995)\">0.071</th><th style=\"background:rgba(255.0, 13.0, 87.0, 0.09348385818974037)\">0.057</th><th style=\"background:rgba(255.0, 13.0, 87.0, 0.09348385818974037)\">0.055</th><th style=\"background:rgba(255.0, 13.0, 87.0, 0.3299663299663301)\">0.191</th><th style=\"background:rgba(255.0, 13.0, 87.0, 0.2747870865517925)\">0.16</th><th style=\"background:rgba(255.0, 13.0, 87.0, 0.06195286195286207)\">0.038</th><th style=\"background:rgba(255.0, 13.0, 87.0, 0.03830461477520289)\">0.023</th><th style=\"background:rgba(255.0, 13.0, 87.0, 0.03830461477520289)\">0.023</th><th style=\"background:rgba(255.0, 13.0, 87.0, 0.02253911665676371)\">0.018</th><th style=\"background:rgba(255.0, 13.0, 87.0, 0.030421865715983164)\">0.02</th><th style=\"background:rgba(255.0, 13.0, 87.0, 0.02253911665676371)\">0.015</th><th style=\"background:rgba(255.0, 13.0, 87.0, 0.02253911665676371)\">0.017</th></tr><tr><th>学到</th><th style=\"background:rgba(255.0, 13.0, 87.0, 0.3142008318478907)\">0.184</th><th style=\"background:rgba(255.0, 13.0, 87.0, 0.36149732620320857)\">0.211</th><th style=\"background:rgba(255.0, 13.0, 87.0, 0.14078035254505847)\">0.085</th><th style=\"background:rgba(255.0, 13.0, 87.0, 0.4245593186769657)\">0.245</th><th style=\"background:rgba(255.0, 13.0, 87.0, 0.3772628243216479)\">0.217</th><th style=\"background:rgba(255.0, 13.0, 87.0, 0.09348385818974037)\">0.055</th><th style=\"background:rgba(255.0, 13.0, 87.0, 0.10136660724896006)\">0.063</th><th style=\"background:rgba(255.0, 13.0, 87.0, 0.05407011289364243)\">0.033</th><th style=\"background:rgba(255.0, 13.0, 87.0, 0.04618736383442265)\">0.028</th><th style=\"background:rgba(255.0, 13.0, 87.0, 0.03830461477520289)\">0.023</th><th style=\"background:rgba(255.0, 13.0, 87.0, 0.04618736383442265)\">0.03</th><th style=\"background:rgba(255.0, 13.0, 87.0, 0.030421865715983164)\">0.019</th><th style=\"background:rgba(255.0, 13.0, 87.0, 0.03830461477520289)\">0.023</th><th style=\"background:rgba(255.0, 13.0, 87.0, 0.030421865715983164)\">0.02</th><th style=\"background:rgba(255.0, 13.0, 87.0, 0.014656367597544035)\">0.013</th></tr><tr><th>了很多</th><th style=\"background:rgba(255.0, 13.0, 87.0, 0.20384234501881549)\">0.12</th><th style=\"background:rgba(255.0, 13.0, 87.0, 0.15654585066349747)\">0.092</th><th style=\"background:rgba(255.0, 13.0, 87.0, 0.12501485442661908)\">0.073</th><th style=\"background:rgba(255.0, 13.0, 87.0, 0.1959595959595959)\">0.117</th><th style=\"background:rgba(255.0, 13.0, 87.0, 0.44820756585462457)\">0.257</th><th style=\"background:rgba(255.0, 13.0, 87.0, 0.5979797979797981)\">0.343</th><th style=\"background:rgba(255.0, 13.0, 87.0, 0.3536145771439889)\">0.205</th><th style=\"background:rgba(255.0, 13.0, 87.0, 0.03830461477520289)\">0.023</th><th style=\"background:rgba(255.0, 13.0, 87.0, 0.04618736383442265)\">0.029</th><th style=\"background:rgba(255.0, 13.0, 87.0, 0.030421865715983164)\">0.021</th><th style=\"background:rgba(255.0, 13.0, 87.0, 0.02253911665676371)\">0.016</th><th style=\"background:rgba(255.0, 13.0, 87.0, 0.02253911665676371)\">0.016</th><th style=\"background:rgba(255.0, 13.0, 87.0, 0.030421865715983164)\">0.021</th><th style=\"background:rgba(255.0, 13.0, 87.0, 0.02253911665676371)\">0.015</th><th style=\"background:rgba(255.0, 13.0, 87.0, 0.02253911665676371)\">0.014</th></tr><tr><th>,</th><th style=\"background:rgba(255.0, 13.0, 87.0, 0.13289760348583876)\">0.08</th><th style=\"background:rgba(255.0, 13.0, 87.0, 0.07771836007130124)\">0.046</th><th style=\"background:rgba(255.0, 13.0, 87.0, 0.04618736383442265)\">0.031</th><th style=\"background:rgba(255.0, 13.0, 87.0, 0.030421865715983164)\">0.022</th><th style=\"background:rgba(255.0, 13.0, 87.0, 0.030421865715983164)\">0.022</th><th style=\"background:rgba(255.0, 13.0, 87.0, 0.03830461477520289)\">0.024</th><th style=\"background:rgba(255.0, 13.0, 87.0, 0.06983561101208159)\">0.045</th><th style=\"background:rgba(255.0, 13.0, 87.0, 0.10136660724896006)\">0.062</th><th style=\"background:rgba(255.0, 13.0, 87.0, 0.22749059219647458)\">0.133</th><th style=\"background:rgba(255.0, 13.0, 87.0, 0.13289760348583876)\">0.079</th><th style=\"background:rgba(255.0, 13.0, 87.0, 0.030421865715983164)\">0.022</th><th style=\"background:rgba(255.0, 13.0, 87.0, 0.02253911665676371)\">0.015</th><th style=\"background:rgba(255.0, 13.0, 87.0, 0.014656367597544035)\">0.013</th><th style=\"background:rgba(255.0, 13.0, 87.0, 0.014656367597544035)\">0.009</th><th style=\"background:rgba(255.0, 13.0, 87.0, 0.09348385818974037)\">0.055</th></tr><tr><th>我</th><th style=\"background:rgba(255.0, 13.0, 87.0, 0.08560110913052081)\">0.053</th><th style=\"background:rgba(255.0, 13.0, 87.0, 0.2511388393741335)\">0.145</th><th style=\"background:rgba(255.0, 13.0, 87.0, 0.10136660724896006)\">0.061</th><th style=\"background:rgba(255.0, 13.0, 87.0, 0.06195286195286207)\">0.039</th><th style=\"background:rgba(255.0, 13.0, 87.0, 0.02253911665676371)\">0.017</th><th style=\"background:rgba(255.0, 13.0, 87.0, 0.030421865715983164)\">0.018</th><th style=\"background:rgba(255.0, 13.0, 87.0, 0.03830461477520289)\">0.024</th><th style=\"background:rgba(255.0, 13.0, 87.0, 0.16442859972271742)\">0.098</th><th style=\"background:rgba(255.0, 13.0, 87.0, 0.2117250940780353)\">0.123</th><th style=\"background:rgba(255.0, 13.0, 87.0, 0.22749059219647458)\">0.133</th><th style=\"background:rgba(255.0, 13.0, 87.0, 0.3142008318478907)\">0.184</th><th style=\"background:rgba(255.0, 13.0, 87.0, 0.14078035254505847)\">0.082</th><th style=\"background:rgba(255.0, 13.0, 87.0, 0.1959595959595959)\">0.115</th><th style=\"background:rgba(255.0, 13.0, 87.0, 0.03830461477520289)\">0.025</th><th style=\"background:rgba(255.0, 13.0, 87.0, 0.030421865715983164)\">0.021</th></tr><tr><th>很开心</th><th style=\"background:rgba(255.0, 13.0, 87.0, 0.10136660724896006)\">0.061</th><th style=\"background:rgba(255.0, 13.0, 87.0, 0.306318082788671)\">0.18</th><th style=\"background:rgba(255.0, 13.0, 87.0, 0.2117250940780353)\">0.123</th><th style=\"background:rgba(255.0, 13.0, 87.0, 0.23537334125569415)\">0.138</th><th style=\"background:rgba(255.0, 13.0, 87.0, 0.10136660724896006)\">0.063</th><th style=\"background:rgba(255.0, 13.0, 87.0, 0.06983561101208159)\">0.044</th><th style=\"background:rgba(255.0, 13.0, 87.0, 0.10136660724896006)\">0.061</th><th style=\"background:rgba(255.0, 13.0, 87.0, 0.14078035254505847)\">0.085</th><th style=\"background:rgba(255.0, 13.0, 87.0, 0.29055258467023165)\">0.168</th><th style=\"background:rgba(255.0, 13.0, 87.0, 0.4009110714993067)\">0.23</th><th style=\"background:rgba(255.0, 13.0, 87.0, 0.621628045157457)\">0.356</th><th style=\"background:rgba(255.0, 13.0, 87.0, 0.4087938205585263)\">0.236</th><th style=\"background:rgba(255.0, 13.0, 87.0, 0.8029312735195088)\">0.461</th><th style=\"background:rgba(255.0, 13.0, 87.0, 0.43244206773618543)\">0.248</th><th style=\"background:rgba(255.0, 13.0, 87.0, 0.06195286195286207)\">0.037</th></tr><tr><th>。</th><th style=\"background:rgba(255.0, 13.0, 87.0, 0.14866310160427795)\">0.088</th><th style=\"background:rgba(255.0, 13.0, 87.0, 0.07771836007130124)\">0.048</th><th style=\"background:rgba(255.0, 13.0, 87.0, 0.10136660724896006)\">0.059</th><th style=\"background:rgba(255.0, 13.0, 87.0, 0.05407011289364243)\">0.036</th><th style=\"background:rgba(255.0, 13.0, 87.0, 0.04618736383442265)\">0.028</th><th style=\"background:rgba(255.0, 13.0, 87.0, 0.07771836007130124)\">0.045</th><th style=\"background:rgba(255.0, 13.0, 87.0, 0.05407011289364243)\">0.032</th><th style=\"background:rgba(255.0, 13.0, 87.0, 0.1171321053673995)\">0.071</th><th style=\"background:rgba(255.0, 13.0, 87.0, 0.1959595959595959)\">0.115</th><th style=\"background:rgba(255.0, 13.0, 87.0, 0.1959595959595959)\">0.117</th><th style=\"background:rgba(255.0, 13.0, 87.0, 0.08560110913052081)\">0.052</th><th style=\"background:rgba(255.0, 13.0, 87.0, 0.08560110913052081)\">0.054</th><th style=\"background:rgba(255.0, 13.0, 87.0, 0.06195286195286207)\">0.04</th><th style=\"background:rgba(255.0, 13.0, 87.0, 0.15654585066349747)\">0.092</th><th style=\"background:rgba(255.0, 13.0, 87.0, 0.48762131115072294)\">0.279</th></tr><tr><th>&lt;/s&gt;</th><th style=\"background:rgba(255.0, 13.0, 87.0, 0.5664488017429193)\">0.324</th><th style=\"background:rgba(255.0, 13.0, 87.0, 0.3536145771439889)\">0.205</th><th style=\"background:rgba(255.0, 13.0, 87.0, 0.8975242622301447)\">0.515</th><th style=\"background:rgba(255.0, 13.0, 87.0, 0.5743315508021392)\">0.332</th><th style=\"background:rgba(255.0, 13.0, 87.0, 0.5900970489205783)\">0.34</th><th style=\"background:rgba(255.0, 13.0, 87.0, 0.7241037829273124)\">0.415</th><th style=\"background:rgba(255.0, 13.0, 87.0, 0.6610417904535549)\">0.379</th><th style=\"background:rgba(255.0, 13.0, 87.0, 0.8186967716379481)\">0.469</th><th style=\"background:rgba(255.0, 13.0, 87.0, 0.6373935432758963)\">0.367</th><th style=\"background:rgba(255.0, 13.0, 87.0, 0.6531590413943356)\">0.374</th><th style=\"background:rgba(255.0, 13.0, 87.0, 0.55068330362448)\">0.317</th><th style=\"background:rgba(255.0, 13.0, 87.0, 0.976351752822341)\">0.561</th><th style=\"background:rgba(255.0, 13.0, 87.0, 0.5349178055060405)\">0.307</th><th style=\"background:rgba(255.0, 13.0, 87.0, 1.0)\">0.576</th><th style=\"background:rgba(255.0, 13.0, 87.0, 0.9842345018815607)\">0.565</th></tr><tr style=\"outline: thin solid\"><th><b>probability</b></th><th>0.44</th><th>0.396</th><th>0.267</th><th><b>0.725</b></th><th><b>0.65</b></th><th><b>0.826</b></th><th><b>0.722</b></th><th>0.342</th><th><b>0.551</b></th><th><b>0.817</b></th><th><b>0.762</b></th><th><b>0.888</b></th><th>0.491</th><th><b>0.788</b></th><th><b>0.895</b></th></table>\n",
       "</div>\n",
       "\n",
       "        </div>\n",
       "    </div>\n",
       "</div>\n",
       "</html>\n"
      ],
      "text/plain": [
       "<IPython.core.display.HTML object>"
      ]
     },
     "metadata": {},
     "output_type": "display_data"
    }
   ],
   "source": [
    "import inseq\n",
    "\n",
    "# 要使用的归因方法列表\n",
    "attribution_methods = ['saliency', 'attention']\n",
    "\n",
    "for method in attribution_methods:\n",
    "    print(f\"======= 归因方法: {method} =======\")\n",
    "    # 加载中译英模型并设置归因方法\n",
    "    model = inseq.load_model(\"Helsinki-NLP/opus-mt-zh-en\", method)\n",
    "#     model = inseq.load_model(\"opus-mt-zh-en\", method)  # 本地\n",
    "\n",
    "    # 使用指定的归因方法对输入文本进行归因\n",
    "    attribution_result = model.attribute(\n",
    "        input_texts=\"今天学到了很多，我很开心。\",\n",
    "        step_scores=[\"probability\"],\n",
    "    )\n",
    "\n",
    "    # 从tokenizer中去除 '▁' 前缀以避免混淆（可以忽略这段代码）\n",
    "    for attr in attribution_result.sequence_attributions:\n",
    "        for item in attr.source:\n",
    "            item.token = item.token.replace('▁', '')\n",
    "        for item in attr.target:\n",
    "            item.token = item.token.replace('▁', '')\n",
    "\n",
    "    # 显示归因结果\n",
    "    attribution_result.show()"
   ]
  },
  {
   "cell_type": "markdown",
   "id": "H9RtJlsiN3GN",
   "metadata": {
    "id": "H9RtJlsiN3GN",
    "tags": []
   },
   "source": [
    "## 可视化文本生成任务"
   ]
  },
  {
   "cell_type": "markdown",
   "id": "Dwcjcd8ON3GO",
   "metadata": {
    "id": "Dwcjcd8ON3GO",
    "tags": []
   },
   "source": [
    "### 下载 GPT-2 XL 模型\n",
    "\n",
    "如果只是为了查看的话，可以取消注释部分下载 GPT-2，因为 GPT-2 XL 下载完需要占用 30G，记得注释原来的部分。"
   ]
  },
  {
   "cell_type": "code",
   "execution_count": 3,
   "id": "x_qbvad8N3GO",
   "metadata": {
    "colab": {
     "base_uri": "https://localhost:8080/",
     "height": 580,
     "referenced_widgets": [
      "29bff5238b8948b0a55aa187e1db7916",
      "38a2a7cbfaa34a97a3bb82a1bd37756c",
      "3b6efddcf5934c7882ab8dbb5ef07f21",
      "1522142d31c04fa3ac4662f8aed75c84",
      "07a47c6f45284cfd84b2660adf311c8f",
      "07e5b6219e854ce7bd9d0ca12dd4ebed",
      "6184c7dd21a54a6dbe5210f4bebedc84",
      "47f4959d6b8a43a6a053cf853a5d32ee",
      "b0989084e9724bd1918cb5611777c056",
      "15d7bd9bf6ef49f89a923ba5b46e256d",
      "1bb240f8450e451cb42c13a99526700d"
     ]
    },
    "execution": {
     "iopub.execute_input": "2024-11-07T15:08:35.133415Z",
     "iopub.status.busy": "2024-11-07T15:08:35.132505Z",
     "iopub.status.idle": "2024-11-07T15:08:42.121818Z",
     "shell.execute_reply": "2024-11-07T15:08:42.121011Z",
     "shell.execute_reply.started": "2024-11-07T15:08:35.133365Z"
    },
    "id": "x_qbvad8N3GO",
    "outputId": "df4060ab-549d-4ffa-9e1b-5134263219a5",
    "tags": []
   },
   "outputs": [
    {
     "data": {
      "application/vnd.jupyter.widget-view+json": {
       "model_id": "29bff5238b8948b0a55aa187e1db7916",
       "version_major": 2,
       "version_minor": 0
      },
      "text/plain": [
       "config.json:   0%|          | 0.00/689 [00:00<?, ?B/s]"
      ]
     },
     "metadata": {},
     "output_type": "display_data"
    },
    {
     "ename": "ImportError",
     "errorDetails": {
      "actions": [
       {
        "action": "open_url",
        "actionText": "Open Examples",
        "url": "/notebooks/snippets/importing_libraries.ipynb"
       }
      ]
     },
     "evalue": "Using `bitsandbytes` 8-bit quantization requires Accelerate: `pip install accelerate` and the latest version of bitsandbytes: `pip install -i https://pypi.org/simple/ bitsandbytes`",
     "output_type": "error",
     "traceback": [
      "\u001b[0;31m---------------------------------------------------------------------------\u001b[0m",
      "\u001b[0;31mImportError\u001b[0m                               Traceback (most recent call last)",
      "\u001b[0;32m<ipython-input-3-4f0f7e8e157c>\u001b[0m in \u001b[0;36m<cell line: 6>\u001b[0;34m()\u001b[0m\n\u001b[1;32m      4\u001b[0m \u001b[0;31m# 创建一个 BitsAndBytesConfig 对象，用于配置量化选项\u001b[0m\u001b[0;34m\u001b[0m\u001b[0;34m\u001b[0m\u001b[0m\n\u001b[1;32m      5\u001b[0m \u001b[0mbnb_config\u001b[0m \u001b[0;34m=\u001b[0m \u001b[0mBitsAndBytesConfig\u001b[0m\u001b[0;34m(\u001b[0m\u001b[0mload_in_8bit\u001b[0m\u001b[0;34m=\u001b[0m\u001b[0;32mTrue\u001b[0m\u001b[0;34m)\u001b[0m\u001b[0;34m\u001b[0m\u001b[0;34m\u001b[0m\u001b[0m\n\u001b[0;32m----> 6\u001b[0;31m model = AutoModelForCausalLM.from_pretrained(\n\u001b[0m\u001b[1;32m      7\u001b[0m     \u001b[0;34m\"gpt2-xl\"\u001b[0m\u001b[0;34m,\u001b[0m  \u001b[0;31m# \"gpt2\"\u001b[0m\u001b[0;34m\u001b[0m\u001b[0;34m\u001b[0m\u001b[0m\n\u001b[1;32m      8\u001b[0m     \u001b[0mquantization_config\u001b[0m\u001b[0;34m=\u001b[0m\u001b[0mbnb_config\u001b[0m\u001b[0;34m,\u001b[0m\u001b[0;34m\u001b[0m\u001b[0;34m\u001b[0m\u001b[0m\n",
      "\u001b[0;32m/usr/local/lib/python3.10/dist-packages/transformers/models/auto/auto_factory.py\u001b[0m in \u001b[0;36mfrom_pretrained\u001b[0;34m(cls, pretrained_model_name_or_path, *model_args, **kwargs)\u001b[0m\n\u001b[1;32m    561\u001b[0m         \u001b[0;32melif\u001b[0m \u001b[0mtype\u001b[0m\u001b[0;34m(\u001b[0m\u001b[0mconfig\u001b[0m\u001b[0;34m)\u001b[0m \u001b[0;32min\u001b[0m \u001b[0mcls\u001b[0m\u001b[0;34m.\u001b[0m\u001b[0m_model_mapping\u001b[0m\u001b[0;34m.\u001b[0m\u001b[0mkeys\u001b[0m\u001b[0;34m(\u001b[0m\u001b[0;34m)\u001b[0m\u001b[0;34m:\u001b[0m\u001b[0;34m\u001b[0m\u001b[0;34m\u001b[0m\u001b[0m\n\u001b[1;32m    562\u001b[0m             \u001b[0mmodel_class\u001b[0m \u001b[0;34m=\u001b[0m \u001b[0m_get_model_class\u001b[0m\u001b[0;34m(\u001b[0m\u001b[0mconfig\u001b[0m\u001b[0;34m,\u001b[0m \u001b[0mcls\u001b[0m\u001b[0;34m.\u001b[0m\u001b[0m_model_mapping\u001b[0m\u001b[0;34m)\u001b[0m\u001b[0;34m\u001b[0m\u001b[0;34m\u001b[0m\u001b[0m\n\u001b[0;32m--> 563\u001b[0;31m             return model_class.from_pretrained(\n\u001b[0m\u001b[1;32m    564\u001b[0m                 \u001b[0mpretrained_model_name_or_path\u001b[0m\u001b[0;34m,\u001b[0m \u001b[0;34m*\u001b[0m\u001b[0mmodel_args\u001b[0m\u001b[0;34m,\u001b[0m \u001b[0mconfig\u001b[0m\u001b[0;34m=\u001b[0m\u001b[0mconfig\u001b[0m\u001b[0;34m,\u001b[0m \u001b[0;34m**\u001b[0m\u001b[0mhub_kwargs\u001b[0m\u001b[0;34m,\u001b[0m \u001b[0;34m**\u001b[0m\u001b[0mkwargs\u001b[0m\u001b[0;34m\u001b[0m\u001b[0;34m\u001b[0m\u001b[0m\n\u001b[1;32m    565\u001b[0m             )\n",
      "\u001b[0;32m/usr/local/lib/python3.10/dist-packages/transformers/modeling_utils.py\u001b[0m in \u001b[0;36mfrom_pretrained\u001b[0;34m(cls, pretrained_model_name_or_path, config, cache_dir, ignore_mismatched_sizes, force_download, local_files_only, token, revision, use_safetensors, *model_args, **kwargs)\u001b[0m\n\u001b[1;32m   3163\u001b[0m \u001b[0;34m\u001b[0m\u001b[0m\n\u001b[1;32m   3164\u001b[0m         \u001b[0;32mif\u001b[0m \u001b[0mhf_quantizer\u001b[0m \u001b[0;32mis\u001b[0m \u001b[0;32mnot\u001b[0m \u001b[0;32mNone\u001b[0m\u001b[0;34m:\u001b[0m\u001b[0;34m\u001b[0m\u001b[0;34m\u001b[0m\u001b[0m\n\u001b[0;32m-> 3165\u001b[0;31m             hf_quantizer.validate_environment(\n\u001b[0m\u001b[1;32m   3166\u001b[0m                 \u001b[0mtorch_dtype\u001b[0m\u001b[0;34m=\u001b[0m\u001b[0mtorch_dtype\u001b[0m\u001b[0;34m,\u001b[0m \u001b[0mfrom_tf\u001b[0m\u001b[0;34m=\u001b[0m\u001b[0mfrom_tf\u001b[0m\u001b[0;34m,\u001b[0m \u001b[0mfrom_flax\u001b[0m\u001b[0;34m=\u001b[0m\u001b[0mfrom_flax\u001b[0m\u001b[0;34m,\u001b[0m \u001b[0mdevice_map\u001b[0m\u001b[0;34m=\u001b[0m\u001b[0mdevice_map\u001b[0m\u001b[0;34m\u001b[0m\u001b[0;34m\u001b[0m\u001b[0m\n\u001b[1;32m   3167\u001b[0m             )\n",
      "\u001b[0;32m/usr/local/lib/python3.10/dist-packages/transformers/quantizers/quantizer_bnb_8bit.py\u001b[0m in \u001b[0;36mvalidate_environment\u001b[0;34m(self, *args, **kwargs)\u001b[0m\n\u001b[1;32m     60\u001b[0m     \u001b[0;32mdef\u001b[0m \u001b[0mvalidate_environment\u001b[0m\u001b[0;34m(\u001b[0m\u001b[0mself\u001b[0m\u001b[0;34m,\u001b[0m \u001b[0;34m*\u001b[0m\u001b[0margs\u001b[0m\u001b[0;34m,\u001b[0m \u001b[0;34m**\u001b[0m\u001b[0mkwargs\u001b[0m\u001b[0;34m)\u001b[0m\u001b[0;34m:\u001b[0m\u001b[0;34m\u001b[0m\u001b[0;34m\u001b[0m\u001b[0m\n\u001b[1;32m     61\u001b[0m         \u001b[0;32mif\u001b[0m \u001b[0;32mnot\u001b[0m \u001b[0;34m(\u001b[0m\u001b[0mis_accelerate_available\u001b[0m\u001b[0;34m(\u001b[0m\u001b[0;34m)\u001b[0m \u001b[0;32mand\u001b[0m \u001b[0mis_bitsandbytes_available\u001b[0m\u001b[0;34m(\u001b[0m\u001b[0;34m)\u001b[0m\u001b[0;34m)\u001b[0m\u001b[0;34m:\u001b[0m\u001b[0;34m\u001b[0m\u001b[0;34m\u001b[0m\u001b[0m\n\u001b[0;32m---> 62\u001b[0;31m             raise ImportError(\n\u001b[0m\u001b[1;32m     63\u001b[0m                 \u001b[0;34m\"Using `bitsandbytes` 8-bit quantization requires Accelerate: `pip install accelerate` \"\u001b[0m\u001b[0;34m\u001b[0m\u001b[0;34m\u001b[0m\u001b[0m\n\u001b[1;32m     64\u001b[0m                 \u001b[0;34m\"and the latest version of bitsandbytes: `pip install -i https://pypi.org/simple/ bitsandbytes`\"\u001b[0m\u001b[0;34m\u001b[0m\u001b[0;34m\u001b[0m\u001b[0m\n",
      "\u001b[0;31mImportError\u001b[0m: Using `bitsandbytes` 8-bit quantization requires Accelerate: `pip install accelerate` and the latest version of bitsandbytes: `pip install -i https://pypi.org/simple/ bitsandbytes`",
      "",
      "\u001b[0;31m---------------------------------------------------------------------------\u001b[0;32m\nNOTE: If your import is failing due to a missing package, you can\nmanually install dependencies using either !pip or !apt.\n\nTo view examples of installing some common dependencies, click the\n\"Open Examples\" button below.\n\u001b[0;31m---------------------------------------------------------------------------\u001b[0m\n"
     ]
    }
   ],
   "source": [
    "from transformers import AutoModelForCausalLM, BitsAndBytesConfig\n",
    "\n",
    "\n",
    "# 创建一个 BitsAndBytesConfig 对象，用于配置量化选项\n",
    "bnb_config = BitsAndBytesConfig(load_in_8bit=True)\n",
    "model = AutoModelForCausalLM.from_pretrained(\n",
    "    \"gpt2-xl\",  # \"gpt2\"\n",
    "    quantization_config=bnb_config,\n",
    "    device_map={\"\": 0}\n",
    ")"
   ]
  },
  {
   "cell_type": "code",
   "execution_count": null,
   "id": "Z5Y0ajCON3GO",
   "metadata": {
    "execution": {
     "iopub.execute_input": "2024-11-07T15:08:53.553788Z",
     "iopub.status.busy": "2024-11-07T15:08:53.553354Z",
     "iopub.status.idle": "2024-11-07T15:09:17.382215Z",
     "shell.execute_reply": "2024-11-07T15:09:17.381104Z",
     "shell.execute_reply.started": "2024-11-07T15:08:53.553746Z"
    },
    "id": "Z5Y0ajCON3GO",
    "outputId": "e23f5e68-520c-439c-a425-3bd920fde87f",
    "tags": []
   },
   "outputs": [
    {
     "name": "stdout",
     "output_type": "stream",
     "text": [
      "======= 归因方法: saliency =======\n"
     ]
    },
    {
     "name": "stderr",
     "output_type": "stream",
     "text": [
      "The attention mask and the pad token id were not set. As a consequence, you may observe unexpected behavior. Please pass your input's `attention_mask` to obtain reliable results.\n",
      "Setting `pad_token_id` to `eos_token_id`:50256 for open-end generation.\n",
      "Attributing with saliency...: 100%|██████████| 20/20 [00:11<00:00,  1.54it/s]\n"
     ]
    },
    {
     "data": {
      "text/html": [
       "<br/><b>0th instance:</b><br/>\n",
       "<html>\n",
       "<div id=\"evptmdprhbypejxawvsg_viz_container\">\n",
       "    <div id=\"evptmdprhbypejxawvsg_content\" style=\"padding:15px;border-style:solid;margin:5px;\">\n",
       "        <div id = \"evptmdprhbypejxawvsg_saliency_plot_container\" class=\"evptmdprhbypejxawvsg_viz_container\" style=\"display:block\">\n",
       "            \n",
       "<div id=\"zdcceqbyxodkuaemrwur_saliency_plot\" class=\"zdcceqbyxodkuaemrwur_viz_content\">\n",
       "    <div style=\"margin:5px;font-family:sans-serif;font-weight:bold;\">\n",
       "        <span style=\"font-size: 20px;\">Target Saliency Heatmap</span>\n",
       "        <br>\n",
       "        x: Generated tokens, y: Attributed tokens\n",
       "    </div>\n",
       "    \n",
       "<table border=\"1\" cellpadding=\"5\" cellspacing=\"5\"\n",
       "    style=\"overflow-x:scroll;display:block;\">\n",
       "    <tr><th></th>\n",
       "<th>\"</th><th>Ċ</th><th>Ċ</th><th>The</th><th>first</th><th>thing</th><th>you</th><th>'ll</th><th>notice</th><th>is</th><th>that</th><th>the</th><th>code</th><th>is</th><th>very</th><th>simple</th><th>.</th><th>It</th></tr><tr><th>Hello</th><th style=\"background:rgba(255.0, 13.0, 87.0, 1.0)\">0.647</th><th style=\"background:rgba(255.0, 13.0, 87.0, 0.7871657754010695)\">0.505</th><th style=\"background:rgba(255.0, 13.0, 87.0, 0.55068330362448)\">0.354</th><th style=\"background:rgba(255.0, 13.0, 87.0, 0.621628045157457)\">0.401</th><th style=\"background:rgba(255.0, 13.0, 87.0, 0.6058625470390177)\">0.392</th><th style=\"background:rgba(255.0, 13.0, 87.0, 0.5270350564468211)\">0.343</th><th style=\"background:rgba(255.0, 13.0, 87.0, 0.5428005545652606)\">0.353</th><th style=\"background:rgba(255.0, 13.0, 87.0, 0.4087938205585263)\">0.263</th><th style=\"background:rgba(255.0, 13.0, 87.0, 0.4087938205585263)\">0.267</th><th style=\"background:rgba(255.0, 13.0, 87.0, 0.46397306397306415)\">0.302</th><th style=\"background:rgba(255.0, 13.0, 87.0, 0.4718558130322837)\">0.304</th><th style=\"background:rgba(255.0, 13.0, 87.0, 0.36149732620320857)\">0.237</th><th style=\"background:rgba(255.0, 13.0, 87.0, 0.5664488017429193)\">0.365</th><th style=\"background:rgba(255.0, 13.0, 87.0, 0.33784907902554967)\">0.22</th><th style=\"background:rgba(255.0, 13.0, 87.0, 0.3851455733808676)\">0.25</th><th style=\"background:rgba(255.0, 13.0, 87.0, 0.39302832244008706)\">0.255</th><th style=\"background:rgba(255.0, 13.0, 87.0, 0.219607843137255)\">0.146</th><th style=\"background:rgba(255.0, 13.0, 87.0, 0.26690433749257286)\">0.175</th></tr><tr><th>world</th><th style=\"background:rgba(255.0, 13.0, 87.0, 0.5428005545652606)\">0.353</th><th style=\"background:rgba(255.0, 13.0, 87.0, 0.48762131115072294)\">0.315</th><th style=\"background:rgba(255.0, 13.0, 87.0, 0.33784907902554967)\">0.22</th><th style=\"background:rgba(255.0, 13.0, 87.0, 0.3693800752624282)\">0.237</th><th style=\"background:rgba(255.0, 13.0, 87.0, 0.39302832244008706)\">0.254</th><th style=\"background:rgba(255.0, 13.0, 87.0, 0.306318082788671)\">0.199</th><th style=\"background:rgba(255.0, 13.0, 87.0, 0.3693800752624282)\">0.242</th><th style=\"background:rgba(255.0, 13.0, 87.0, 0.2747870865517925)\">0.179</th><th style=\"background:rgba(255.0, 13.0, 87.0, 0.26690433749257286)\">0.173</th><th style=\"background:rgba(255.0, 13.0, 87.0, 0.3299663299663301)\">0.212</th><th style=\"background:rgba(255.0, 13.0, 87.0, 0.306318082788671)\">0.197</th><th style=\"background:rgba(255.0, 13.0, 87.0, 0.2511388393741335)\">0.164</th><th style=\"background:rgba(255.0, 13.0, 87.0, 0.3772628243216479)\">0.245</th><th style=\"background:rgba(255.0, 13.0, 87.0, 0.22749059219647458)\">0.148</th><th style=\"background:rgba(255.0, 13.0, 87.0, 0.219607843137255)\">0.144</th><th style=\"background:rgba(255.0, 13.0, 87.0, 0.2511388393741335)\">0.162</th><th style=\"background:rgba(255.0, 13.0, 87.0, 0.12501485442661908)\">0.084</th><th style=\"background:rgba(255.0, 13.0, 87.0, 0.17231134878193693)\">0.112</th></tr><tr><th>\"</th><th style=\"background:rgba(0.0, 0.0, 0.0, 0.0)\"></th><th style=\"background:rgba(255.0, 13.0, 87.0, 0.2747870865517925)\">0.18</th><th style=\"background:rgba(255.0, 13.0, 87.0, 0.2826698356110118)\">0.186</th><th style=\"background:rgba(255.0, 13.0, 87.0, 0.24325609031491383)\">0.159</th><th style=\"background:rgba(255.0, 13.0, 87.0, 0.1959595959595959)\">0.127</th><th style=\"background:rgba(255.0, 13.0, 87.0, 0.1959595959595959)\">0.129</th><th style=\"background:rgba(255.0, 13.0, 87.0, 0.15654585066349747)\">0.102</th><th style=\"background:rgba(255.0, 13.0, 87.0, 0.13289760348583876)\">0.091</th><th style=\"background:rgba(255.0, 13.0, 87.0, 0.12501485442661908)\">0.085</th><th style=\"background:rgba(255.0, 13.0, 87.0, 0.14078035254505847)\">0.094</th><th style=\"background:rgba(255.0, 13.0, 87.0, 0.10924935630817992)\">0.073</th><th style=\"background:rgba(255.0, 13.0, 87.0, 0.10924935630817992)\">0.072</th><th style=\"background:rgba(255.0, 13.0, 87.0, 0.06195286195286207)\">0.045</th><th style=\"background:rgba(255.0, 13.0, 87.0, 0.08560110913052081)\">0.057</th><th style=\"background:rgba(255.0, 13.0, 87.0, 0.06983561101208159)\">0.047</th><th style=\"background:rgba(255.0, 13.0, 87.0, 0.08560110913052081)\">0.056</th><th style=\"background:rgba(255.0, 13.0, 87.0, 0.08560110913052081)\">0.058</th><th style=\"background:rgba(255.0, 13.0, 87.0, 0.08560110913052081)\">0.06</th></tr><tr><th>Ċ</th><th style=\"background:rgba(0.0, 0.0, 0.0, 0.0)\"></th><th style=\"background:rgba(0.0, 0.0, 0.0, 0.0)\"></th><th style=\"background:rgba(255.0, 13.0, 87.0, 0.3693800752624282)\">0.241</th><th style=\"background:rgba(255.0, 13.0, 87.0, 0.14078035254505847)\">0.092</th><th style=\"background:rgba(255.0, 13.0, 87.0, 0.07771836007130124)\">0.055</th><th style=\"background:rgba(255.0, 13.0, 87.0, 0.08560110913052081)\">0.056</th><th style=\"background:rgba(255.0, 13.0, 87.0, 0.06195286195286207)\">0.044</th><th style=\"background:rgba(255.0, 13.0, 87.0, 0.06195286195286207)\">0.045</th><th style=\"background:rgba(255.0, 13.0, 87.0, 0.06195286195286207)\">0.043</th><th style=\"background:rgba(255.0, 13.0, 87.0, 0.06195286195286207)\">0.042</th><th style=\"background:rgba(255.0, 13.0, 87.0, 0.05407011289364243)\">0.039</th><th style=\"background:rgba(255.0, 13.0, 87.0, 0.09348385818974037)\">0.065</th><th style=\"background:rgba(255.0, 13.0, 87.0, 0.05407011289364243)\">0.036</th><th style=\"background:rgba(255.0, 13.0, 87.0, 0.06195286195286207)\">0.042</th><th style=\"background:rgba(255.0, 13.0, 87.0, 0.04618736383442265)\">0.033</th><th style=\"background:rgba(255.0, 13.0, 87.0, 0.04618736383442265)\">0.032</th><th style=\"background:rgba(255.0, 13.0, 87.0, 0.04618736383442265)\">0.035</th><th style=\"background:rgba(255.0, 13.0, 87.0, 0.03830461477520289)\">0.029</th></tr><tr><th>Ċ</th><th style=\"background:rgba(0.0, 0.0, 0.0, 0.0)\"></th><th style=\"background:rgba(0.0, 0.0, 0.0, 0.0)\"></th><th style=\"background:rgba(0.0, 0.0, 0.0, 0.0)\"></th><th style=\"background:rgba(255.0, 13.0, 87.0, 0.16442859972271742)\">0.11</th><th style=\"background:rgba(255.0, 13.0, 87.0, 0.08560110913052081)\">0.057</th><th style=\"background:rgba(255.0, 13.0, 87.0, 0.09348385818974037)\">0.062</th><th style=\"background:rgba(255.0, 13.0, 87.0, 0.06195286195286207)\">0.045</th><th style=\"background:rgba(255.0, 13.0, 87.0, 0.07771836007130124)\">0.052</th><th style=\"background:rgba(255.0, 13.0, 87.0, 0.06983561101208159)\">0.05</th><th style=\"background:rgba(255.0, 13.0, 87.0, 0.06195286195286207)\">0.041</th><th style=\"background:rgba(255.0, 13.0, 87.0, 0.04618736383442265)\">0.035</th><th style=\"background:rgba(255.0, 13.0, 87.0, 0.05407011289364243)\">0.039</th><th style=\"background:rgba(255.0, 13.0, 87.0, 0.03830461477520289)\">0.026</th><th style=\"background:rgba(255.0, 13.0, 87.0, 0.05407011289364243)\">0.037</th><th style=\"background:rgba(255.0, 13.0, 87.0, 0.04618736383442265)\">0.031</th><th style=\"background:rgba(255.0, 13.0, 87.0, 0.03830461477520289)\">0.028</th><th style=\"background:rgba(255.0, 13.0, 87.0, 0.05407011289364243)\">0.037</th><th style=\"background:rgba(255.0, 13.0, 87.0, 0.03830461477520289)\">0.026</th></tr><tr><th>The</th><th style=\"background:rgba(0.0, 0.0, 0.0, 0.0)\"></th><th style=\"background:rgba(0.0, 0.0, 0.0, 0.0)\"></th><th style=\"background:rgba(0.0, 0.0, 0.0, 0.0)\"></th><th style=\"background:rgba(0.0, 0.0, 0.0, 0.0)\"></th><th style=\"background:rgba(255.0, 13.0, 87.0, 0.17231134878193693)\">0.114</th><th style=\"background:rgba(255.0, 13.0, 87.0, 0.10924935630817992)\">0.073</th><th style=\"background:rgba(255.0, 13.0, 87.0, 0.10136660724896006)\">0.066</th><th style=\"background:rgba(255.0, 13.0, 87.0, 0.08560110913052081)\">0.058</th><th style=\"background:rgba(255.0, 13.0, 87.0, 0.06195286195286207)\">0.044</th><th style=\"background:rgba(255.0, 13.0, 87.0, 0.05407011289364243)\">0.04</th><th style=\"background:rgba(255.0, 13.0, 87.0, 0.06195286195286207)\">0.045</th><th style=\"background:rgba(255.0, 13.0, 87.0, 0.05407011289364243)\">0.04</th><th style=\"background:rgba(255.0, 13.0, 87.0, 0.030421865715983164)\">0.02</th><th style=\"background:rgba(255.0, 13.0, 87.0, 0.06195286195286207)\">0.041</th><th style=\"background:rgba(255.0, 13.0, 87.0, 0.030421865715983164)\">0.025</th><th style=\"background:rgba(255.0, 13.0, 87.0, 0.03830461477520289)\">0.029</th><th style=\"background:rgba(255.0, 13.0, 87.0, 0.04618736383442265)\">0.03</th><th style=\"background:rgba(255.0, 13.0, 87.0, 0.04618736383442265)\">0.035</th></tr><tr><th>first</th><th style=\"background:rgba(0.0, 0.0, 0.0, 0.0)\"></th><th style=\"background:rgba(0.0, 0.0, 0.0, 0.0)\"></th><th style=\"background:rgba(0.0, 0.0, 0.0, 0.0)\"></th><th style=\"background:rgba(0.0, 0.0, 0.0, 0.0)\"></th><th style=\"background:rgba(0.0, 0.0, 0.0, 0.0)\"></th><th style=\"background:rgba(255.0, 13.0, 87.0, 0.2117250940780353)\">0.138</th><th style=\"background:rgba(255.0, 13.0, 87.0, 0.06983561101208159)\">0.048</th><th style=\"background:rgba(255.0, 13.0, 87.0, 0.10924935630817992)\">0.074</th><th style=\"background:rgba(255.0, 13.0, 87.0, 0.08560110913052081)\">0.058</th><th style=\"background:rgba(255.0, 13.0, 87.0, 0.06983561101208159)\">0.046</th><th style=\"background:rgba(255.0, 13.0, 87.0, 0.06983561101208159)\">0.046</th><th style=\"background:rgba(255.0, 13.0, 87.0, 0.05407011289364243)\">0.039</th><th style=\"background:rgba(255.0, 13.0, 87.0, 0.030421865715983164)\">0.022</th><th style=\"background:rgba(255.0, 13.0, 87.0, 0.07771836007130124)\">0.051</th><th style=\"background:rgba(255.0, 13.0, 87.0, 0.04618736383442265)\">0.03</th><th style=\"background:rgba(255.0, 13.0, 87.0, 0.03830461477520289)\">0.029</th><th style=\"background:rgba(255.0, 13.0, 87.0, 0.04618736383442265)\">0.035</th><th style=\"background:rgba(255.0, 13.0, 87.0, 0.04618736383442265)\">0.031</th></tr><tr><th>thing</th><th style=\"background:rgba(0.0, 0.0, 0.0, 0.0)\"></th><th style=\"background:rgba(0.0, 0.0, 0.0, 0.0)\"></th><th style=\"background:rgba(0.0, 0.0, 0.0, 0.0)\"></th><th style=\"background:rgba(0.0, 0.0, 0.0, 0.0)\"></th><th style=\"background:rgba(0.0, 0.0, 0.0, 0.0)\"></th><th style=\"background:rgba(0.0, 0.0, 0.0, 0.0)\"></th><th style=\"background:rgba(255.0, 13.0, 87.0, 0.14866310160427795)\">0.101</th><th style=\"background:rgba(255.0, 13.0, 87.0, 0.15654585066349747)\">0.101</th><th style=\"background:rgba(255.0, 13.0, 87.0, 0.12501485442661908)\">0.084</th><th style=\"background:rgba(255.0, 13.0, 87.0, 0.06983561101208159)\">0.049</th><th style=\"background:rgba(255.0, 13.0, 87.0, 0.06983561101208159)\">0.049</th><th style=\"background:rgba(255.0, 13.0, 87.0, 0.07771836007130124)\">0.053</th><th style=\"background:rgba(255.0, 13.0, 87.0, 0.03830461477520289)\">0.028</th><th style=\"background:rgba(255.0, 13.0, 87.0, 0.06195286195286207)\">0.043</th><th style=\"background:rgba(255.0, 13.0, 87.0, 0.05407011289364243)\">0.037</th><th style=\"background:rgba(255.0, 13.0, 87.0, 0.04618736383442265)\">0.033</th><th style=\"background:rgba(255.0, 13.0, 87.0, 0.06195286195286207)\">0.044</th><th style=\"background:rgba(255.0, 13.0, 87.0, 0.05407011289364243)\">0.037</th></tr><tr><th>you</th><th style=\"background:rgba(0.0, 0.0, 0.0, 0.0)\"></th><th style=\"background:rgba(0.0, 0.0, 0.0, 0.0)\"></th><th style=\"background:rgba(0.0, 0.0, 0.0, 0.0)\"></th><th style=\"background:rgba(0.0, 0.0, 0.0, 0.0)\"></th><th style=\"background:rgba(0.0, 0.0, 0.0, 0.0)\"></th><th style=\"background:rgba(0.0, 0.0, 0.0, 0.0)\"></th><th style=\"background:rgba(0.0, 0.0, 0.0, 0.0)\"></th><th style=\"background:rgba(255.0, 13.0, 87.0, 0.2117250940780353)\">0.137</th><th style=\"background:rgba(255.0, 13.0, 87.0, 0.1171321053673995)\">0.079</th><th style=\"background:rgba(255.0, 13.0, 87.0, 0.06983561101208159)\">0.047</th><th style=\"background:rgba(255.0, 13.0, 87.0, 0.06983561101208159)\">0.048</th><th style=\"background:rgba(255.0, 13.0, 87.0, 0.06983561101208159)\">0.049</th><th style=\"background:rgba(255.0, 13.0, 87.0, 0.03830461477520289)\">0.028</th><th style=\"background:rgba(255.0, 13.0, 87.0, 0.06195286195286207)\">0.043</th><th style=\"background:rgba(255.0, 13.0, 87.0, 0.05407011289364243)\">0.036</th><th style=\"background:rgba(255.0, 13.0, 87.0, 0.07771836007130124)\">0.051</th><th style=\"background:rgba(255.0, 13.0, 87.0, 0.06195286195286207)\">0.044</th><th style=\"background:rgba(255.0, 13.0, 87.0, 0.07771836007130124)\">0.052</th></tr><tr><th>'ll</th><th style=\"background:rgba(0.0, 0.0, 0.0, 0.0)\"></th><th style=\"background:rgba(0.0, 0.0, 0.0, 0.0)\"></th><th style=\"background:rgba(0.0, 0.0, 0.0, 0.0)\"></th><th style=\"background:rgba(0.0, 0.0, 0.0, 0.0)\"></th><th style=\"background:rgba(0.0, 0.0, 0.0, 0.0)\"></th><th style=\"background:rgba(0.0, 0.0, 0.0, 0.0)\"></th><th style=\"background:rgba(0.0, 0.0, 0.0, 0.0)\"></th><th style=\"background:rgba(0.0, 0.0, 0.0, 0.0)\"></th><th style=\"background:rgba(255.0, 13.0, 87.0, 0.17231134878193693)\">0.115</th><th style=\"background:rgba(255.0, 13.0, 87.0, 0.06983561101208159)\">0.048</th><th style=\"background:rgba(255.0, 13.0, 87.0, 0.07771836007130124)\">0.051</th><th style=\"background:rgba(255.0, 13.0, 87.0, 0.09348385818974037)\">0.063</th><th style=\"background:rgba(255.0, 13.0, 87.0, 0.04618736383442265)\">0.032</th><th style=\"background:rgba(255.0, 13.0, 87.0, 0.07771836007130124)\">0.052</th><th style=\"background:rgba(255.0, 13.0, 87.0, 0.07771836007130124)\">0.053</th><th style=\"background:rgba(255.0, 13.0, 87.0, 0.05407011289364243)\">0.038</th><th style=\"background:rgba(255.0, 13.0, 87.0, 0.07771836007130124)\">0.053</th><th style=\"background:rgba(255.0, 13.0, 87.0, 0.07771836007130124)\">0.054</th></tr><tr><th>notice</th><th style=\"background:rgba(0.0, 0.0, 0.0, 0.0)\"></th><th style=\"background:rgba(0.0, 0.0, 0.0, 0.0)\"></th><th style=\"background:rgba(0.0, 0.0, 0.0, 0.0)\"></th><th style=\"background:rgba(0.0, 0.0, 0.0, 0.0)\"></th><th style=\"background:rgba(0.0, 0.0, 0.0, 0.0)\"></th><th style=\"background:rgba(0.0, 0.0, 0.0, 0.0)\"></th><th style=\"background:rgba(0.0, 0.0, 0.0, 0.0)\"></th><th style=\"background:rgba(0.0, 0.0, 0.0, 0.0)\"></th><th style=\"background:rgba(0.0, 0.0, 0.0, 0.0)\"></th><th style=\"background:rgba(255.0, 13.0, 87.0, 0.1171321053673995)\">0.079</th><th style=\"background:rgba(255.0, 13.0, 87.0, 0.10924935630817992)\">0.075</th><th style=\"background:rgba(255.0, 13.0, 87.0, 0.12501485442661908)\">0.083</th><th style=\"background:rgba(255.0, 13.0, 87.0, 0.08560110913052081)\">0.056</th><th style=\"background:rgba(255.0, 13.0, 87.0, 0.10136660724896006)\">0.069</th><th style=\"background:rgba(255.0, 13.0, 87.0, 0.10136660724896006)\">0.071</th><th style=\"background:rgba(255.0, 13.0, 87.0, 0.06195286195286207)\">0.044</th><th style=\"background:rgba(255.0, 13.0, 87.0, 0.09348385818974037)\">0.066</th><th style=\"background:rgba(255.0, 13.0, 87.0, 0.07771836007130124)\">0.051</th></tr><tr><th>is</th><th style=\"background:rgba(0.0, 0.0, 0.0, 0.0)\"></th><th style=\"background:rgba(0.0, 0.0, 0.0, 0.0)\"></th><th style=\"background:rgba(0.0, 0.0, 0.0, 0.0)\"></th><th style=\"background:rgba(0.0, 0.0, 0.0, 0.0)\"></th><th style=\"background:rgba(0.0, 0.0, 0.0, 0.0)\"></th><th style=\"background:rgba(0.0, 0.0, 0.0, 0.0)\"></th><th style=\"background:rgba(0.0, 0.0, 0.0, 0.0)\"></th><th style=\"background:rgba(0.0, 0.0, 0.0, 0.0)\"></th><th style=\"background:rgba(0.0, 0.0, 0.0, 0.0)\"></th><th style=\"background:rgba(0.0, 0.0, 0.0, 0.0)\"></th><th style=\"background:rgba(255.0, 13.0, 87.0, 0.05407011289364243)\">0.038</th><th style=\"background:rgba(255.0, 13.0, 87.0, 0.05407011289364243)\">0.036</th><th style=\"background:rgba(255.0, 13.0, 87.0, 0.02253911665676371)\">0.02</th><th style=\"background:rgba(255.0, 13.0, 87.0, 0.030421865715983164)\">0.022</th><th style=\"background:rgba(255.0, 13.0, 87.0, 0.030421865715983164)\">0.024</th><th style=\"background:rgba(255.0, 13.0, 87.0, 0.030421865715983164)\">0.024</th><th style=\"background:rgba(255.0, 13.0, 87.0, 0.03830461477520289)\">0.028</th><th style=\"background:rgba(255.0, 13.0, 87.0, 0.030421865715983164)\">0.023</th></tr><tr><th>that</th><th style=\"background:rgba(0.0, 0.0, 0.0, 0.0)\"></th><th style=\"background:rgba(0.0, 0.0, 0.0, 0.0)\"></th><th style=\"background:rgba(0.0, 0.0, 0.0, 0.0)\"></th><th style=\"background:rgba(0.0, 0.0, 0.0, 0.0)\"></th><th style=\"background:rgba(0.0, 0.0, 0.0, 0.0)\"></th><th style=\"background:rgba(0.0, 0.0, 0.0, 0.0)\"></th><th style=\"background:rgba(0.0, 0.0, 0.0, 0.0)\"></th><th style=\"background:rgba(0.0, 0.0, 0.0, 0.0)\"></th><th style=\"background:rgba(0.0, 0.0, 0.0, 0.0)\"></th><th style=\"background:rgba(0.0, 0.0, 0.0, 0.0)\"></th><th style=\"background:rgba(0.0, 0.0, 0.0, 0.0)\"></th><th style=\"background:rgba(255.0, 13.0, 87.0, 0.08560110913052081)\">0.06</th><th style=\"background:rgba(255.0, 13.0, 87.0, 0.030421865715983164)\">0.022</th><th style=\"background:rgba(255.0, 13.0, 87.0, 0.04618736383442265)\">0.031</th><th style=\"background:rgba(255.0, 13.0, 87.0, 0.03830461477520289)\">0.027</th><th style=\"background:rgba(255.0, 13.0, 87.0, 0.02253911665676371)\">0.018</th><th style=\"background:rgba(255.0, 13.0, 87.0, 0.04618736383442265)\">0.035</th><th style=\"background:rgba(255.0, 13.0, 87.0, 0.03830461477520289)\">0.025</th></tr><tr><th>the</th><th style=\"background:rgba(0.0, 0.0, 0.0, 0.0)\"></th><th style=\"background:rgba(0.0, 0.0, 0.0, 0.0)\"></th><th style=\"background:rgba(0.0, 0.0, 0.0, 0.0)\"></th><th style=\"background:rgba(0.0, 0.0, 0.0, 0.0)\"></th><th style=\"background:rgba(0.0, 0.0, 0.0, 0.0)\"></th><th style=\"background:rgba(0.0, 0.0, 0.0, 0.0)\"></th><th style=\"background:rgba(0.0, 0.0, 0.0, 0.0)\"></th><th style=\"background:rgba(0.0, 0.0, 0.0, 0.0)\"></th><th style=\"background:rgba(0.0, 0.0, 0.0, 0.0)\"></th><th style=\"background:rgba(0.0, 0.0, 0.0, 0.0)\"></th><th style=\"background:rgba(0.0, 0.0, 0.0, 0.0)\"></th><th style=\"background:rgba(0.0, 0.0, 0.0, 0.0)\"></th><th style=\"background:rgba(255.0, 13.0, 87.0, 0.07771836007130124)\">0.055</th><th style=\"background:rgba(255.0, 13.0, 87.0, 0.03830461477520289)\">0.03</th><th style=\"background:rgba(255.0, 13.0, 87.0, 0.06195286195286207)\">0.044</th><th style=\"background:rgba(255.0, 13.0, 87.0, 0.03830461477520289)\">0.029</th><th style=\"background:rgba(255.0, 13.0, 87.0, 0.03830461477520289)\">0.03</th><th style=\"background:rgba(255.0, 13.0, 87.0, 0.05407011289364243)\">0.04</th></tr><tr><th>code</th><th style=\"background:rgba(0.0, 0.0, 0.0, 0.0)\"></th><th style=\"background:rgba(0.0, 0.0, 0.0, 0.0)\"></th><th style=\"background:rgba(0.0, 0.0, 0.0, 0.0)\"></th><th style=\"background:rgba(0.0, 0.0, 0.0, 0.0)\"></th><th style=\"background:rgba(0.0, 0.0, 0.0, 0.0)\"></th><th style=\"background:rgba(0.0, 0.0, 0.0, 0.0)\"></th><th style=\"background:rgba(0.0, 0.0, 0.0, 0.0)\"></th><th style=\"background:rgba(0.0, 0.0, 0.0, 0.0)\"></th><th style=\"background:rgba(0.0, 0.0, 0.0, 0.0)\"></th><th style=\"background:rgba(0.0, 0.0, 0.0, 0.0)\"></th><th style=\"background:rgba(0.0, 0.0, 0.0, 0.0)\"></th><th style=\"background:rgba(0.0, 0.0, 0.0, 0.0)\"></th><th style=\"background:rgba(0.0, 0.0, 0.0, 0.0)\"></th><th style=\"background:rgba(255.0, 13.0, 87.0, 0.17231134878193693)\">0.113</th><th style=\"background:rgba(255.0, 13.0, 87.0, 0.16442859972271742)\">0.11</th><th style=\"background:rgba(255.0, 13.0, 87.0, 0.12501485442661908)\">0.085</th><th style=\"background:rgba(255.0, 13.0, 87.0, 0.09348385818974037)\">0.065</th><th style=\"background:rgba(255.0, 13.0, 87.0, 0.15654585066349747)\">0.105</th></tr><tr><th>is</th><th style=\"background:rgba(0.0, 0.0, 0.0, 0.0)\"></th><th style=\"background:rgba(0.0, 0.0, 0.0, 0.0)\"></th><th style=\"background:rgba(0.0, 0.0, 0.0, 0.0)\"></th><th style=\"background:rgba(0.0, 0.0, 0.0, 0.0)\"></th><th style=\"background:rgba(0.0, 0.0, 0.0, 0.0)\"></th><th style=\"background:rgba(0.0, 0.0, 0.0, 0.0)\"></th><th style=\"background:rgba(0.0, 0.0, 0.0, 0.0)\"></th><th style=\"background:rgba(0.0, 0.0, 0.0, 0.0)\"></th><th style=\"background:rgba(0.0, 0.0, 0.0, 0.0)\"></th><th style=\"background:rgba(0.0, 0.0, 0.0, 0.0)\"></th><th style=\"background:rgba(0.0, 0.0, 0.0, 0.0)\"></th><th style=\"background:rgba(0.0, 0.0, 0.0, 0.0)\"></th><th style=\"background:rgba(0.0, 0.0, 0.0, 0.0)\"></th><th style=\"background:rgba(0.0, 0.0, 0.0, 0.0)\"></th><th style=\"background:rgba(255.0, 13.0, 87.0, 0.05407011289364243)\">0.038</th><th style=\"background:rgba(255.0, 13.0, 87.0, 0.02253911665676371)\">0.019</th><th style=\"background:rgba(255.0, 13.0, 87.0, 0.03830461477520289)\">0.028</th><th style=\"background:rgba(255.0, 13.0, 87.0, 0.02253911665676371)\">0.016</th></tr><tr><th>very</th><th style=\"background:rgba(0.0, 0.0, 0.0, 0.0)\"></th><th style=\"background:rgba(0.0, 0.0, 0.0, 0.0)\"></th><th style=\"background:rgba(0.0, 0.0, 0.0, 0.0)\"></th><th style=\"background:rgba(0.0, 0.0, 0.0, 0.0)\"></th><th style=\"background:rgba(0.0, 0.0, 0.0, 0.0)\"></th><th style=\"background:rgba(0.0, 0.0, 0.0, 0.0)\"></th><th style=\"background:rgba(0.0, 0.0, 0.0, 0.0)\"></th><th style=\"background:rgba(0.0, 0.0, 0.0, 0.0)\"></th><th style=\"background:rgba(0.0, 0.0, 0.0, 0.0)\"></th><th style=\"background:rgba(0.0, 0.0, 0.0, 0.0)\"></th><th style=\"background:rgba(0.0, 0.0, 0.0, 0.0)\"></th><th style=\"background:rgba(0.0, 0.0, 0.0, 0.0)\"></th><th style=\"background:rgba(0.0, 0.0, 0.0, 0.0)\"></th><th style=\"background:rgba(0.0, 0.0, 0.0, 0.0)\"></th><th style=\"background:rgba(0.0, 0.0, 0.0, 0.0)\"></th><th style=\"background:rgba(255.0, 13.0, 87.0, 0.10136660724896006)\">0.069</th><th style=\"background:rgba(255.0, 13.0, 87.0, 0.06983561101208159)\">0.048</th><th style=\"background:rgba(255.0, 13.0, 87.0, 0.030421865715983164)\">0.025</th></tr><tr><th>simple</th><th style=\"background:rgba(0.0, 0.0, 0.0, 0.0)\"></th><th style=\"background:rgba(0.0, 0.0, 0.0, 0.0)\"></th><th style=\"background:rgba(0.0, 0.0, 0.0, 0.0)\"></th><th style=\"background:rgba(0.0, 0.0, 0.0, 0.0)\"></th><th style=\"background:rgba(0.0, 0.0, 0.0, 0.0)\"></th><th style=\"background:rgba(0.0, 0.0, 0.0, 0.0)\"></th><th style=\"background:rgba(0.0, 0.0, 0.0, 0.0)\"></th><th style=\"background:rgba(0.0, 0.0, 0.0, 0.0)\"></th><th style=\"background:rgba(0.0, 0.0, 0.0, 0.0)\"></th><th style=\"background:rgba(0.0, 0.0, 0.0, 0.0)\"></th><th style=\"background:rgba(0.0, 0.0, 0.0, 0.0)\"></th><th style=\"background:rgba(0.0, 0.0, 0.0, 0.0)\"></th><th style=\"background:rgba(0.0, 0.0, 0.0, 0.0)\"></th><th style=\"background:rgba(0.0, 0.0, 0.0, 0.0)\"></th><th style=\"background:rgba(0.0, 0.0, 0.0, 0.0)\"></th><th style=\"background:rgba(0.0, 0.0, 0.0, 0.0)\"></th><th style=\"background:rgba(255.0, 13.0, 87.0, 0.20384234501881549)\">0.135</th><th style=\"background:rgba(255.0, 13.0, 87.0, 0.10136660724896006)\">0.067</th></tr><tr><th>.</th><th style=\"background:rgba(0.0, 0.0, 0.0, 0.0)\"></th><th style=\"background:rgba(0.0, 0.0, 0.0, 0.0)\"></th><th style=\"background:rgba(0.0, 0.0, 0.0, 0.0)\"></th><th style=\"background:rgba(0.0, 0.0, 0.0, 0.0)\"></th><th style=\"background:rgba(0.0, 0.0, 0.0, 0.0)\"></th><th style=\"background:rgba(0.0, 0.0, 0.0, 0.0)\"></th><th style=\"background:rgba(0.0, 0.0, 0.0, 0.0)\"></th><th style=\"background:rgba(0.0, 0.0, 0.0, 0.0)\"></th><th style=\"background:rgba(0.0, 0.0, 0.0, 0.0)\"></th><th style=\"background:rgba(0.0, 0.0, 0.0, 0.0)\"></th><th style=\"background:rgba(0.0, 0.0, 0.0, 0.0)\"></th><th style=\"background:rgba(0.0, 0.0, 0.0, 0.0)\"></th><th style=\"background:rgba(0.0, 0.0, 0.0, 0.0)\"></th><th style=\"background:rgba(0.0, 0.0, 0.0, 0.0)\"></th><th style=\"background:rgba(0.0, 0.0, 0.0, 0.0)\"></th><th style=\"background:rgba(0.0, 0.0, 0.0, 0.0)\"></th><th style=\"background:rgba(0.0, 0.0, 0.0, 0.0)\"></th><th style=\"background:rgba(255.0, 13.0, 87.0, 0.05407011289364243)\">0.036</th></tr><tr><th>It</th><th style=\"background:rgba(0.0, 0.0, 0.0, 0.0)\"></th><th style=\"background:rgba(0.0, 0.0, 0.0, 0.0)\"></th><th style=\"background:rgba(0.0, 0.0, 0.0, 0.0)\"></th><th style=\"background:rgba(0.0, 0.0, 0.0, 0.0)\"></th><th style=\"background:rgba(0.0, 0.0, 0.0, 0.0)\"></th><th style=\"background:rgba(0.0, 0.0, 0.0, 0.0)\"></th><th style=\"background:rgba(0.0, 0.0, 0.0, 0.0)\"></th><th style=\"background:rgba(0.0, 0.0, 0.0, 0.0)\"></th><th style=\"background:rgba(0.0, 0.0, 0.0, 0.0)\"></th><th style=\"background:rgba(0.0, 0.0, 0.0, 0.0)\"></th><th style=\"background:rgba(0.0, 0.0, 0.0, 0.0)\"></th><th style=\"background:rgba(0.0, 0.0, 0.0, 0.0)\"></th><th style=\"background:rgba(0.0, 0.0, 0.0, 0.0)\"></th><th style=\"background:rgba(0.0, 0.0, 0.0, 0.0)\"></th><th style=\"background:rgba(0.0, 0.0, 0.0, 0.0)\"></th><th style=\"background:rgba(0.0, 0.0, 0.0, 0.0)\"></th><th style=\"background:rgba(0.0, 0.0, 0.0, 0.0)\"></th><th style=\"background:rgba(0.0, 0.0, 0.0, 0.0)\"></th></tr><tr style=\"outline: thin solid\"><th><b>probability</b></th><th>0.197</th><th>0.097</th><th><b>0.986</b></th><th>0.043</th><th>0.045</th><th>0.211</th><th>0.247</th><th>0.249</th><th><b>0.512</b></th><th><b>0.577</b></th><th><b>0.661</b></th><th>0.256</th><th>0.045</th><th>0.476</th><th>0.102</th><th>0.182</th><th><b>0.555</b></th><th>0.125</th></table>\n",
       "</div>\n",
       "\n",
       "        </div>\n",
       "    </div>\n",
       "</div>\n",
       "</html>\n"
      ],
      "text/plain": [
       "<IPython.core.display.HTML object>"
      ]
     },
     "metadata": {},
     "output_type": "display_data"
    },
    {
     "name": "stderr",
     "output_type": "stream",
     "text": [
      "The attention mask and the pad token id were not set. As a consequence, you may observe unexpected behavior. Please pass your input's `attention_mask` to obtain reliable results.\n",
      "Setting `pad_token_id` to `eos_token_id`:50256 for open-end generation.\n"
     ]
    },
    {
     "name": "stdout",
     "output_type": "stream",
     "text": [
      "======= 归因方法: attention =======\n"
     ]
    },
    {
     "name": "stderr",
     "output_type": "stream",
     "text": [
      "Attributing with attention...: 100%|██████████| 20/20 [00:04<00:00,  4.26it/s]\n"
     ]
    },
    {
     "data": {
      "text/html": [
       "<br/><b>0th instance:</b><br/>\n",
       "<html>\n",
       "<div id=\"rbzvcpmcyfqafehngqon_viz_container\">\n",
       "    <div id=\"rbzvcpmcyfqafehngqon_content\" style=\"padding:15px;border-style:solid;margin:5px;\">\n",
       "        <div id = \"rbzvcpmcyfqafehngqon_saliency_plot_container\" class=\"rbzvcpmcyfqafehngqon_viz_container\" style=\"display:block\">\n",
       "            \n",
       "<div id=\"cbodslpcinkckizgplur_saliency_plot\" class=\"cbodslpcinkckizgplur_viz_content\">\n",
       "    <div style=\"margin:5px;font-family:sans-serif;font-weight:bold;\">\n",
       "        <span style=\"font-size: 20px;\">Target Saliency Heatmap</span>\n",
       "        <br>\n",
       "        x: Generated tokens, y: Attributed tokens\n",
       "    </div>\n",
       "    \n",
       "<table border=\"1\" cellpadding=\"5\" cellspacing=\"5\"\n",
       "    style=\"overflow-x:scroll;display:block;\">\n",
       "    <tr><th></th>\n",
       "<th>\"</th><th>Ċ</th><th>Ċ</th><th>The</th><th>first</th><th>thing</th><th>you</th><th>'ll</th><th>notice</th><th>is</th><th>that</th><th>the</th><th>code</th><th>is</th><th>very</th><th>simple</th><th>.</th><th>It</th></tr><tr><th>Hello</th><th style=\"background:rgba(255.0, 13.0, 87.0, 1.0)\">0.867</th><th style=\"background:rgba(255.0, 13.0, 87.0, 0.8738760150524857)\">0.758</th><th style=\"background:rgba(255.0, 13.0, 87.0, 0.77928302634185)\">0.674</th><th style=\"background:rgba(255.0, 13.0, 87.0, 0.7162210338680925)\">0.619</th><th style=\"background:rgba(255.0, 13.0, 87.0, 0.7162210338680925)\">0.619</th><th style=\"background:rgba(255.0, 13.0, 87.0, 0.7319865319865321)\">0.636</th><th style=\"background:rgba(255.0, 13.0, 87.0, 0.7083382848088731)\">0.612</th><th style=\"background:rgba(255.0, 13.0, 87.0, 0.7241037829273124)\">0.626</th><th style=\"background:rgba(255.0, 13.0, 87.0, 0.7162210338680925)\">0.623</th><th style=\"background:rgba(255.0, 13.0, 87.0, 0.6768072885719946)\">0.584</th><th style=\"background:rgba(255.0, 13.0, 87.0, 0.5979797979797981)\">0.518</th><th style=\"background:rgba(255.0, 13.0, 87.0, 0.6058625470390177)\">0.528</th><th style=\"background:rgba(255.0, 13.0, 87.0, 0.6373935432758963)\">0.552</th><th style=\"background:rgba(255.0, 13.0, 87.0, 0.6610417904535549)\">0.572</th><th style=\"background:rgba(255.0, 13.0, 87.0, 0.6373935432758963)\">0.555</th><th style=\"background:rgba(255.0, 13.0, 87.0, 0.6531590413943356)\">0.568</th><th style=\"background:rgba(255.0, 13.0, 87.0, 0.5743315508021392)\">0.496</th><th style=\"background:rgba(255.0, 13.0, 87.0, 0.5112695583283818)\">0.446</th></tr><tr><th>world</th><th style=\"background:rgba(255.0, 13.0, 87.0, 0.14866310160427795)\">0.133</th><th style=\"background:rgba(255.0, 13.0, 87.0, 0.12501485442661908)\">0.109</th><th style=\"background:rgba(255.0, 13.0, 87.0, 0.05407011289364243)\">0.054</th><th style=\"background:rgba(255.0, 13.0, 87.0, 0.07771836007130124)\">0.068</th><th style=\"background:rgba(255.0, 13.0, 87.0, 0.06195286195286207)\">0.055</th><th style=\"background:rgba(255.0, 13.0, 87.0, 0.03830461477520289)\">0.038</th><th style=\"background:rgba(255.0, 13.0, 87.0, 0.04618736383442265)\">0.041</th><th style=\"background:rgba(255.0, 13.0, 87.0, 0.030421865715983164)\">0.03</th><th style=\"background:rgba(255.0, 13.0, 87.0, 0.02253911665676371)\">0.024</th><th style=\"background:rgba(255.0, 13.0, 87.0, 0.030421865715983164)\">0.028</th><th style=\"background:rgba(255.0, 13.0, 87.0, 0.03830461477520289)\">0.036</th><th style=\"background:rgba(255.0, 13.0, 87.0, 0.03830461477520289)\">0.04</th><th style=\"background:rgba(255.0, 13.0, 87.0, 0.03830461477520289)\">0.034</th><th style=\"background:rgba(255.0, 13.0, 87.0, 0.02253911665676371)\">0.024</th><th style=\"background:rgba(255.0, 13.0, 87.0, 0.014656367597544035)\">0.015</th><th style=\"background:rgba(255.0, 13.0, 87.0, 0.014656367597544035)\">0.014</th><th style=\"background:rgba(255.0, 13.0, 87.0, 0.014656367597544035)\">0.017</th><th style=\"background:rgba(255.0, 13.0, 87.0, 0.014656367597544035)\">0.019</th></tr><tr><th>\"</th><th style=\"background:rgba(0.0, 0.0, 0.0, 0.0)\"></th><th style=\"background:rgba(255.0, 13.0, 87.0, 0.14866310160427795)\">0.133</th><th style=\"background:rgba(255.0, 13.0, 87.0, 0.09348385818974037)\">0.086</th><th style=\"background:rgba(255.0, 13.0, 87.0, 0.09348385818974037)\">0.084</th><th style=\"background:rgba(255.0, 13.0, 87.0, 0.06983561101208159)\">0.061</th><th style=\"background:rgba(255.0, 13.0, 87.0, 0.05407011289364243)\">0.048</th><th style=\"background:rgba(255.0, 13.0, 87.0, 0.04618736383442265)\">0.043</th><th style=\"background:rgba(255.0, 13.0, 87.0, 0.03830461477520289)\">0.037</th><th style=\"background:rgba(255.0, 13.0, 87.0, 0.030421865715983164)\">0.031</th><th style=\"background:rgba(255.0, 13.0, 87.0, 0.030421865715983164)\">0.03</th><th style=\"background:rgba(255.0, 13.0, 87.0, 0.03830461477520289)\">0.035</th><th style=\"background:rgba(255.0, 13.0, 87.0, 0.03830461477520289)\">0.038</th><th style=\"background:rgba(255.0, 13.0, 87.0, 0.03830461477520289)\">0.035</th><th style=\"background:rgba(255.0, 13.0, 87.0, 0.02253911665676371)\">0.025</th><th style=\"background:rgba(255.0, 13.0, 87.0, 0.014656367597544035)\">0.019</th><th style=\"background:rgba(255.0, 13.0, 87.0, 0.014656367597544035)\">0.018</th><th style=\"background:rgba(255.0, 13.0, 87.0, 0.014656367597544035)\">0.019</th><th style=\"background:rgba(255.0, 13.0, 87.0, 0.014656367597544035)\">0.02</th></tr><tr><th>Ċ</th><th style=\"background:rgba(0.0, 0.0, 0.0, 0.0)\"></th><th style=\"background:rgba(0.0, 0.0, 0.0, 0.0)\"></th><th style=\"background:rgba(255.0, 13.0, 87.0, 0.2117250940780353)\">0.186</th><th style=\"background:rgba(255.0, 13.0, 87.0, 0.12501485442661908)\">0.114</th><th style=\"background:rgba(255.0, 13.0, 87.0, 0.10136660724896006)\">0.091</th><th style=\"background:rgba(255.0, 13.0, 87.0, 0.08560110913052081)\">0.075</th><th style=\"background:rgba(255.0, 13.0, 87.0, 0.07771836007130124)\">0.068</th><th style=\"background:rgba(255.0, 13.0, 87.0, 0.06195286195286207)\">0.061</th><th style=\"background:rgba(255.0, 13.0, 87.0, 0.05407011289364243)\">0.054</th><th style=\"background:rgba(255.0, 13.0, 87.0, 0.06195286195286207)\">0.059</th><th style=\"background:rgba(255.0, 13.0, 87.0, 0.06195286195286207)\">0.058</th><th style=\"background:rgba(255.0, 13.0, 87.0, 0.05407011289364243)\">0.052</th><th style=\"background:rgba(255.0, 13.0, 87.0, 0.04618736383442265)\">0.046</th><th style=\"background:rgba(255.0, 13.0, 87.0, 0.04618736383442265)\">0.042</th><th style=\"background:rgba(255.0, 13.0, 87.0, 0.03830461477520289)\">0.038</th><th style=\"background:rgba(255.0, 13.0, 87.0, 0.03830461477520289)\">0.036</th><th style=\"background:rgba(255.0, 13.0, 87.0, 0.04618736383442265)\">0.046</th><th style=\"background:rgba(255.0, 13.0, 87.0, 0.04618736383442265)\">0.043</th></tr><tr><th>Ċ</th><th style=\"background:rgba(0.0, 0.0, 0.0, 0.0)\"></th><th style=\"background:rgba(0.0, 0.0, 0.0, 0.0)\"></th><th style=\"background:rgba(0.0, 0.0, 0.0, 0.0)\"></th><th style=\"background:rgba(255.0, 13.0, 87.0, 0.13289760348583876)\">0.116</th><th style=\"background:rgba(255.0, 13.0, 87.0, 0.10136660724896006)\">0.093</th><th style=\"background:rgba(255.0, 13.0, 87.0, 0.07771836007130124)\">0.072</th><th style=\"background:rgba(255.0, 13.0, 87.0, 0.06983561101208159)\">0.064</th><th style=\"background:rgba(255.0, 13.0, 87.0, 0.05407011289364243)\">0.049</th><th style=\"background:rgba(255.0, 13.0, 87.0, 0.04618736383442265)\">0.041</th><th style=\"background:rgba(255.0, 13.0, 87.0, 0.04618736383442265)\">0.044</th><th style=\"background:rgba(255.0, 13.0, 87.0, 0.06195286195286207)\">0.056</th><th style=\"background:rgba(255.0, 13.0, 87.0, 0.06195286195286207)\">0.055</th><th style=\"background:rgba(255.0, 13.0, 87.0, 0.03830461477520289)\">0.04</th><th style=\"background:rgba(255.0, 13.0, 87.0, 0.030421865715983164)\">0.03</th><th style=\"background:rgba(255.0, 13.0, 87.0, 0.02253911665676371)\">0.024</th><th style=\"background:rgba(255.0, 13.0, 87.0, 0.02253911665676371)\">0.022</th><th style=\"background:rgba(255.0, 13.0, 87.0, 0.02253911665676371)\">0.026</th><th style=\"background:rgba(255.0, 13.0, 87.0, 0.03830461477520289)\">0.034</th></tr><tr><th>The</th><th style=\"background:rgba(0.0, 0.0, 0.0, 0.0)\"></th><th style=\"background:rgba(0.0, 0.0, 0.0, 0.0)\"></th><th style=\"background:rgba(0.0, 0.0, 0.0, 0.0)\"></th><th style=\"background:rgba(0.0, 0.0, 0.0, 0.0)\"></th><th style=\"background:rgba(255.0, 13.0, 87.0, 0.08560110913052081)\">0.08</th><th style=\"background:rgba(255.0, 13.0, 87.0, 0.08560110913052081)\">0.078</th><th style=\"background:rgba(255.0, 13.0, 87.0, 0.06195286195286207)\">0.061</th><th style=\"background:rgba(255.0, 13.0, 87.0, 0.04618736383442265)\">0.041</th><th style=\"background:rgba(255.0, 13.0, 87.0, 0.03830461477520289)\">0.035</th><th style=\"background:rgba(255.0, 13.0, 87.0, 0.030421865715983164)\">0.033</th><th style=\"background:rgba(255.0, 13.0, 87.0, 0.04618736383442265)\">0.043</th><th style=\"background:rgba(255.0, 13.0, 87.0, 0.03830461477520289)\">0.036</th><th style=\"background:rgba(255.0, 13.0, 87.0, 0.030421865715983164)\">0.031</th><th style=\"background:rgba(255.0, 13.0, 87.0, 0.02253911665676371)\">0.025</th><th style=\"background:rgba(255.0, 13.0, 87.0, 0.014656367597544035)\">0.019</th><th style=\"background:rgba(255.0, 13.0, 87.0, 0.014656367597544035)\">0.018</th><th style=\"background:rgba(255.0, 13.0, 87.0, 0.014656367597544035)\">0.02</th><th style=\"background:rgba(255.0, 13.0, 87.0, 0.02253911665676371)\">0.022</th></tr><tr><th>first</th><th style=\"background:rgba(0.0, 0.0, 0.0, 0.0)\"></th><th style=\"background:rgba(0.0, 0.0, 0.0, 0.0)\"></th><th style=\"background:rgba(0.0, 0.0, 0.0, 0.0)\"></th><th style=\"background:rgba(0.0, 0.0, 0.0, 0.0)\"></th><th style=\"background:rgba(0.0, 0.0, 0.0, 0.0)\"></th><th style=\"background:rgba(255.0, 13.0, 87.0, 0.06195286195286207)\">0.054</th><th style=\"background:rgba(255.0, 13.0, 87.0, 0.06195286195286207)\">0.059</th><th style=\"background:rgba(255.0, 13.0, 87.0, 0.03830461477520289)\">0.037</th><th style=\"background:rgba(255.0, 13.0, 87.0, 0.030421865715983164)\">0.031</th><th style=\"background:rgba(255.0, 13.0, 87.0, 0.030421865715983164)\">0.032</th><th style=\"background:rgba(255.0, 13.0, 87.0, 0.02253911665676371)\">0.026</th><th style=\"background:rgba(255.0, 13.0, 87.0, 0.02253911665676371)\">0.022</th><th style=\"background:rgba(255.0, 13.0, 87.0, 0.014656367597544035)\">0.02</th><th style=\"background:rgba(255.0, 13.0, 87.0, 0.014656367597544035)\">0.014</th><th style=\"background:rgba(255.0, 13.0, 87.0, 0.00677361853832443)\">0.013</th><th style=\"background:rgba(255.0, 13.0, 87.0, 0.00677361853832443)\">0.012</th><th style=\"background:rgba(255.0, 13.0, 87.0, 0.00677361853832443)\">0.013</th><th style=\"background:rgba(255.0, 13.0, 87.0, 0.014656367597544035)\">0.014</th></tr><tr><th>thing</th><th style=\"background:rgba(0.0, 0.0, 0.0, 0.0)\"></th><th style=\"background:rgba(0.0, 0.0, 0.0, 0.0)\"></th><th style=\"background:rgba(0.0, 0.0, 0.0, 0.0)\"></th><th style=\"background:rgba(0.0, 0.0, 0.0, 0.0)\"></th><th style=\"background:rgba(0.0, 0.0, 0.0, 0.0)\"></th><th style=\"background:rgba(0.0, 0.0, 0.0, 0.0)\"></th><th style=\"background:rgba(255.0, 13.0, 87.0, 0.05407011289364243)\">0.052</th><th style=\"background:rgba(255.0, 13.0, 87.0, 0.06195286195286207)\">0.058</th><th style=\"background:rgba(255.0, 13.0, 87.0, 0.04618736383442265)\">0.044</th><th style=\"background:rgba(255.0, 13.0, 87.0, 0.04618736383442265)\">0.042</th><th style=\"background:rgba(255.0, 13.0, 87.0, 0.02253911665676371)\">0.026</th><th style=\"background:rgba(255.0, 13.0, 87.0, 0.014656367597544035)\">0.02</th><th style=\"background:rgba(255.0, 13.0, 87.0, 0.014656367597544035)\">0.017</th><th style=\"background:rgba(255.0, 13.0, 87.0, 0.014656367597544035)\">0.014</th><th style=\"background:rgba(255.0, 13.0, 87.0, 0.00677361853832443)\">0.013</th><th style=\"background:rgba(255.0, 13.0, 87.0, 0.00677361853832443)\">0.011</th><th style=\"background:rgba(255.0, 13.0, 87.0, 0.00677361853832443)\">0.011</th><th style=\"background:rgba(255.0, 13.0, 87.0, 0.00677361853832443)\">0.012</th></tr><tr><th>you</th><th style=\"background:rgba(0.0, 0.0, 0.0, 0.0)\"></th><th style=\"background:rgba(0.0, 0.0, 0.0, 0.0)\"></th><th style=\"background:rgba(0.0, 0.0, 0.0, 0.0)\"></th><th style=\"background:rgba(0.0, 0.0, 0.0, 0.0)\"></th><th style=\"background:rgba(0.0, 0.0, 0.0, 0.0)\"></th><th style=\"background:rgba(0.0, 0.0, 0.0, 0.0)\"></th><th style=\"background:rgba(0.0, 0.0, 0.0, 0.0)\"></th><th style=\"background:rgba(255.0, 13.0, 87.0, 0.06983561101208159)\">0.062</th><th style=\"background:rgba(255.0, 13.0, 87.0, 0.06195286195286207)\">0.06</th><th style=\"background:rgba(255.0, 13.0, 87.0, 0.03830461477520289)\">0.04</th><th style=\"background:rgba(255.0, 13.0, 87.0, 0.030421865715983164)\">0.03</th><th style=\"background:rgba(255.0, 13.0, 87.0, 0.02253911665676371)\">0.022</th><th style=\"background:rgba(255.0, 13.0, 87.0, 0.014656367597544035)\">0.018</th><th style=\"background:rgba(255.0, 13.0, 87.0, 0.014656367597544035)\">0.018</th><th style=\"background:rgba(255.0, 13.0, 87.0, 0.00677361853832443)\">0.013</th><th style=\"background:rgba(255.0, 13.0, 87.0, 0.00677361853832443)\">0.011</th><th style=\"background:rgba(255.0, 13.0, 87.0, 0.014656367597544035)\">0.015</th><th style=\"background:rgba(255.0, 13.0, 87.0, 0.014656367597544035)\">0.014</th></tr><tr><th>'ll</th><th style=\"background:rgba(0.0, 0.0, 0.0, 0.0)\"></th><th style=\"background:rgba(0.0, 0.0, 0.0, 0.0)\"></th><th style=\"background:rgba(0.0, 0.0, 0.0, 0.0)\"></th><th style=\"background:rgba(0.0, 0.0, 0.0, 0.0)\"></th><th style=\"background:rgba(0.0, 0.0, 0.0, 0.0)\"></th><th style=\"background:rgba(0.0, 0.0, 0.0, 0.0)\"></th><th style=\"background:rgba(0.0, 0.0, 0.0, 0.0)\"></th><th style=\"background:rgba(0.0, 0.0, 0.0, 0.0)\"></th><th style=\"background:rgba(255.0, 13.0, 87.0, 0.06195286195286207)\">0.056</th><th style=\"background:rgba(255.0, 13.0, 87.0, 0.05407011289364243)\">0.048</th><th style=\"background:rgba(255.0, 13.0, 87.0, 0.02253911665676371)\">0.027</th><th style=\"background:rgba(255.0, 13.0, 87.0, 0.02253911665676371)\">0.02</th><th style=\"background:rgba(255.0, 13.0, 87.0, 0.014656367597544035)\">0.015</th><th style=\"background:rgba(255.0, 13.0, 87.0, 0.014656367597544035)\">0.016</th><th style=\"background:rgba(255.0, 13.0, 87.0, 0.014656367597544035)\">0.014</th><th style=\"background:rgba(255.0, 13.0, 87.0, 0.00677361853832443)\">0.012</th><th style=\"background:rgba(255.0, 13.0, 87.0, 0.00677361853832443)\">0.013</th><th style=\"background:rgba(255.0, 13.0, 87.0, 0.00677361853832443)\">0.013</th></tr><tr><th>notice</th><th style=\"background:rgba(0.0, 0.0, 0.0, 0.0)\"></th><th style=\"background:rgba(0.0, 0.0, 0.0, 0.0)\"></th><th style=\"background:rgba(0.0, 0.0, 0.0, 0.0)\"></th><th style=\"background:rgba(0.0, 0.0, 0.0, 0.0)\"></th><th style=\"background:rgba(0.0, 0.0, 0.0, 0.0)\"></th><th style=\"background:rgba(0.0, 0.0, 0.0, 0.0)\"></th><th style=\"background:rgba(0.0, 0.0, 0.0, 0.0)\"></th><th style=\"background:rgba(0.0, 0.0, 0.0, 0.0)\"></th><th style=\"background:rgba(0.0, 0.0, 0.0, 0.0)\"></th><th style=\"background:rgba(255.0, 13.0, 87.0, 0.06195286195286207)\">0.06</th><th style=\"background:rgba(255.0, 13.0, 87.0, 0.06983561101208159)\">0.065</th><th style=\"background:rgba(255.0, 13.0, 87.0, 0.03830461477520289)\">0.04</th><th style=\"background:rgba(255.0, 13.0, 87.0, 0.030421865715983164)\">0.029</th><th style=\"background:rgba(255.0, 13.0, 87.0, 0.02253911665676371)\">0.025</th><th style=\"background:rgba(255.0, 13.0, 87.0, 0.02253911665676371)\">0.025</th><th style=\"background:rgba(255.0, 13.0, 87.0, 0.014656367597544035)\">0.019</th><th style=\"background:rgba(255.0, 13.0, 87.0, 0.014656367597544035)\">0.02</th><th style=\"background:rgba(255.0, 13.0, 87.0, 0.014656367597544035)\">0.017</th></tr><tr><th>is</th><th style=\"background:rgba(0.0, 0.0, 0.0, 0.0)\"></th><th style=\"background:rgba(0.0, 0.0, 0.0, 0.0)\"></th><th style=\"background:rgba(0.0, 0.0, 0.0, 0.0)\"></th><th style=\"background:rgba(0.0, 0.0, 0.0, 0.0)\"></th><th style=\"background:rgba(0.0, 0.0, 0.0, 0.0)\"></th><th style=\"background:rgba(0.0, 0.0, 0.0, 0.0)\"></th><th style=\"background:rgba(0.0, 0.0, 0.0, 0.0)\"></th><th style=\"background:rgba(0.0, 0.0, 0.0, 0.0)\"></th><th style=\"background:rgba(0.0, 0.0, 0.0, 0.0)\"></th><th style=\"background:rgba(0.0, 0.0, 0.0, 0.0)\"></th><th style=\"background:rgba(255.0, 13.0, 87.0, 0.08560110913052081)\">0.08</th><th style=\"background:rgba(255.0, 13.0, 87.0, 0.05407011289364243)\">0.053</th><th style=\"background:rgba(255.0, 13.0, 87.0, 0.030421865715983164)\">0.03</th><th style=\"background:rgba(255.0, 13.0, 87.0, 0.02253911665676371)\">0.026</th><th style=\"background:rgba(255.0, 13.0, 87.0, 0.030421865715983164)\">0.03</th><th style=\"background:rgba(255.0, 13.0, 87.0, 0.02253911665676371)\">0.022</th><th style=\"background:rgba(255.0, 13.0, 87.0, 0.02253911665676371)\">0.024</th><th style=\"background:rgba(255.0, 13.0, 87.0, 0.02253911665676371)\">0.022</th></tr><tr><th>that</th><th style=\"background:rgba(0.0, 0.0, 0.0, 0.0)\"></th><th style=\"background:rgba(0.0, 0.0, 0.0, 0.0)\"></th><th style=\"background:rgba(0.0, 0.0, 0.0, 0.0)\"></th><th style=\"background:rgba(0.0, 0.0, 0.0, 0.0)\"></th><th style=\"background:rgba(0.0, 0.0, 0.0, 0.0)\"></th><th style=\"background:rgba(0.0, 0.0, 0.0, 0.0)\"></th><th style=\"background:rgba(0.0, 0.0, 0.0, 0.0)\"></th><th style=\"background:rgba(0.0, 0.0, 0.0, 0.0)\"></th><th style=\"background:rgba(0.0, 0.0, 0.0, 0.0)\"></th><th style=\"background:rgba(0.0, 0.0, 0.0, 0.0)\"></th><th style=\"background:rgba(0.0, 0.0, 0.0, 0.0)\"></th><th style=\"background:rgba(255.0, 13.0, 87.0, 0.08560110913052081)\">0.075</th><th style=\"background:rgba(255.0, 13.0, 87.0, 0.06983561101208159)\">0.062</th><th style=\"background:rgba(255.0, 13.0, 87.0, 0.05407011289364243)\">0.048</th><th style=\"background:rgba(255.0, 13.0, 87.0, 0.04618736383442265)\">0.041</th><th style=\"background:rgba(255.0, 13.0, 87.0, 0.03830461477520289)\">0.035</th><th style=\"background:rgba(255.0, 13.0, 87.0, 0.03830461477520289)\">0.037</th><th style=\"background:rgba(255.0, 13.0, 87.0, 0.03830461477520289)\">0.034</th></tr><tr><th>the</th><th style=\"background:rgba(0.0, 0.0, 0.0, 0.0)\"></th><th style=\"background:rgba(0.0, 0.0, 0.0, 0.0)\"></th><th style=\"background:rgba(0.0, 0.0, 0.0, 0.0)\"></th><th style=\"background:rgba(0.0, 0.0, 0.0, 0.0)\"></th><th style=\"background:rgba(0.0, 0.0, 0.0, 0.0)\"></th><th style=\"background:rgba(0.0, 0.0, 0.0, 0.0)\"></th><th style=\"background:rgba(0.0, 0.0, 0.0, 0.0)\"></th><th style=\"background:rgba(0.0, 0.0, 0.0, 0.0)\"></th><th style=\"background:rgba(0.0, 0.0, 0.0, 0.0)\"></th><th style=\"background:rgba(0.0, 0.0, 0.0, 0.0)\"></th><th style=\"background:rgba(0.0, 0.0, 0.0, 0.0)\"></th><th style=\"background:rgba(0.0, 0.0, 0.0, 0.0)\"></th><th style=\"background:rgba(255.0, 13.0, 87.0, 0.07771836007130124)\">0.071</th><th style=\"background:rgba(255.0, 13.0, 87.0, 0.06195286195286207)\">0.059</th><th style=\"background:rgba(255.0, 13.0, 87.0, 0.03830461477520289)\">0.039</th><th style=\"background:rgba(255.0, 13.0, 87.0, 0.030421865715983164)\">0.032</th><th style=\"background:rgba(255.0, 13.0, 87.0, 0.030421865715983164)\">0.029</th><th style=\"background:rgba(255.0, 13.0, 87.0, 0.030421865715983164)\">0.028</th></tr><tr><th>code</th><th style=\"background:rgba(0.0, 0.0, 0.0, 0.0)\"></th><th style=\"background:rgba(0.0, 0.0, 0.0, 0.0)\"></th><th style=\"background:rgba(0.0, 0.0, 0.0, 0.0)\"></th><th style=\"background:rgba(0.0, 0.0, 0.0, 0.0)\"></th><th style=\"background:rgba(0.0, 0.0, 0.0, 0.0)\"></th><th style=\"background:rgba(0.0, 0.0, 0.0, 0.0)\"></th><th style=\"background:rgba(0.0, 0.0, 0.0, 0.0)\"></th><th style=\"background:rgba(0.0, 0.0, 0.0, 0.0)\"></th><th style=\"background:rgba(0.0, 0.0, 0.0, 0.0)\"></th><th style=\"background:rgba(0.0, 0.0, 0.0, 0.0)\"></th><th style=\"background:rgba(0.0, 0.0, 0.0, 0.0)\"></th><th style=\"background:rgba(0.0, 0.0, 0.0, 0.0)\"></th><th style=\"background:rgba(0.0, 0.0, 0.0, 0.0)\"></th><th style=\"background:rgba(255.0, 13.0, 87.0, 0.06983561101208159)\">0.062</th><th style=\"background:rgba(255.0, 13.0, 87.0, 0.07771836007130124)\">0.072</th><th style=\"background:rgba(255.0, 13.0, 87.0, 0.05407011289364243)\">0.052</th><th style=\"background:rgba(255.0, 13.0, 87.0, 0.06195286195286207)\">0.054</th><th style=\"background:rgba(255.0, 13.0, 87.0, 0.04618736383442265)\">0.046</th></tr><tr><th>is</th><th style=\"background:rgba(0.0, 0.0, 0.0, 0.0)\"></th><th style=\"background:rgba(0.0, 0.0, 0.0, 0.0)\"></th><th style=\"background:rgba(0.0, 0.0, 0.0, 0.0)\"></th><th style=\"background:rgba(0.0, 0.0, 0.0, 0.0)\"></th><th style=\"background:rgba(0.0, 0.0, 0.0, 0.0)\"></th><th style=\"background:rgba(0.0, 0.0, 0.0, 0.0)\"></th><th style=\"background:rgba(0.0, 0.0, 0.0, 0.0)\"></th><th style=\"background:rgba(0.0, 0.0, 0.0, 0.0)\"></th><th style=\"background:rgba(0.0, 0.0, 0.0, 0.0)\"></th><th style=\"background:rgba(0.0, 0.0, 0.0, 0.0)\"></th><th style=\"background:rgba(0.0, 0.0, 0.0, 0.0)\"></th><th style=\"background:rgba(0.0, 0.0, 0.0, 0.0)\"></th><th style=\"background:rgba(0.0, 0.0, 0.0, 0.0)\"></th><th style=\"background:rgba(0.0, 0.0, 0.0, 0.0)\"></th><th style=\"background:rgba(255.0, 13.0, 87.0, 0.07771836007130124)\">0.069</th><th style=\"background:rgba(255.0, 13.0, 87.0, 0.06983561101208159)\">0.066</th><th style=\"background:rgba(255.0, 13.0, 87.0, 0.05407011289364243)\">0.051</th><th style=\"background:rgba(255.0, 13.0, 87.0, 0.030421865715983164)\">0.031</th></tr><tr><th>very</th><th style=\"background:rgba(0.0, 0.0, 0.0, 0.0)\"></th><th style=\"background:rgba(0.0, 0.0, 0.0, 0.0)\"></th><th style=\"background:rgba(0.0, 0.0, 0.0, 0.0)\"></th><th style=\"background:rgba(0.0, 0.0, 0.0, 0.0)\"></th><th style=\"background:rgba(0.0, 0.0, 0.0, 0.0)\"></th><th style=\"background:rgba(0.0, 0.0, 0.0, 0.0)\"></th><th style=\"background:rgba(0.0, 0.0, 0.0, 0.0)\"></th><th style=\"background:rgba(0.0, 0.0, 0.0, 0.0)\"></th><th style=\"background:rgba(0.0, 0.0, 0.0, 0.0)\"></th><th style=\"background:rgba(0.0, 0.0, 0.0, 0.0)\"></th><th style=\"background:rgba(0.0, 0.0, 0.0, 0.0)\"></th><th style=\"background:rgba(0.0, 0.0, 0.0, 0.0)\"></th><th style=\"background:rgba(0.0, 0.0, 0.0, 0.0)\"></th><th style=\"background:rgba(0.0, 0.0, 0.0, 0.0)\"></th><th style=\"background:rgba(0.0, 0.0, 0.0, 0.0)\"></th><th style=\"background:rgba(255.0, 13.0, 87.0, 0.05407011289364243)\">0.054</th><th style=\"background:rgba(255.0, 13.0, 87.0, 0.05407011289364243)\">0.048</th><th style=\"background:rgba(255.0, 13.0, 87.0, 0.02253911665676371)\">0.024</th></tr><tr><th>simple</th><th style=\"background:rgba(0.0, 0.0, 0.0, 0.0)\"></th><th style=\"background:rgba(0.0, 0.0, 0.0, 0.0)\"></th><th style=\"background:rgba(0.0, 0.0, 0.0, 0.0)\"></th><th style=\"background:rgba(0.0, 0.0, 0.0, 0.0)\"></th><th style=\"background:rgba(0.0, 0.0, 0.0, 0.0)\"></th><th style=\"background:rgba(0.0, 0.0, 0.0, 0.0)\"></th><th style=\"background:rgba(0.0, 0.0, 0.0, 0.0)\"></th><th style=\"background:rgba(0.0, 0.0, 0.0, 0.0)\"></th><th style=\"background:rgba(0.0, 0.0, 0.0, 0.0)\"></th><th style=\"background:rgba(0.0, 0.0, 0.0, 0.0)\"></th><th style=\"background:rgba(0.0, 0.0, 0.0, 0.0)\"></th><th style=\"background:rgba(0.0, 0.0, 0.0, 0.0)\"></th><th style=\"background:rgba(0.0, 0.0, 0.0, 0.0)\"></th><th style=\"background:rgba(0.0, 0.0, 0.0, 0.0)\"></th><th style=\"background:rgba(0.0, 0.0, 0.0, 0.0)\"></th><th style=\"background:rgba(0.0, 0.0, 0.0, 0.0)\"></th><th style=\"background:rgba(255.0, 13.0, 87.0, 0.06983561101208159)\">0.061</th><th style=\"background:rgba(255.0, 13.0, 87.0, 0.05407011289364243)\">0.053</th></tr><tr><th>.</th><th style=\"background:rgba(0.0, 0.0, 0.0, 0.0)\"></th><th style=\"background:rgba(0.0, 0.0, 0.0, 0.0)\"></th><th style=\"background:rgba(0.0, 0.0, 0.0, 0.0)\"></th><th style=\"background:rgba(0.0, 0.0, 0.0, 0.0)\"></th><th style=\"background:rgba(0.0, 0.0, 0.0, 0.0)\"></th><th style=\"background:rgba(0.0, 0.0, 0.0, 0.0)\"></th><th style=\"background:rgba(0.0, 0.0, 0.0, 0.0)\"></th><th style=\"background:rgba(0.0, 0.0, 0.0, 0.0)\"></th><th style=\"background:rgba(0.0, 0.0, 0.0, 0.0)\"></th><th style=\"background:rgba(0.0, 0.0, 0.0, 0.0)\"></th><th style=\"background:rgba(0.0, 0.0, 0.0, 0.0)\"></th><th style=\"background:rgba(0.0, 0.0, 0.0, 0.0)\"></th><th style=\"background:rgba(0.0, 0.0, 0.0, 0.0)\"></th><th style=\"background:rgba(0.0, 0.0, 0.0, 0.0)\"></th><th style=\"background:rgba(0.0, 0.0, 0.0, 0.0)\"></th><th style=\"background:rgba(0.0, 0.0, 0.0, 0.0)\"></th><th style=\"background:rgba(0.0, 0.0, 0.0, 0.0)\"></th><th style=\"background:rgba(255.0, 13.0, 87.0, 0.1171321053673995)\">0.107</th></tr><tr><th>It</th><th style=\"background:rgba(0.0, 0.0, 0.0, 0.0)\"></th><th style=\"background:rgba(0.0, 0.0, 0.0, 0.0)\"></th><th style=\"background:rgba(0.0, 0.0, 0.0, 0.0)\"></th><th style=\"background:rgba(0.0, 0.0, 0.0, 0.0)\"></th><th style=\"background:rgba(0.0, 0.0, 0.0, 0.0)\"></th><th style=\"background:rgba(0.0, 0.0, 0.0, 0.0)\"></th><th style=\"background:rgba(0.0, 0.0, 0.0, 0.0)\"></th><th style=\"background:rgba(0.0, 0.0, 0.0, 0.0)\"></th><th style=\"background:rgba(0.0, 0.0, 0.0, 0.0)\"></th><th style=\"background:rgba(0.0, 0.0, 0.0, 0.0)\"></th><th style=\"background:rgba(0.0, 0.0, 0.0, 0.0)\"></th><th style=\"background:rgba(0.0, 0.0, 0.0, 0.0)\"></th><th style=\"background:rgba(0.0, 0.0, 0.0, 0.0)\"></th><th style=\"background:rgba(0.0, 0.0, 0.0, 0.0)\"></th><th style=\"background:rgba(0.0, 0.0, 0.0, 0.0)\"></th><th style=\"background:rgba(0.0, 0.0, 0.0, 0.0)\"></th><th style=\"background:rgba(0.0, 0.0, 0.0, 0.0)\"></th><th style=\"background:rgba(0.0, 0.0, 0.0, 0.0)\"></th></tr><tr style=\"outline: thin solid\"><th><b>probability</b></th><th>0.197</th><th>0.097</th><th><b>0.986</b></th><th>0.043</th><th>0.045</th><th>0.211</th><th>0.247</th><th>0.249</th><th><b>0.512</b></th><th><b>0.577</b></th><th><b>0.661</b></th><th>0.256</th><th>0.045</th><th>0.476</th><th>0.102</th><th>0.182</th><th><b>0.555</b></th><th>0.125</th></table>\n",
       "</div>\n",
       "\n",
       "        </div>\n",
       "    </div>\n",
       "</div>\n",
       "</html>\n"
      ],
      "text/plain": [
       "<IPython.core.display.HTML object>"
      ]
     },
     "metadata": {},
     "output_type": "display_data"
    }
   ],
   "source": [
    "import inseq\n",
    "\n",
    "\n",
    "# 定义要使用的归因方法列表\n",
    "attribution_methods = ['saliency', 'attention']\n",
    "\n",
    "for method in attribution_methods:\n",
    "    print(f\"======= 归因方法: {method} =======\")\n",
    "    # 使用指定的归因方法加载模型\n",
    "    inseq_model = inseq.load_model(model, method)\n",
    "\n",
    "    # 对输入文本进行归因分析\n",
    "    attribution_result = inseq_model.attribute(\n",
    "        input_texts=\"Hello world\",\n",
    "        step_scores=[\"probability\"],\n",
    "\n",
    "    )\n",
    "\n",
    "    # 清理 tokenizer 中的特殊字符（可选）\n",
    "    for attr in attribution_result.sequence_attributions:\n",
    "        for item in attr.source:\n",
    "            item.token = item.token.replace('Ġ', '')\n",
    "        for item in attr.target:\n",
    "            item.token = item.token.replace('Ġ', '')\n",
    "\n",
    "    # 显示归因结果\n",
    "    # 注意是一个个生成的  所以相关性是阶梯状的\n",
    "    attribution_result.show()"
   ]
  },
  {
   "cell_type": "code",
   "execution_count": 1,
   "id": "L1cHlkVPN3GP",
   "metadata": {
    "id": "L1cHlkVPN3GP"
   },
   "outputs": [],
   "source": []
  }
 ],
 "metadata": {
  "colab": {
   "provenance": []
  },
  "kernelspec": {
   "display_name": "Python 3 (ipykernel)",
   "language": "python",
   "name": "python3"
  },
  "language_info": {
   "codemirror_mode": {
    "name": "ipython",
    "version": 3
   },
   "file_extension": ".py",
   "mimetype": "text/x-python",
   "name": "python",
   "nbconvert_exporter": "python",
   "pygments_lexer": "ipython3",
   "version": "3.9.13"
  },
  "widgets": {
   "application/vnd.jupyter.widget-state+json": {
    "07a47c6f45284cfd84b2660adf311c8f": {
     "model_module": "@jupyter-widgets/base",
     "model_module_version": "1.2.0",
     "model_name": "LayoutModel",
     "state": {
      "_model_module": "@jupyter-widgets/base",
      "_model_module_version": "1.2.0",
      "_model_name": "LayoutModel",
      "_view_count": null,
      "_view_module": "@jupyter-widgets/base",
      "_view_module_version": "1.2.0",
      "_view_name": "LayoutView",
      "align_content": null,
      "align_items": null,
      "align_self": null,
      "border": null,
      "bottom": null,
      "display": null,
      "flex": null,
      "flex_flow": null,
      "grid_area": null,
      "grid_auto_columns": null,
      "grid_auto_flow": null,
      "grid_auto_rows": null,
      "grid_column": null,
      "grid_gap": null,
      "grid_row": null,
      "grid_template_areas": null,
      "grid_template_columns": null,
      "grid_template_rows": null,
      "height": null,
      "justify_content": null,
      "justify_items": null,
      "left": null,
      "margin": null,
      "max_height": null,
      "max_width": null,
      "min_height": null,
      "min_width": null,
      "object_fit": null,
      "object_position": null,
      "order": null,
      "overflow": null,
      "overflow_x": null,
      "overflow_y": null,
      "padding": null,
      "right": null,
      "top": null,
      "visibility": null,
      "width": null
     }
    },
    "07e5b6219e854ce7bd9d0ca12dd4ebed": {
     "model_module": "@jupyter-widgets/base",
     "model_module_version": "1.2.0",
     "model_name": "LayoutModel",
     "state": {
      "_model_module": "@jupyter-widgets/base",
      "_model_module_version": "1.2.0",
      "_model_name": "LayoutModel",
      "_view_count": null,
      "_view_module": "@jupyter-widgets/base",
      "_view_module_version": "1.2.0",
      "_view_name": "LayoutView",
      "align_content": null,
      "align_items": null,
      "align_self": null,
      "border": null,
      "bottom": null,
      "display": null,
      "flex": null,
      "flex_flow": null,
      "grid_area": null,
      "grid_auto_columns": null,
      "grid_auto_flow": null,
      "grid_auto_rows": null,
      "grid_column": null,
      "grid_gap": null,
      "grid_row": null,
      "grid_template_areas": null,
      "grid_template_columns": null,
      "grid_template_rows": null,
      "height": null,
      "justify_content": null,
      "justify_items": null,
      "left": null,
      "margin": null,
      "max_height": null,
      "max_width": null,
      "min_height": null,
      "min_width": null,
      "object_fit": null,
      "object_position": null,
      "order": null,
      "overflow": null,
      "overflow_x": null,
      "overflow_y": null,
      "padding": null,
      "right": null,
      "top": null,
      "visibility": null,
      "width": null
     }
    },
    "1522142d31c04fa3ac4662f8aed75c84": {
     "model_module": "@jupyter-widgets/controls",
     "model_module_version": "1.5.0",
     "model_name": "HTMLModel",
     "state": {
      "_dom_classes": [],
      "_model_module": "@jupyter-widgets/controls",
      "_model_module_version": "1.5.0",
      "_model_name": "HTMLModel",
      "_view_count": null,
      "_view_module": "@jupyter-widgets/controls",
      "_view_module_version": "1.5.0",
      "_view_name": "HTMLView",
      "description": "",
      "description_tooltip": null,
      "layout": "IPY_MODEL_15d7bd9bf6ef49f89a923ba5b46e256d",
      "placeholder": "​",
      "style": "IPY_MODEL_1bb240f8450e451cb42c13a99526700d",
      "value": " 689/689 [00:00&lt;00:00, 39.4kB/s]"
     }
    },
    "15d7bd9bf6ef49f89a923ba5b46e256d": {
     "model_module": "@jupyter-widgets/base",
     "model_module_version": "1.2.0",
     "model_name": "LayoutModel",
     "state": {
      "_model_module": "@jupyter-widgets/base",
      "_model_module_version": "1.2.0",
      "_model_name": "LayoutModel",
      "_view_count": null,
      "_view_module": "@jupyter-widgets/base",
      "_view_module_version": "1.2.0",
      "_view_name": "LayoutView",
      "align_content": null,
      "align_items": null,
      "align_self": null,
      "border": null,
      "bottom": null,
      "display": null,
      "flex": null,
      "flex_flow": null,
      "grid_area": null,
      "grid_auto_columns": null,
      "grid_auto_flow": null,
      "grid_auto_rows": null,
      "grid_column": null,
      "grid_gap": null,
      "grid_row": null,
      "grid_template_areas": null,
      "grid_template_columns": null,
      "grid_template_rows": null,
      "height": null,
      "justify_content": null,
      "justify_items": null,
      "left": null,
      "margin": null,
      "max_height": null,
      "max_width": null,
      "min_height": null,
      "min_width": null,
      "object_fit": null,
      "object_position": null,
      "order": null,
      "overflow": null,
      "overflow_x": null,
      "overflow_y": null,
      "padding": null,
      "right": null,
      "top": null,
      "visibility": null,
      "width": null
     }
    },
    "1bb240f8450e451cb42c13a99526700d": {
     "model_module": "@jupyter-widgets/controls",
     "model_module_version": "1.5.0",
     "model_name": "DescriptionStyleModel",
     "state": {
      "_model_module": "@jupyter-widgets/controls",
      "_model_module_version": "1.5.0",
      "_model_name": "DescriptionStyleModel",
      "_view_count": null,
      "_view_module": "@jupyter-widgets/base",
      "_view_module_version": "1.2.0",
      "_view_name": "StyleView",
      "description_width": ""
     }
    },
    "29bff5238b8948b0a55aa187e1db7916": {
     "model_module": "@jupyter-widgets/controls",
     "model_module_version": "1.5.0",
     "model_name": "HBoxModel",
     "state": {
      "_dom_classes": [],
      "_model_module": "@jupyter-widgets/controls",
      "_model_module_version": "1.5.0",
      "_model_name": "HBoxModel",
      "_view_count": null,
      "_view_module": "@jupyter-widgets/controls",
      "_view_module_version": "1.5.0",
      "_view_name": "HBoxView",
      "box_style": "",
      "children": [
       "IPY_MODEL_38a2a7cbfaa34a97a3bb82a1bd37756c",
       "IPY_MODEL_3b6efddcf5934c7882ab8dbb5ef07f21",
       "IPY_MODEL_1522142d31c04fa3ac4662f8aed75c84"
      ],
      "layout": "IPY_MODEL_07a47c6f45284cfd84b2660adf311c8f"
     }
    },
    "38a2a7cbfaa34a97a3bb82a1bd37756c": {
     "model_module": "@jupyter-widgets/controls",
     "model_module_version": "1.5.0",
     "model_name": "HTMLModel",
     "state": {
      "_dom_classes": [],
      "_model_module": "@jupyter-widgets/controls",
      "_model_module_version": "1.5.0",
      "_model_name": "HTMLModel",
      "_view_count": null,
      "_view_module": "@jupyter-widgets/controls",
      "_view_module_version": "1.5.0",
      "_view_name": "HTMLView",
      "description": "",
      "description_tooltip": null,
      "layout": "IPY_MODEL_07e5b6219e854ce7bd9d0ca12dd4ebed",
      "placeholder": "​",
      "style": "IPY_MODEL_6184c7dd21a54a6dbe5210f4bebedc84",
      "value": "config.json: 100%"
     }
    },
    "3b6efddcf5934c7882ab8dbb5ef07f21": {
     "model_module": "@jupyter-widgets/controls",
     "model_module_version": "1.5.0",
     "model_name": "FloatProgressModel",
     "state": {
      "_dom_classes": [],
      "_model_module": "@jupyter-widgets/controls",
      "_model_module_version": "1.5.0",
      "_model_name": "FloatProgressModel",
      "_view_count": null,
      "_view_module": "@jupyter-widgets/controls",
      "_view_module_version": "1.5.0",
      "_view_name": "ProgressView",
      "bar_style": "success",
      "description": "",
      "description_tooltip": null,
      "layout": "IPY_MODEL_47f4959d6b8a43a6a053cf853a5d32ee",
      "max": 689,
      "min": 0,
      "orientation": "horizontal",
      "style": "IPY_MODEL_b0989084e9724bd1918cb5611777c056",
      "value": 689
     }
    },
    "47f4959d6b8a43a6a053cf853a5d32ee": {
     "model_module": "@jupyter-widgets/base",
     "model_module_version": "1.2.0",
     "model_name": "LayoutModel",
     "state": {
      "_model_module": "@jupyter-widgets/base",
      "_model_module_version": "1.2.0",
      "_model_name": "LayoutModel",
      "_view_count": null,
      "_view_module": "@jupyter-widgets/base",
      "_view_module_version": "1.2.0",
      "_view_name": "LayoutView",
      "align_content": null,
      "align_items": null,
      "align_self": null,
      "border": null,
      "bottom": null,
      "display": null,
      "flex": null,
      "flex_flow": null,
      "grid_area": null,
      "grid_auto_columns": null,
      "grid_auto_flow": null,
      "grid_auto_rows": null,
      "grid_column": null,
      "grid_gap": null,
      "grid_row": null,
      "grid_template_areas": null,
      "grid_template_columns": null,
      "grid_template_rows": null,
      "height": null,
      "justify_content": null,
      "justify_items": null,
      "left": null,
      "margin": null,
      "max_height": null,
      "max_width": null,
      "min_height": null,
      "min_width": null,
      "object_fit": null,
      "object_position": null,
      "order": null,
      "overflow": null,
      "overflow_x": null,
      "overflow_y": null,
      "padding": null,
      "right": null,
      "top": null,
      "visibility": null,
      "width": null
     }
    },
    "6184c7dd21a54a6dbe5210f4bebedc84": {
     "model_module": "@jupyter-widgets/controls",
     "model_module_version": "1.5.0",
     "model_name": "DescriptionStyleModel",
     "state": {
      "_model_module": "@jupyter-widgets/controls",
      "_model_module_version": "1.5.0",
      "_model_name": "DescriptionStyleModel",
      "_view_count": null,
      "_view_module": "@jupyter-widgets/base",
      "_view_module_version": "1.2.0",
      "_view_name": "StyleView",
      "description_width": ""
     }
    },
    "b0989084e9724bd1918cb5611777c056": {
     "model_module": "@jupyter-widgets/controls",
     "model_module_version": "1.5.0",
     "model_name": "ProgressStyleModel",
     "state": {
      "_model_module": "@jupyter-widgets/controls",
      "_model_module_version": "1.5.0",
      "_model_name": "ProgressStyleModel",
      "_view_count": null,
      "_view_module": "@jupyter-widgets/base",
      "_view_module_version": "1.2.0",
      "_view_name": "StyleView",
      "bar_color": null,
      "description_width": ""
     }
    }
   }
  }
 },
 "nbformat": 4,
 "nbformat_minor": 5
}
